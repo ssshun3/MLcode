{
 "cells": [
  {
   "cell_type": "markdown",
   "metadata": {
    "collapsed": true
   },
   "source": [
    "# 主成分分析\n",
    "- scikit-learnのPCAクラスを用いて主成分分析を実装しよう\n",
    "- 寄与率を確認しながら、データの次元削減を行ってみよう\n"
   ]
  },
  {
   "cell_type": "markdown",
   "metadata": {},
   "source": [
    "## 1. ライブラリの読み込み"
   ]
  },
  {
   "cell_type": "code",
   "execution_count": 1,
   "metadata": {},
   "outputs": [],
   "source": [
    "%matplotlib inline\n",
    "import numpy as np\n",
    "import pandas as pd\n",
    "import matplotlib.pyplot as plt\n",
    "import seaborn as sns\n",
    "\n",
    "# 標準化\n",
    "from sklearn.preprocessing import StandardScaler\n",
    "# 主成分分析（Principal Component Analysis; PCA）\n",
    "from sklearn.decomposition import PCA \n"
   ]
  },
  {
   "cell_type": "markdown",
   "metadata": {},
   "source": [
    "## 2. 疑似データに対する分析"
   ]
  },
  {
   "cell_type": "markdown",
   "metadata": {},
   "source": [
    "### 2-1. 疑似データの作成\n",
    "- 生徒20人分の数学と物理のテスト結果"
   ]
  },
  {
   "cell_type": "code",
   "execution_count": 2,
   "metadata": {},
   "outputs": [
    {
     "data": {
      "text/html": [
       "<div>\n",
       "<style scoped>\n",
       "    .dataframe tbody tr th:only-of-type {\n",
       "        vertical-align: middle;\n",
       "    }\n",
       "\n",
       "    .dataframe tbody tr th {\n",
       "        vertical-align: top;\n",
       "    }\n",
       "\n",
       "    .dataframe thead th {\n",
       "        text-align: right;\n",
       "    }\n",
       "</style>\n",
       "<table border=\"1\" class=\"dataframe\">\n",
       "  <thead>\n",
       "    <tr style=\"text-align: right;\">\n",
       "      <th></th>\n",
       "      <th>math</th>\n",
       "      <th>physics</th>\n",
       "      <th>total</th>\n",
       "    </tr>\n",
       "    <tr>\n",
       "      <th>id</th>\n",
       "      <th></th>\n",
       "      <th></th>\n",
       "      <th></th>\n",
       "    </tr>\n",
       "  </thead>\n",
       "  <tbody>\n",
       "    <tr>\n",
       "      <th>0</th>\n",
       "      <td>41</td>\n",
       "      <td>26</td>\n",
       "      <td>67</td>\n",
       "    </tr>\n",
       "    <tr>\n",
       "      <th>1</th>\n",
       "      <td>37</td>\n",
       "      <td>32</td>\n",
       "      <td>69</td>\n",
       "    </tr>\n",
       "    <tr>\n",
       "      <th>2</th>\n",
       "      <td>40</td>\n",
       "      <td>31</td>\n",
       "      <td>71</td>\n",
       "    </tr>\n",
       "    <tr>\n",
       "      <th>3</th>\n",
       "      <td>30</td>\n",
       "      <td>24</td>\n",
       "      <td>54</td>\n",
       "    </tr>\n",
       "    <tr>\n",
       "      <th>4</th>\n",
       "      <td>40</td>\n",
       "      <td>60</td>\n",
       "      <td>100</td>\n",
       "    </tr>\n",
       "  </tbody>\n",
       "</table>\n",
       "</div>"
      ],
      "text/plain": [
       "    math  physics  total\n",
       "id                      \n",
       "0     41       26     67\n",
       "1     37       32     69\n",
       "2     40       31     71\n",
       "3     30       24     54\n",
       "4     40       60    100"
      ]
     },
     "execution_count": 2,
     "metadata": {},
     "output_type": "execute_result"
    }
   ],
   "source": [
    "# データフレームの作成\n",
    "df_test = pd.DataFrame({\n",
    "    \"math\":[41,37,40,30,40,60,46,61,67,68,55,61,59,66,69,54,50,35,80,75],\n",
    "    \"physics\":[26,32,31,24,60,40,26,27,33,25,26,30,29,37,41,36,31,29,36,34]\n",
    "})\n",
    "\n",
    "# 行番号をIDとして設定\n",
    "df_test.index.name = \"id\"\n",
    "\n",
    "# 点数の合計を表す列を追加\n",
    "df_test[\"total\"] = df_test[\"math\"]  + df_test[\"physics\"]\n",
    "df_test.head()"
   ]
  },
  {
   "cell_type": "markdown",
   "metadata": {},
   "source": [
    "### 2-2. データの可視化"
   ]
  },
  {
   "cell_type": "code",
   "execution_count": 3,
   "metadata": {},
   "outputs": [
    {
     "data": {
      "image/png": "[encoded data removed]",
      "text/plain": [
       "<Figure size 640x480 with 1 Axes>"
      ]
     },
     "metadata": {},
     "output_type": "display_data"
    }
   ],
   "source": [
    "# 散布図の表示\n",
    "sns.scatterplot(x='math', y='physics', data=df_test)\n",
    "\n",
    "# 表示範囲の調整\n",
    "plt.xlim(0, 100)\n",
    "plt.ylim(0, 100)\n",
    "plt.show()"
   ]
  },
  {
   "cell_type": "markdown",
   "metadata": {},
   "source": [
    "- mathとphysicsの値には、正の相関が見られる\n",
    "    - 数学のテスト結果があれば、物理のテスト結果を推測できる\n",
    "    - 逆に、物理のテスト結果があれば、数学のテスト結果を推測できる\n",
    "- この2つの変数を1つにまとめてしまっても元々の情報は損なわれない\n",
    "- 2つの変数(2次元)を1つの変数(1次元)にまとめる(削減)するために、**主成分分析**を用いる"
   ]
  },
  {
   "cell_type": "markdown",
   "metadata": {},
   "source": [
    "### 2-3. 主成分分析の実行\n",
    "- [PCA()](https://scikit-learn.org/stable/modules/generated/sklearn.decomposition.PCA.html)を用いて主成分分析を実行"
   ]
  },
  {
   "cell_type": "code",
   "execution_count": 4,
   "metadata": {},
   "outputs": [
    {
     "data": {
      "text/html": [
       "<style>#sk-container-id-1 {color: black;}#sk-container-id-1 pre{padding: 0;}#sk-container-id-1 div.sk-toggleable {background-color: white;}#sk-container-id-1 label.sk-toggleable__label {cursor: pointer;display: block;width: 100%;margin-bottom: 0;padding: 0.3em;box-sizing: border-box;text-align: center;}#sk-container-id-1 label.sk-toggleable__label-arrow:before {content: \"▸\";float: left;margin-right: 0.25em;color: #696969;}#sk-container-id-1 label.sk-toggleable__label-arrow:hover:before {color: black;}#sk-container-id-1 div.sk-estimator:hover label.sk-toggleable__label-arrow:before {color: black;}#sk-container-id-1 div.sk-toggleable__content {max-height: 0;max-width: 0;overflow: hidden;text-align: left;background-color: #f0f8ff;}#sk-container-id-1 div.sk-toggleable__content pre {margin: 0.2em;color: black;border-radius: 0.25em;background-color: #f0f8ff;}#sk-container-id-1 input.sk-toggleable__control:checked~div.sk-toggleable__content {max-height: 200px;max-width: 100%;overflow: auto;}#sk-container-id-1 input.sk-toggleable__control:checked~label.sk-toggleable__label-arrow:before {content: \"▾\";}#sk-container-id-1 div.sk-estimator input.sk-toggleable__control:checked~label.sk-toggleable__label {background-color: #d4ebff;}#sk-container-id-1 div.sk-label input.sk-toggleable__control:checked~label.sk-toggleable__label {background-color: #d4ebff;}#sk-container-id-1 input.sk-hidden--visually {border: 0;clip: rect(1px 1px 1px 1px);clip: rect(1px, 1px, 1px, 1px);height: 1px;margin: -1px;overflow: hidden;padding: 0;position: absolute;width: 1px;}#sk-container-id-1 div.sk-estimator {font-family: monospace;background-color: #f0f8ff;border: 1px dotted black;border-radius: 0.25em;box-sizing: border-box;margin-bottom: 0.5em;}#sk-container-id-1 div.sk-estimator:hover {background-color: #d4ebff;}#sk-container-id-1 div.sk-parallel-item::after {content: \"\";width: 100%;border-bottom: 1px solid gray;flex-grow: 1;}#sk-container-id-1 div.sk-label:hover label.sk-toggleable__label {background-color: #d4ebff;}#sk-container-id-1 div.sk-serial::before {content: \"\";position: absolute;border-left: 1px solid gray;box-sizing: border-box;top: 0;bottom: 0;left: 50%;z-index: 0;}#sk-container-id-1 div.sk-serial {display: flex;flex-direction: column;align-items: center;background-color: white;padding-right: 0.2em;padding-left: 0.2em;position: relative;}#sk-container-id-1 div.sk-item {position: relative;z-index: 1;}#sk-container-id-1 div.sk-parallel {display: flex;align-items: stretch;justify-content: center;background-color: white;position: relative;}#sk-container-id-1 div.sk-item::before, #sk-container-id-1 div.sk-parallel-item::before {content: \"\";position: absolute;border-left: 1px solid gray;box-sizing: border-box;top: 0;bottom: 0;left: 50%;z-index: -1;}#sk-container-id-1 div.sk-parallel-item {display: flex;flex-direction: column;z-index: 1;position: relative;background-color: white;}#sk-container-id-1 div.sk-parallel-item:first-child::after {align-self: flex-end;width: 50%;}#sk-container-id-1 div.sk-parallel-item:last-child::after {align-self: flex-start;width: 50%;}#sk-container-id-1 div.sk-parallel-item:only-child::after {width: 0;}#sk-container-id-1 div.sk-dashed-wrapped {border: 1px dashed gray;margin: 0 0.4em 0.5em 0.4em;box-sizing: border-box;padding-bottom: 0.4em;background-color: white;}#sk-container-id-1 div.sk-label label {font-family: monospace;font-weight: bold;display: inline-block;line-height: 1.2em;}#sk-container-id-1 div.sk-label-container {text-align: center;}#sk-container-id-1 div.sk-container {/* jupyter's `normalize.less` sets `[hidden] { display: none; }` but bootstrap.min.css set `[hidden] { display: none !important; }` so we also need the `!important` here to be able to override the default hidden behavior on the sphinx rendered scikit-learn.org. See: https://github.com/scikit-learn/scikit-learn/issues/21755 */display: inline-block !important;position: relative;}#sk-container-id-1 div.sk-text-repr-fallback {display: none;}</style><div id=\"sk-container-id-1\" class=\"sk-top-container\"><div class=\"sk-text-repr-fallback\"><pre>PCA(n_components=2)</pre><b>In a Jupyter environment, please rerun this cell to show the HTML representation or trust the notebook. <br />On GitHub, the HTML representation is unable to render, please try loading this page with nbviewer.org.</b></div><div class=\"sk-container\" hidden><div class=\"sk-item\"><div class=\"sk-estimator sk-toggleable\"><input class=\"sk-toggleable__control sk-hidden--visually\" id=\"sk-estimator-id-1\" type=\"checkbox\" checked><label for=\"sk-estimator-id-1\" class=\"sk-toggleable__label sk-toggleable__label-arrow\">PCA</label><div class=\"sk-toggleable__content\"><pre>PCA(n_components=2)</pre></div></div></div></div></div>"
      ],
      "text/plain": [
       "PCA(n_components=2)"
      ]
     },
     "execution_count": 4,
     "metadata": {},
     "output_type": "execute_result"
    }
   ],
   "source": [
    "# 変数を配列に変換\n",
    "X = df_test[[\"math\",\"physics\"]].values\n",
    "\n",
    "# 主成分分析用のオブジェクトを作成\n",
    "# n_components: 削減後の次元数（主成分の数）\n",
    "# 入力が2次元であるため、3以上に設定するとエラー\n",
    "pca = PCA(n_components=2) \n",
    "\n",
    "# 主成分分析の実行\n",
    "pca.fit(X) "
   ]
  },
  {
   "cell_type": "markdown",
   "metadata": {},
   "source": [
    "### 2-4. 平均値と固有ベクトルの確認\n",
    "- 元データの各次元における平均値\n",
    "- 分散共分散行列の固有ベクトル"
   ]
  },
  {
   "cell_type": "code",
   "execution_count": 5,
   "metadata": {
    "scrolled": false
   },
   "outputs": [
    {
     "name": "stdout",
     "output_type": "stream",
     "text": [
      "X_mean: [54.7  32.65] \n",
      "\n",
      "eigen vector:\n",
      " [[ 0.99634532  0.0854167 ]\n",
      " [-0.0854167   0.99634532]] \n",
      "\n",
      "norm: 1.0 1.0 \n",
      "\n",
      "dot product: 0.0\n"
     ]
    }
   ],
   "source": [
    "# 元データの平均値\n",
    "print(\"X_mean:\", pca.mean_, \"\\n\")\n",
    "\n",
    "# 分散共分散行列の固有ベクトル\n",
    "# 元の変数に対する重み（主成分負荷量）\n",
    "print(\"eigen vector:\\n\", \n",
    "      pca.components_, \"\\n\")\n",
    "\n",
    "# 固有ベクトルの大きさ\n",
    "print(\"norm:\",\n",
    "      np.linalg.norm(pca.components_[0]).round(5), \n",
    "      np.linalg.norm(pca.components_[1]).round(5), \"\\n\")\n",
    "\n",
    "# 固有ベクトルの内積\n",
    "print(\"dot product:\", \n",
    "      np.dot(pca.components_[0], pca.components_[1]))"
   ]
  },
  {
   "cell_type": "markdown",
   "metadata": {},
   "source": [
    "### 2-5. 主成分軸の可視化\n",
    "- 第1主成分(PC1)と第2主成分(PC2)は必ず直交する\n",
    "- [quiver()](https://matplotlib.org/stable/api/_as_gen/matplotlib.pyplot.quiver.html)でベクトルを矢印として表示\n",
    "- 主成分軸を表すベクトルの始点は、元データの平均"
   ]
  },
  {
   "cell_type": "code",
   "execution_count": 6,
   "metadata": {},
   "outputs": [
    {
     "data": {
      "image/png": "[encoded data removed]",
      "text/plain": [
       "<Figure size 1000x700 with 1 Axes>"
      ]
     },
     "metadata": {},
     "output_type": "display_data"
    }
   ],
   "source": [
    "# 表示領域の作成\n",
    "plt.figure(figsize=(10,7))\n",
    "# 散布図の表示\n",
    "sns.scatterplot(x=X[:,0], y=X[:,1])\n",
    "# 表示範囲の調整\n",
    "plt.xlim([0, 100])\n",
    "plt.ylim([0, 100])\n",
    "# 軸の設定\n",
    "plt.xlabel('math')\n",
    "plt.ylabel('physics')\n",
    "\n",
    "# 主成分軸を表すベクトルを矢印として表示\n",
    "# 第一主成分軸\n",
    "plt.quiver(\n",
    "    # 始点（元データの平均）\n",
    "    pca.mean_[0], pca.mean_[1], \n",
    "    # ベクトルの方向と長さ（固有ベクトル）\n",
    "    pca.components_[0,0], pca.components_[0,1], \n",
    "    # 色、太さ、長さ（表示領域の大きさに対して1/scale倍）\n",
    "    color='b', width=0.01, scale=3 \n",
    ")\n",
    "# 第二主成分軸\n",
    "plt.quiver(\n",
    "    pca.mean_[0], pca.mean_[1], \n",
    "    pca.components_[1,0], pca.components_[1,1], \n",
    "    color='r', width=0.01, scale=3\n",
    ")\n",
    "\n",
    "plt.show()"
   ]
  },
  {
   "cell_type": "markdown",
   "metadata": {},
   "source": [
    "### 2-6. 寄与率の確認\n",
    "- 第一主成分で約76%説明できている\n",
    "- 合計（全主成分の累積寄与率）は1になる"
   ]
  },
  {
   "cell_type": "code",
   "execution_count": 7,
   "metadata": {},
   "outputs": [
    {
     "name": "stdout",
     "output_type": "stream",
     "text": [
      "寄与率: [0.75917911 0.24082089]\n",
      "累積寄与率: 1.0\n"
     ]
    }
   ],
   "source": [
    "print(\"寄与率:\",pca.explained_variance_ratio_)\n",
    "print(\"累積寄与率:\", pca.explained_variance_ratio_.sum())"
   ]
  },
  {
   "cell_type": "markdown",
   "metadata": {},
   "source": [
    "### 2-7. 主成分軸への射影変換\n",
    "- 値を主成分得点に変換\n",
    "- 元データから平均を引き、固有ベクトルとの行列積をとる"
   ]
  },
  {
   "cell_type": "code",
   "execution_count": 8,
   "metadata": {},
   "outputs": [
    {
     "data": {
      "image/png": "[encoded data removed]",
      "text/plain": [
       "<Figure size 640x480 with 1 Axes>"
      ]
     },
     "metadata": {},
     "output_type": "display_data"
    }
   ],
   "source": [
    "# 元データから平均を引き、固有ベクトルとの行列積をとる\n",
    "# 固有ベクトルが、元の変数に対する重み（主成分負荷量）となる\n",
    "Y = np.dot((X - pca.mean_), pca.components_.T)\n",
    "\n",
    "# transform()でも同様の変換を行える\n",
    "Y = pca.transform(X)\n",
    "\n",
    "# 変換後の値（主成分得点）をデータフレームに格納\n",
    "df_test[\"PC1\"] = Y[:,0]\n",
    "df_test[\"PC2\"] = Y[:,1]\n",
    "\n",
    "# 散布図の表示\n",
    "sns.scatterplot(df_test, x=\"PC1\", y=\"PC2\")\n",
    "plt.show()"
   ]
  },
  {
   "cell_type": "code",
   "execution_count": 9,
   "metadata": {},
   "outputs": [
    {
     "data": {
      "text/html": [
       "<div>\n",
       "<style scoped>\n",
       "    .dataframe tbody tr th:only-of-type {\n",
       "        vertical-align: middle;\n",
       "    }\n",
       "\n",
       "    .dataframe tbody tr th {\n",
       "        vertical-align: top;\n",
       "    }\n",
       "\n",
       "    .dataframe thead th {\n",
       "        text-align: right;\n",
       "    }\n",
       "</style>\n",
       "<table border=\"1\" class=\"dataframe\">\n",
       "  <thead>\n",
       "    <tr style=\"text-align: right;\">\n",
       "      <th></th>\n",
       "      <th>math</th>\n",
       "      <th>physics</th>\n",
       "      <th>total</th>\n",
       "      <th>PC1</th>\n",
       "      <th>PC2</th>\n",
       "    </tr>\n",
       "    <tr>\n",
       "      <th>id</th>\n",
       "      <th></th>\n",
       "      <th></th>\n",
       "      <th></th>\n",
       "      <th></th>\n",
       "      <th></th>\n",
       "    </tr>\n",
       "  </thead>\n",
       "  <tbody>\n",
       "    <tr>\n",
       "      <th>0</th>\n",
       "      <td>41</td>\n",
       "      <td>26</td>\n",
       "      <td>67</td>\n",
       "      <td>-14.217952</td>\n",
       "      <td>-5.455488</td>\n",
       "    </tr>\n",
       "    <tr>\n",
       "      <th>1</th>\n",
       "      <td>37</td>\n",
       "      <td>32</td>\n",
       "      <td>69</td>\n",
       "      <td>-17.690833</td>\n",
       "      <td>0.864251</td>\n",
       "    </tr>\n",
       "    <tr>\n",
       "      <th>2</th>\n",
       "      <td>40</td>\n",
       "      <td>31</td>\n",
       "      <td>71</td>\n",
       "      <td>-14.787214</td>\n",
       "      <td>-0.388344</td>\n",
       "    </tr>\n",
       "    <tr>\n",
       "      <th>3</th>\n",
       "      <td>30</td>\n",
       "      <td>24</td>\n",
       "      <td>54</td>\n",
       "      <td>-25.348584</td>\n",
       "      <td>-6.508594</td>\n",
       "    </tr>\n",
       "    <tr>\n",
       "      <th>4</th>\n",
       "      <td>40</td>\n",
       "      <td>60</td>\n",
       "      <td>100</td>\n",
       "      <td>-12.310129</td>\n",
       "      <td>28.505670</td>\n",
       "    </tr>\n",
       "    <tr>\n",
       "      <th>5</th>\n",
       "      <td>60</td>\n",
       "      <td>40</td>\n",
       "      <td>100</td>\n",
       "      <td>5.908443</td>\n",
       "      <td>6.870430</td>\n",
       "    </tr>\n",
       "    <tr>\n",
       "      <th>6</th>\n",
       "      <td>46</td>\n",
       "      <td>26</td>\n",
       "      <td>72</td>\n",
       "      <td>-9.236225</td>\n",
       "      <td>-5.882571</td>\n",
       "    </tr>\n",
       "    <tr>\n",
       "      <th>7</th>\n",
       "      <td>61</td>\n",
       "      <td>27</td>\n",
       "      <td>88</td>\n",
       "      <td>5.794371</td>\n",
       "      <td>-6.167476</td>\n",
       "    </tr>\n",
       "    <tr>\n",
       "      <th>8</th>\n",
       "      <td>67</td>\n",
       "      <td>33</td>\n",
       "      <td>100</td>\n",
       "      <td>12.284943</td>\n",
       "      <td>-0.701905</td>\n",
       "    </tr>\n",
       "    <tr>\n",
       "      <th>9</th>\n",
       "      <td>68</td>\n",
       "      <td>25</td>\n",
       "      <td>93</td>\n",
       "      <td>12.597955</td>\n",
       "      <td>-8.758084</td>\n",
       "    </tr>\n",
       "    <tr>\n",
       "      <th>10</th>\n",
       "      <td>55</td>\n",
       "      <td>26</td>\n",
       "      <td>81</td>\n",
       "      <td>-0.269117</td>\n",
       "      <td>-6.651321</td>\n",
       "    </tr>\n",
       "    <tr>\n",
       "      <th>11</th>\n",
       "      <td>61</td>\n",
       "      <td>30</td>\n",
       "      <td>91</td>\n",
       "      <td>6.050621</td>\n",
       "      <td>-3.178440</td>\n",
       "    </tr>\n",
       "    <tr>\n",
       "      <th>12</th>\n",
       "      <td>59</td>\n",
       "      <td>29</td>\n",
       "      <td>88</td>\n",
       "      <td>3.972514</td>\n",
       "      <td>-4.003952</td>\n",
       "    </tr>\n",
       "    <tr>\n",
       "      <th>13</th>\n",
       "      <td>66</td>\n",
       "      <td>37</td>\n",
       "      <td>103</td>\n",
       "      <td>11.630265</td>\n",
       "      <td>3.368893</td>\n",
       "    </tr>\n",
       "    <tr>\n",
       "      <th>14</th>\n",
       "      <td>69</td>\n",
       "      <td>41</td>\n",
       "      <td>110</td>\n",
       "      <td>14.960967</td>\n",
       "      <td>7.098025</td>\n",
       "    </tr>\n",
       "    <tr>\n",
       "      <th>15</th>\n",
       "      <td>54</td>\n",
       "      <td>36</td>\n",
       "      <td>90</td>\n",
       "      <td>-0.411296</td>\n",
       "      <td>3.397548</td>\n",
       "    </tr>\n",
       "    <tr>\n",
       "      <th>16</th>\n",
       "      <td>50</td>\n",
       "      <td>31</td>\n",
       "      <td>81</td>\n",
       "      <td>-4.823761</td>\n",
       "      <td>-1.242511</td>\n",
       "    </tr>\n",
       "    <tr>\n",
       "      <th>17</th>\n",
       "      <td>35</td>\n",
       "      <td>29</td>\n",
       "      <td>64</td>\n",
       "      <td>-19.939774</td>\n",
       "      <td>-1.953951</td>\n",
       "    </tr>\n",
       "    <tr>\n",
       "      <th>18</th>\n",
       "      <td>80</td>\n",
       "      <td>36</td>\n",
       "      <td>116</td>\n",
       "      <td>25.493682</td>\n",
       "      <td>1.176714</td>\n",
       "    </tr>\n",
       "    <tr>\n",
       "      <th>19</th>\n",
       "      <td>75</td>\n",
       "      <td>34</td>\n",
       "      <td>109</td>\n",
       "      <td>20.341122</td>\n",
       "      <td>-0.388893</td>\n",
       "    </tr>\n",
       "  </tbody>\n",
       "</table>\n",
       "</div>"
      ],
      "text/plain": [
       "    math  physics  total        PC1        PC2\n",
       "id                                            \n",
       "0     41       26     67 -14.217952  -5.455488\n",
       "1     37       32     69 -17.690833   0.864251\n",
       "2     40       31     71 -14.787214  -0.388344\n",
       "3     30       24     54 -25.348584  -6.508594\n",
       "4     40       60    100 -12.310129  28.505670\n",
       "5     60       40    100   5.908443   6.870430\n",
       "6     46       26     72  -9.236225  -5.882571\n",
       "7     61       27     88   5.794371  -6.167476\n",
       "8     67       33    100  12.284943  -0.701905\n",
       "9     68       25     93  12.597955  -8.758084\n",
       "10    55       26     81  -0.269117  -6.651321\n",
       "11    61       30     91   6.050621  -3.178440\n",
       "12    59       29     88   3.972514  -4.003952\n",
       "13    66       37    103  11.630265   3.368893\n",
       "14    69       41    110  14.960967   7.098025\n",
       "15    54       36     90  -0.411296   3.397548\n",
       "16    50       31     81  -4.823761  -1.242511\n",
       "17    35       29     64 -19.939774  -1.953951\n",
       "18    80       36    116  25.493682   1.176714\n",
       "19    75       34    109  20.341122  -0.388893"
      ]
     },
     "execution_count": 9,
     "metadata": {},
     "output_type": "execute_result"
    }
   ],
   "source": [
    "# データフレームの中身を確認\n",
    "df_test"
   ]
  },
  {
   "cell_type": "markdown",
   "metadata": {},
   "source": [
    "### [問]\n",
    "- id=4, id=5, id=8の生徒は、合計得点が100点である\n",
    "- 第一主成分で評価した場合は、どの生徒の得点が高いことになるだろうか？"
   ]
  },
  {
   "cell_type": "markdown",
   "metadata": {},
   "source": [
    "## 3. 乳がんデータセットに対する分析\n",
    "-  [Breast Cancer Wisconsin (Diagnostic)](https://archive.ics.uci.edu/dataset/17/breast+cancer+wisconsin+diagnostic)\n",
    "    - 乳がんの診断を行う分類問題のデータセット\n",
    "- 目的変数\n",
    "    - Diagnosis：診断結果\n",
    "        - M = malignant（悪性）\n",
    "        - B = benign（良性）\n",
    "- 説明変数\n",
    "    - ある患者の細胞核の画像から算出された30個の実数値\n",
    "    - 10個の特徴それぞれに関する3つの統計量（標準偏差、標準誤差、絶対値の最大値）\n",
    "        - radius：中心から外周上の点に対する距離の平均\n",
    "        - texture：グレースケール値の標準偏差\n",
    "        - perimeter：外周\n",
    "        - area：面積\n",
    "        - smoothness：半径の局所的なばらつき\n",
    "        - compactness：緊密さ$\\frac{\\mathrm{perimeter}^2}{\\mathrm{area} - 1}$\n",
    "        - concavity：輪郭の凹みの度合い\n",
    "        - concave points：輪郭の凹部分の数\n",
    "        - symmetry：対称性\n",
    "        - fractal dimension：フラクタル次元(\"coastline approximation\" - 1)\n",
    "       "
   ]
  },
  {
   "cell_type": "markdown",
   "metadata": {},
   "source": [
    "### 3-1. データの読み込み"
   ]
  },
  {
   "cell_type": "code",
   "execution_count": 10,
   "metadata": {},
   "outputs": [
    {
     "name": "stdout",
     "output_type": "stream",
     "text": [
      "(569, 32)\n"
     ]
    },
    {
     "data": {
      "text/html": [
       "<div>\n",
       "<style scoped>\n",
       "    .dataframe tbody tr th:only-of-type {\n",
       "        vertical-align: middle;\n",
       "    }\n",
       "\n",
       "    .dataframe tbody tr th {\n",
       "        vertical-align: top;\n",
       "    }\n",
       "\n",
       "    .dataframe thead th {\n",
       "        text-align: right;\n",
       "    }\n",
       "</style>\n",
       "<table border=\"1\" class=\"dataframe\">\n",
       "  <thead>\n",
       "    <tr style=\"text-align: right;\">\n",
       "      <th></th>\n",
       "      <th>ID</th>\n",
       "      <th>Diagnosis</th>\n",
       "      <th>2</th>\n",
       "      <th>3</th>\n",
       "      <th>4</th>\n",
       "      <th>5</th>\n",
       "      <th>6</th>\n",
       "      <th>7</th>\n",
       "      <th>8</th>\n",
       "      <th>9</th>\n",
       "      <th>...</th>\n",
       "      <th>22</th>\n",
       "      <th>23</th>\n",
       "      <th>24</th>\n",
       "      <th>25</th>\n",
       "      <th>26</th>\n",
       "      <th>27</th>\n",
       "      <th>28</th>\n",
       "      <th>29</th>\n",
       "      <th>30</th>\n",
       "      <th>31</th>\n",
       "    </tr>\n",
       "  </thead>\n",
       "  <tbody>\n",
       "    <tr>\n",
       "      <th>0</th>\n",
       "      <td>842302</td>\n",
       "      <td>M</td>\n",
       "      <td>17.99</td>\n",
       "      <td>10.38</td>\n",
       "      <td>122.80</td>\n",
       "      <td>1001.0</td>\n",
       "      <td>0.11840</td>\n",
       "      <td>0.27760</td>\n",
       "      <td>0.3001</td>\n",
       "      <td>0.14710</td>\n",
       "      <td>...</td>\n",
       "      <td>25.38</td>\n",
       "      <td>17.33</td>\n",
       "      <td>184.60</td>\n",
       "      <td>2019.0</td>\n",
       "      <td>0.1622</td>\n",
       "      <td>0.6656</td>\n",
       "      <td>0.7119</td>\n",
       "      <td>0.2654</td>\n",
       "      <td>0.4601</td>\n",
       "      <td>0.11890</td>\n",
       "    </tr>\n",
       "    <tr>\n",
       "      <th>1</th>\n",
       "      <td>842517</td>\n",
       "      <td>M</td>\n",
       "      <td>20.57</td>\n",
       "      <td>17.77</td>\n",
       "      <td>132.90</td>\n",
       "      <td>1326.0</td>\n",
       "      <td>0.08474</td>\n",
       "      <td>0.07864</td>\n",
       "      <td>0.0869</td>\n",
       "      <td>0.07017</td>\n",
       "      <td>...</td>\n",
       "      <td>24.99</td>\n",
       "      <td>23.41</td>\n",
       "      <td>158.80</td>\n",
       "      <td>1956.0</td>\n",
       "      <td>0.1238</td>\n",
       "      <td>0.1866</td>\n",
       "      <td>0.2416</td>\n",
       "      <td>0.1860</td>\n",
       "      <td>0.2750</td>\n",
       "      <td>0.08902</td>\n",
       "    </tr>\n",
       "    <tr>\n",
       "      <th>2</th>\n",
       "      <td>84300903</td>\n",
       "      <td>M</td>\n",
       "      <td>19.69</td>\n",
       "      <td>21.25</td>\n",
       "      <td>130.00</td>\n",
       "      <td>1203.0</td>\n",
       "      <td>0.10960</td>\n",
       "      <td>0.15990</td>\n",
       "      <td>0.1974</td>\n",
       "      <td>0.12790</td>\n",
       "      <td>...</td>\n",
       "      <td>23.57</td>\n",
       "      <td>25.53</td>\n",
       "      <td>152.50</td>\n",
       "      <td>1709.0</td>\n",
       "      <td>0.1444</td>\n",
       "      <td>0.4245</td>\n",
       "      <td>0.4504</td>\n",
       "      <td>0.2430</td>\n",
       "      <td>0.3613</td>\n",
       "      <td>0.08758</td>\n",
       "    </tr>\n",
       "    <tr>\n",
       "      <th>3</th>\n",
       "      <td>84348301</td>\n",
       "      <td>M</td>\n",
       "      <td>11.42</td>\n",
       "      <td>20.38</td>\n",
       "      <td>77.58</td>\n",
       "      <td>386.1</td>\n",
       "      <td>0.14250</td>\n",
       "      <td>0.28390</td>\n",
       "      <td>0.2414</td>\n",
       "      <td>0.10520</td>\n",
       "      <td>...</td>\n",
       "      <td>14.91</td>\n",
       "      <td>26.50</td>\n",
       "      <td>98.87</td>\n",
       "      <td>567.7</td>\n",
       "      <td>0.2098</td>\n",
       "      <td>0.8663</td>\n",
       "      <td>0.6869</td>\n",
       "      <td>0.2575</td>\n",
       "      <td>0.6638</td>\n",
       "      <td>0.17300</td>\n",
       "    </tr>\n",
       "    <tr>\n",
       "      <th>4</th>\n",
       "      <td>84358402</td>\n",
       "      <td>M</td>\n",
       "      <td>20.29</td>\n",
       "      <td>14.34</td>\n",
       "      <td>135.10</td>\n",
       "      <td>1297.0</td>\n",
       "      <td>0.10030</td>\n",
       "      <td>0.13280</td>\n",
       "      <td>0.1980</td>\n",
       "      <td>0.10430</td>\n",
       "      <td>...</td>\n",
       "      <td>22.54</td>\n",
       "      <td>16.67</td>\n",
       "      <td>152.20</td>\n",
       "      <td>1575.0</td>\n",
       "      <td>0.1374</td>\n",
       "      <td>0.2050</td>\n",
       "      <td>0.4000</td>\n",
       "      <td>0.1625</td>\n",
       "      <td>0.2364</td>\n",
       "      <td>0.07678</td>\n",
       "    </tr>\n",
       "  </tbody>\n",
       "</table>\n",
       "<p>5 rows × 32 columns</p>\n",
       "</div>"
      ],
      "text/plain": [
       "         ID Diagnosis      2      3       4       5        6        7       8  \\\n",
       "0    842302         M  17.99  10.38  122.80  1001.0  0.11840  0.27760  0.3001   \n",
       "1    842517         M  20.57  17.77  132.90  1326.0  0.08474  0.07864  0.0869   \n",
       "2  84300903         M  19.69  21.25  130.00  1203.0  0.10960  0.15990  0.1974   \n",
       "3  84348301         M  11.42  20.38   77.58   386.1  0.14250  0.28390  0.2414   \n",
       "4  84358402         M  20.29  14.34  135.10  1297.0  0.10030  0.13280  0.1980   \n",
       "\n",
       "         9  ...     22     23      24      25      26      27      28      29  \\\n",
       "0  0.14710  ...  25.38  17.33  184.60  2019.0  0.1622  0.6656  0.7119  0.2654   \n",
       "1  0.07017  ...  24.99  23.41  158.80  1956.0  0.1238  0.1866  0.2416  0.1860   \n",
       "2  0.12790  ...  23.57  25.53  152.50  1709.0  0.1444  0.4245  0.4504  0.2430   \n",
       "3  0.10520  ...  14.91  26.50   98.87   567.7  0.2098  0.8663  0.6869  0.2575   \n",
       "4  0.10430  ...  22.54  16.67  152.20  1575.0  0.1374  0.2050  0.4000  0.1625   \n",
       "\n",
       "       30       31  \n",
       "0  0.4601  0.11890  \n",
       "1  0.2750  0.08902  \n",
       "2  0.3613  0.08758  \n",
       "3  0.6638  0.17300  \n",
       "4  0.2364  0.07678  \n",
       "\n",
       "[5 rows x 32 columns]"
      ]
     },
     "metadata": {},
     "output_type": "display_data"
    }
   ],
   "source": [
    "# CSVファイルの読み込み\n",
    "# 0列目をインデックスとして扱う\n",
    "df_wdbc = pd.read_csv(\"../../1_data/ch14/wdbc.csv\", index_col=[0])\n",
    "# データサイズの確認\n",
    "print(df_wdbc.shape)\n",
    "\n",
    "# データの中身を確認\n",
    "# 2列目以降が説明変数\n",
    "display(df_wdbc.head())\n",
    "\n",
    "# 説明変数のみを取り出す\n",
    "X = df_wdbc.iloc[:,2:] "
   ]
  },
  {
   "cell_type": "markdown",
   "metadata": {},
   "source": [
    "### 3-2. 平均値の確認"
   ]
  },
  {
   "cell_type": "code",
   "execution_count": 11,
   "metadata": {
    "scrolled": true
   },
   "outputs": [
    {
     "data": {
      "image/png": "[encoded data removed]",
      "text/plain": [
       "<Figure size 640x480 with 1 Axes>"
      ]
     },
     "metadata": {},
     "output_type": "display_data"
    }
   ],
   "source": [
    "# 各説明変数の平均値をグラフ化\n",
    "# マーカー付き折れ線グラフ\n",
    "X.mean().plot(style='o-')\n",
    "plt.show()"
   ]
  },
  {
   "cell_type": "markdown",
   "metadata": {},
   "source": [
    "### 3-3. 主成分分析の実行"
   ]
  },
  {
   "cell_type": "code",
   "execution_count": 12,
   "metadata": {},
   "outputs": [
    {
     "data": {
      "text/html": [
       "<style>#sk-container-id-2 {color: black;}#sk-container-id-2 pre{padding: 0;}#sk-container-id-2 div.sk-toggleable {background-color: white;}#sk-container-id-2 label.sk-toggleable__label {cursor: pointer;display: block;width: 100%;margin-bottom: 0;padding: 0.3em;box-sizing: border-box;text-align: center;}#sk-container-id-2 label.sk-toggleable__label-arrow:before {content: \"▸\";float: left;margin-right: 0.25em;color: #696969;}#sk-container-id-2 label.sk-toggleable__label-arrow:hover:before {color: black;}#sk-container-id-2 div.sk-estimator:hover label.sk-toggleable__label-arrow:before {color: black;}#sk-container-id-2 div.sk-toggleable__content {max-height: 0;max-width: 0;overflow: hidden;text-align: left;background-color: #f0f8ff;}#sk-container-id-2 div.sk-toggleable__content pre {margin: 0.2em;color: black;border-radius: 0.25em;background-color: #f0f8ff;}#sk-container-id-2 input.sk-toggleable__control:checked~div.sk-toggleable__content {max-height: 200px;max-width: 100%;overflow: auto;}#sk-container-id-2 input.sk-toggleable__control:checked~label.sk-toggleable__label-arrow:before {content: \"▾\";}#sk-container-id-2 div.sk-estimator input.sk-toggleable__control:checked~label.sk-toggleable__label {background-color: #d4ebff;}#sk-container-id-2 div.sk-label input.sk-toggleable__control:checked~label.sk-toggleable__label {background-color: #d4ebff;}#sk-container-id-2 input.sk-hidden--visually {border: 0;clip: rect(1px 1px 1px 1px);clip: rect(1px, 1px, 1px, 1px);height: 1px;margin: -1px;overflow: hidden;padding: 0;position: absolute;width: 1px;}#sk-container-id-2 div.sk-estimator {font-family: monospace;background-color: #f0f8ff;border: 1px dotted black;border-radius: 0.25em;box-sizing: border-box;margin-bottom: 0.5em;}#sk-container-id-2 div.sk-estimator:hover {background-color: #d4ebff;}#sk-container-id-2 div.sk-parallel-item::after {content: \"\";width: 100%;border-bottom: 1px solid gray;flex-grow: 1;}#sk-container-id-2 div.sk-label:hover label.sk-toggleable__label {background-color: #d4ebff;}#sk-container-id-2 div.sk-serial::before {content: \"\";position: absolute;border-left: 1px solid gray;box-sizing: border-box;top: 0;bottom: 0;left: 50%;z-index: 0;}#sk-container-id-2 div.sk-serial {display: flex;flex-direction: column;align-items: center;background-color: white;padding-right: 0.2em;padding-left: 0.2em;position: relative;}#sk-container-id-2 div.sk-item {position: relative;z-index: 1;}#sk-container-id-2 div.sk-parallel {display: flex;align-items: stretch;justify-content: center;background-color: white;position: relative;}#sk-container-id-2 div.sk-item::before, #sk-container-id-2 div.sk-parallel-item::before {content: \"\";position: absolute;border-left: 1px solid gray;box-sizing: border-box;top: 0;bottom: 0;left: 50%;z-index: -1;}#sk-container-id-2 div.sk-parallel-item {display: flex;flex-direction: column;z-index: 1;position: relative;background-color: white;}#sk-container-id-2 div.sk-parallel-item:first-child::after {align-self: flex-end;width: 50%;}#sk-container-id-2 div.sk-parallel-item:last-child::after {align-self: flex-start;width: 50%;}#sk-container-id-2 div.sk-parallel-item:only-child::after {width: 0;}#sk-container-id-2 div.sk-dashed-wrapped {border: 1px dashed gray;margin: 0 0.4em 0.5em 0.4em;box-sizing: border-box;padding-bottom: 0.4em;background-color: white;}#sk-container-id-2 div.sk-label label {font-family: monospace;font-weight: bold;display: inline-block;line-height: 1.2em;}#sk-container-id-2 div.sk-label-container {text-align: center;}#sk-container-id-2 div.sk-container {/* jupyter's `normalize.less` sets `[hidden] { display: none; }` but bootstrap.min.css set `[hidden] { display: none !important; }` so we also need the `!important` here to be able to override the default hidden behavior on the sphinx rendered scikit-learn.org. See: https://github.com/scikit-learn/scikit-learn/issues/21755 */display: inline-block !important;position: relative;}#sk-container-id-2 div.sk-text-repr-fallback {display: none;}</style><div id=\"sk-container-id-2\" class=\"sk-top-container\"><div class=\"sk-text-repr-fallback\"><pre>PCA(n_components=30)</pre><b>In a Jupyter environment, please rerun this cell to show the HTML representation or trust the notebook. <br />On GitHub, the HTML representation is unable to render, please try loading this page with nbviewer.org.</b></div><div class=\"sk-container\" hidden><div class=\"sk-item\"><div class=\"sk-estimator sk-toggleable\"><input class=\"sk-toggleable__control sk-hidden--visually\" id=\"sk-estimator-id-2\" type=\"checkbox\" checked><label for=\"sk-estimator-id-2\" class=\"sk-toggleable__label sk-toggleable__label-arrow\">PCA</label><div class=\"sk-toggleable__content\"><pre>PCA(n_components=30)</pre></div></div></div></div></div>"
      ],
      "text/plain": [
       "PCA(n_components=30)"
      ]
     },
     "execution_count": 12,
     "metadata": {},
     "output_type": "execute_result"
    }
   ],
   "source": [
    "# 平均値の大きな変数が混じっているため、標準化しておく\n",
    "stdsc = StandardScaler()\n",
    "X_std = stdsc.fit_transform(X)\n",
    "\n",
    "# 主成分分析用のオブジェクトを作成\n",
    "# n_components: 削減後の次元数（主成分の数）\n",
    "# ここでは、元データの次元数に合わせる\n",
    "pca = PCA(n_components=30) \n",
    "\n",
    "# 主成分分析の実行\n",
    "pca.fit(X_std) "
   ]
  },
  {
   "cell_type": "markdown",
   "metadata": {},
   "source": [
    "### 3-4. 固有ベクトルの確認"
   ]
  },
  {
   "cell_type": "code",
   "execution_count": 13,
   "metadata": {},
   "outputs": [
    {
     "name": "stdout",
     "output_type": "stream",
     "text": [
      "eigen vector:\n",
      " [[ 0.219  0.104  0.228  0.221  0.143  0.239  0.258  0.261  0.138  0.064\n",
      "   0.206  0.017  0.211  0.203  0.015  0.17   0.154  0.183  0.042  0.103\n",
      "   0.228  0.104  0.237  0.225  0.128  0.21   0.229  0.251  0.123  0.132]\n",
      " [-0.234 -0.06  -0.215 -0.231  0.186  0.152  0.06  -0.035  0.19   0.367\n",
      "  -0.106  0.09  -0.089 -0.152  0.204  0.233  0.197  0.13   0.184  0.28\n",
      "  -0.22  -0.045 -0.2   -0.219  0.172  0.144  0.098 -0.008  0.142  0.275]\n",
      " [-0.009  0.065 -0.009  0.029 -0.104 -0.074  0.003 -0.026 -0.04  -0.023\n",
      "   0.268  0.375  0.267  0.216  0.309  0.155  0.176  0.225  0.289  0.212\n",
      "  -0.048 -0.042 -0.049 -0.012 -0.26  -0.236 -0.173 -0.17  -0.271 -0.233]\n",
      " [ 0.041 -0.603  0.042  0.053  0.159  0.032  0.019  0.065  0.067  0.049\n",
      "   0.098 -0.36   0.089  0.108  0.045 -0.027  0.001  0.074  0.044  0.015\n",
      "   0.015 -0.633  0.014  0.026  0.018 -0.091 -0.074  0.006 -0.036 -0.077]\n",
      " [ 0.038 -0.049  0.037  0.01  -0.365  0.012  0.086 -0.044 -0.306 -0.044\n",
      "  -0.154 -0.192 -0.121 -0.128 -0.232  0.28   0.354  0.196 -0.253  0.263\n",
      "  -0.004 -0.093  0.007 -0.027 -0.324  0.122  0.189  0.043 -0.245  0.094]\n",
      " [ 0.019 -0.032  0.017 -0.002 -0.286 -0.014 -0.009 -0.052  0.356 -0.119\n",
      "  -0.026 -0.029  0.002 -0.043 -0.343  0.069  0.056 -0.031  0.49  -0.053\n",
      "  -0.    -0.05   0.009 -0.025 -0.369  0.048  0.028 -0.031  0.499 -0.08 ]\n",
      " [-0.124  0.011 -0.114 -0.052 -0.141  0.031 -0.108 -0.15  -0.094  0.296\n",
      "   0.312 -0.091  0.315  0.347 -0.244  0.023 -0.209 -0.37  -0.08   0.191\n",
      "  -0.01   0.01  -0.     0.068 -0.109  0.14  -0.06  -0.168 -0.018  0.375]\n",
      " [-0.007  0.131 -0.019  0.035 -0.289 -0.151 -0.073 -0.152 -0.232 -0.177\n",
      "   0.023 -0.475 -0.012  0.086  0.573  0.117  0.061 -0.108  0.22   0.011\n",
      "   0.043  0.036  0.031  0.079  0.206  0.084  0.072 -0.036  0.228  0.048]\n",
      " [-0.223  0.113 -0.224 -0.196  0.006 -0.168  0.041 -0.112  0.256 -0.124\n",
      "   0.25  -0.247  0.227  0.229 -0.142 -0.145  0.358  0.273 -0.304 -0.214\n",
      "  -0.112  0.103 -0.11  -0.081  0.112 -0.101  0.162  0.06   0.065 -0.134]\n",
      " [ 0.095  0.241  0.086  0.075 -0.069  0.013 -0.136  0.008  0.572  0.081\n",
      "  -0.05  -0.289 -0.115 -0.092  0.161  0.044 -0.141  0.086 -0.317  0.368\n",
      "   0.077  0.03   0.051  0.07  -0.128 -0.172 -0.312 -0.077 -0.03   0.013]\n",
      " [ 0.041 -0.302  0.017  0.11  -0.137 -0.308  0.124 -0.072  0.163 -0.038\n",
      "  -0.025  0.345 -0.167  0.052  0.084 -0.207  0.35  -0.342 -0.188  0.251\n",
      "   0.105  0.013  0.051  0.185  0.144 -0.197  0.185 -0.118  0.158  0.118]\n",
      " [ 0.051  0.255  0.039  0.065  0.317 -0.104  0.066  0.043 -0.289  0.236\n",
      "  -0.017 -0.306 -0.101 -0.018 -0.295 -0.263  0.251 -0.006  0.321  0.276\n",
      "   0.04   0.08  -0.009  0.048  0.057 -0.372 -0.087 -0.068  0.044 -0.035]\n",
      " [ 0.012  0.203  0.044  0.067  0.046  0.229  0.387  0.132  0.19   0.106\n",
      "  -0.068 -0.168 -0.038  0.056  0.15   0.01   0.159 -0.494  0.01  -0.24\n",
      "  -0.138 -0.08  -0.097 -0.101 -0.205  0.012  0.218 -0.254 -0.257 -0.173]\n",
      " [ 0.06  -0.022  0.049  0.011  0.445  0.008 -0.189 -0.245  0.031 -0.377\n",
      "   0.01  -0.011 -0.046  0.084 -0.201  0.492  0.135 -0.2   -0.047  0.146\n",
      "   0.023  0.053  0.012 -0.007  0.162  0.166 -0.067 -0.276  0.005 -0.212]\n",
      " [ 0.051  0.108  0.04  -0.014  0.118 -0.231  0.128  0.217  0.074 -0.518\n",
      "   0.11  -0.033  0.008  0.046 -0.019 -0.168 -0.25  -0.062  0.113  0.353\n",
      "  -0.167 -0.101 -0.183 -0.315 -0.046  0.05   0.205  0.169 -0.14   0.256]\n",
      " [-0.151 -0.158 -0.114 -0.132 -0.205  0.17   0.269  0.38  -0.165 -0.041\n",
      "   0.059 -0.035  0.027  0.041 -0.058  0.19  -0.125 -0.199 -0.158  0.269\n",
      "  -0.082  0.186 -0.055 -0.091  0.146 -0.154 -0.215  0.178  0.258 -0.406]\n",
      " [ 0.203 -0.039  0.195  0.256  0.168 -0.02  -0.002  0.035 -0.192  0.05\n",
      "  -0.139  0.044 -0.025  0.334  0.14  -0.008  0.085  0.108 -0.274 -0.123\n",
      "  -0.24   0.069 -0.234 -0.273 -0.278 -0.004 -0.191 -0.075  0.431  0.159]\n",
      " [ 0.147 -0.041  0.158  0.266 -0.352  0.008 -0.027 -0.083  0.173  0.088\n",
      "  -0.236 -0.01  -0.026  0.305 -0.231  0.1   -0.     0.046  0.187 -0.06\n",
      "  -0.216  0.058 -0.189 -0.142  0.502 -0.074 -0.104  0.076 -0.279  0.024]\n",
      " [-0.225 -0.03  -0.24   0.027  0.165 -0.284 -0.002  0.155  0.059  0.058\n",
      "  -0.176 -0.036 -0.366  0.417  0.013  0.242 -0.126  0.012  0.089 -0.087\n",
      "  -0.014  0.076 -0.091  0.41  -0.235 -0.02   0.046  0.26  -0.117  0.011]\n",
      " [-0.05  -0.244 -0.018 -0.09   0.017  0.489 -0.033 -0.235  0.026 -0.176\n",
      "  -0.091 -0.072 -0.177  0.274  0.09  -0.461  0.067  0.069  0.107  0.222\n",
      "  -0.006  0.301  0.011  0.06  -0.13   0.229 -0.046  0.033 -0.117 -0.105]\n",
      " [-0.069  0.448 -0.07  -0.018 -0.119  0.193  0.006 -0.009 -0.087 -0.076\n",
      "   0.086  0.217 -0.305  0.193 -0.072 -0.14   0.063  0.034 -0.098  0.063\n",
      "   0.007 -0.594 -0.092  0.147  0.165  0.181 -0.132  0.001  0.163 -0.092]\n",
      " [ 0.073  0.095  0.075  0.098  0.064 -0.098 -0.185 -0.312 -0.018  0.288\n",
      "  -0.15   0.048  0.159  0.064  0.051 -0.045 -0.205 -0.073 -0.085  0.245\n",
      "  -0.096 -0.111  0.017 -0.097 -0.068  0.03   0.46   0.3    0.097 -0.469]\n",
      " [-0.099 -0.001 -0.04   0.008 -0.021  0.052  0.325 -0.051 -0.051 -0.085\n",
      "  -0.264 -0.001  0.09   0.098 -0.06   0.009 -0.388  0.352 -0.042  0.086\n",
      "  -0.056 -0.009  0.063  0.191  0.094 -0.148  0.286 -0.568  0.121  0.008]\n",
      " [ 0.183 -0.099  0.117 -0.07  -0.069  0.104 -0.045 -0.084 -0.019  0.133\n",
      "   0.559 -0.024 -0.517  0.022 -0.016  0.122 -0.188  0.11  -0.003 -0.075\n",
      "   0.157  0.118 -0.237 -0.144  0.011 -0.187  0.289 -0.107  0.014 -0.038]\n",
      " [ 0.019 -0.085 -0.027  0.21  -0.029 -0.397  0.097  0.186  0.025  0.207\n",
      "   0.175 -0.057 -0.073 -0.132 -0.031 -0.173 -0.016  0.13   0.02   0.084\n",
      "  -0.071  0.118 -0.118  0.038  0.048  0.624 -0.116 -0.263 -0.045 -0.28 ]\n",
      " [-0.129 -0.025 -0.125  0.363 -0.037  0.263 -0.549  0.388 -0.016 -0.097\n",
      "   0.05  -0.011  0.104 -0.155 -0.008 -0.05   0.091 -0.018 -0.017  0.035\n",
      "  -0.197  0.036 -0.244  0.231  0.013 -0.1    0.267 -0.134  0.028  0.005]\n",
      " [-0.132 -0.017 -0.115  0.467  0.07   0.098  0.365 -0.455 -0.015 -0.101\n",
      "   0.213 -0.01   0.042 -0.313 -0.009  0.047 -0.084 -0.011 -0.02  -0.012\n",
      "  -0.179  0.021 -0.241  0.237 -0.041 -0.071 -0.143  0.231  0.023  0.06 ]\n",
      " [ 0.211 -0.     0.084 -0.273  0.001 -0.005  0.046 -0.009  0.001 -0.006\n",
      "  -0.192 -0.006  0.263 -0.042  0.01  -0.015  0.006 -0.029 -0.008  0.02\n",
      "   0.413 -0.    -0.729  0.239 -0.002  0.049 -0.018  0.022  0.005 -0.024]\n",
      " [ 0.211 -0.011  0.384 -0.423 -0.003 -0.041 -0.01  -0.004 -0.008  0.007\n",
      "   0.118 -0.009 -0.006 -0.086  0.002  0.003  0.016 -0.024 -0.005 -0.008\n",
      "  -0.636  0.017  0.023  0.445  0.007  0.    -0.013  0.035  0.013  0.011]\n",
      " [-0.702 -0.     0.69   0.033  0.005 -0.045 -0.025  0.001  0.001  0.005\n",
      "   0.009  0.001 -0.014 -0.001  0.002 -0.002  0.009  0.002 -0.    -0.002\n",
      "   0.136 -0.001 -0.08  -0.04  -0.005  0.013 -0.     0.002 -0.    -0.002]] \n",
      "\n",
      "norm:\n",
      "1.0, 1.0, 1.0, 1.0, 1.0, 1.0, 1.0, 1.0, 1.0, 1.0, 1.0, 1.0, 1.0, 1.0, 1.0, 1.0, 1.0, 1.0, 1.0, 1.0, 1.0, 1.0, 1.0, 1.0, 1.0, 1.0, 1.0, 1.0, 1.0, 1.0, \n",
      "\n",
      "dot product:\n",
      "0.0, 0.0, 0.0, 0.0, 0.0, -0.0, -0.0, -0.0, -0.0, 0.0, -0.0, -0.0, 0.0, -0.0, 0.0, 0.0, 0.0, -0.0, 0.0, -0.0, 0.0, 0.0, 0.0, 0.0, -0.0, -0.0, 0.0, 0.0, -0.0, 0.0, 0.0, -0.0, -0.0, 0.0, 0.0, -0.0, 0.0, -0.0, -0.0, -0.0, 0.0, -0.0, 0.0, 0.0, -0.0, -0.0, 0.0, -0.0, 0.0, 0.0, 0.0, -0.0, -0.0, -0.0, -0.0, -0.0, -0.0, -0.0, 0.0, 0.0, 0.0, -0.0, 0.0, -0.0, 0.0, 0.0, -0.0, 0.0, -0.0, 0.0, -0.0, 0.0, 0.0, -0.0, -0.0, 0.0, -0.0, -0.0, -0.0, 0.0, 0.0, 0.0, -0.0, 0.0, 0.0, 0.0, -0.0, 0.0, -0.0, 0.0, -0.0, -0.0, 0.0, -0.0, 0.0, -0.0, -0.0, 0.0, 0.0, 0.0, 0.0, 0.0, -0.0, -0.0, 0.0, 0.0, 0.0, -0.0, 0.0, 0.0, -0.0, -0.0, -0.0, 0.0, 0.0, -0.0, 0.0, -0.0, -0.0, -0.0, 0.0, -0.0, -0.0, 0.0, -0.0, 0.0, 0.0, 0.0, 0.0, 0.0, -0.0, 0.0, 0.0, -0.0, -0.0, -0.0, 0.0, -0.0, -0.0, 0.0, -0.0, 0.0, -0.0, 0.0, 0.0, 0.0, 0.0, 0.0, -0.0, 0.0, -0.0, -0.0, -0.0, -0.0, -0.0, 0.0, 0.0, 0.0, -0.0, -0.0, 0.0, -0.0, 0.0, 0.0, -0.0, -0.0, 0.0, -0.0, 0.0, 0.0, 0.0, 0.0, -0.0, -0.0, -0.0, 0.0, -0.0, 0.0, -0.0, -0.0, -0.0, -0.0, 0.0, 0.0, 0.0, 0.0, 0.0, 0.0, 0.0, 0.0, -0.0, -0.0, 0.0, -0.0, 0.0, 0.0, 0.0, 0.0, -0.0, 0.0, -0.0, 0.0, 0.0, -0.0, -0.0, 0.0, -0.0, -0.0, -0.0, -0.0, -0.0, 0.0, -0.0, 0.0, -0.0, 0.0, -0.0, 0.0, -0.0, -0.0, -0.0, 0.0, -0.0, 0.0, -0.0, 0.0, -0.0, -0.0, 0.0, 0.0, -0.0, 0.0, -0.0, 0.0, 0.0, 0.0, 0.0, -0.0, -0.0, -0.0, 0.0, 0.0, 0.0, 0.0, 0.0, 0.0, -0.0, 0.0, -0.0, 0.0, -0.0, 0.0, 0.0, -0.0, -0.0, 0.0, -0.0, 0.0, -0.0, -0.0, 0.0, -0.0, -0.0, -0.0, -0.0, -0.0, -0.0, 0.0, 0.0, 0.0, 0.0, 0.0, 0.0, -0.0, 0.0, 0.0, -0.0, -0.0, 0.0, -0.0, -0.0, -0.0, -0.0, 0.0, 0.0, -0.0, -0.0, 0.0, 0.0, -0.0, 0.0, -0.0, 0.0, -0.0, 0.0, -0.0, 0.0, -0.0, 0.0, 0.0, 0.0, -0.0, -0.0, -0.0, 0.0, -0.0, -0.0, 0.0, -0.0, -0.0, 0.0, -0.0, 0.0, 0.0, 0.0, 0.0, -0.0, -0.0, 0.0, -0.0, -0.0, -0.0, 0.0, 0.0, 0.0, 0.0, 0.0, 0.0, 0.0, 0.0, 0.0, -0.0, -0.0, 0.0, -0.0, 0.0, -0.0, 0.0, 0.0, 0.0, 0.0, -0.0, -0.0, 0.0, -0.0, 0.0, 0.0, -0.0, -0.0, 0.0, 0.0, 0.0, 0.0, 0.0, 0.0, -0.0, 0.0, 0.0, -0.0, 0.0, -0.0, -0.0, -0.0, -0.0, 0.0, 0.0, -0.0, -0.0, 0.0, -0.0, -0.0, -0.0, -0.0, -0.0, 0.0, 0.0, 0.0, 0.0, -0.0, -0.0, 0.0, 0.0, 0.0, 0.0, 0.0, 0.0, -0.0, -0.0, -0.0, -0.0, 0.0, -0.0, -0.0, -0.0, 0.0, 0.0, -0.0, -0.0, -0.0, 0.0, 0.0, -0.0, 0.0, 0.0, 0.0, 0.0, -0.0, 0.0, 0.0, 0.0, 0.0, -0.0, 0.0, -0.0, 0.0, 0.0, -0.0, -0.0, -0.0, 0.0, 0.0, -0.0, -0.0, 0.0, -0.0, -0.0, 0.0, -0.0, 0.0, -0.0, 0.0, -0.0, -0.0, 0.0, -0.0, 0.0, 0.0, 0.0, 0.0, -0.0, -0.0, 0.0, 0.0, -0.0, 0.0, 0.0, 0.0, -0.0, -0.0, 0.0, 0.0, 0.0, -0.0, 0.0, 0.0, 0.0, 0.0, -0.0, -0.0, 0.0, -0.0, -0.0, 0.0, -0.0, 0.0, -0.0, -0.0, -0.0, 0.0, 0.0, 0.0, -0.0, 0.0, -0.0, -0.0, -0.0, -0.0, -0.0, -0.0, 0.0, -0.0, 0.0, 0.0, 0.0, -0.0, -0.0, -0.0, -0.0, -0.0, 0.0, -0.0, -0.0, -0.0, 0.0, -0.0, -0.0, -0.0, 0.0, -0.0, -0.0, -0.0, -0.0, -0.0, -0.0, 0.0, 0.0, -0.0, -0.0, 0.0, -0.0, -0.0, 0.0, 0.0, -0.0, 0.0, -0.0, -0.0, -0.0, 0.0, 0.0, -0.0, -0.0, -0.0, 0.0, 0.0, 0.0, -0.0, 0.0, -0.0, -0.0, 0.0, 0.0, 0.0, -0.0, 0.0, 0.0, 0.0, -0.0, 0.0, -0.0, -0.0, 0.0, 0.0, 0.0, 0.0, 0.0, 0.0, -0.0, -0.0, -0.0, -0.0, 0.0, -0.0, -0.0, 0.0, -0.0, 0.0, 0.0, 0.0, -0.0, -0.0, -0.0, 0.0, -0.0, 0.0, -0.0, 0.0, 0.0, 0.0, -0.0, 0.0, 0.0, -0.0, 0.0, 0.0, -0.0, 0.0, -0.0, 0.0, 0.0, -0.0, 0.0, -0.0, 0.0, -0.0, -0.0, -0.0, -0.0, 0.0, -0.0, -0.0, 0.0, -0.0, -0.0, -0.0, 0.0, 0.0, 0.0, 0.0, 0.0, -0.0, -0.0, 0.0, -0.0, 0.0, -0.0, -0.0, 0.0, -0.0, 0.0, 0.0, -0.0, -0.0, 0.0, -0.0, 0.0, 0.0, 0.0, -0.0, 0.0, 0.0, 0.0, -0.0, 0.0, 0.0, -0.0, -0.0, 0.0, 0.0, -0.0, -0.0, 0.0, -0.0, 0.0, 0.0, 0.0, -0.0, 0.0, 0.0, 0.0, 0.0, 0.0, -0.0, 0.0, 0.0, -0.0, -0.0, -0.0, -0.0, 0.0, -0.0, -0.0, -0.0, 0.0, -0.0, 0.0, 0.0, -0.0, -0.0, -0.0, -0.0, -0.0, 0.0, -0.0, 0.0, -0.0, 0.0, 0.0, -0.0, 0.0, 0.0, -0.0, -0.0, 0.0, 0.0, -0.0, 0.0, 0.0, -0.0, -0.0, 0.0, 0.0, -0.0, -0.0, -0.0, 0.0, 0.0, 0.0, 0.0, -0.0, -0.0, -0.0, -0.0, -0.0, -0.0, 0.0, 0.0, -0.0, 0.0, -0.0, 0.0, 0.0, 0.0, -0.0, 0.0, 0.0, 0.0, -0.0, -0.0, 0.0, -0.0, -0.0, -0.0, -0.0, 0.0, 0.0, -0.0, -0.0, -0.0, -0.0, -0.0, 0.0, 0.0, -0.0, 0.0, -0.0, -0.0, -0.0, -0.0, -0.0, 0.0, -0.0, -0.0, -0.0, -0.0, 0.0, 0.0, -0.0, -0.0, 0.0, 0.0, -0.0, -0.0, 0.0, -0.0, 0.0, 0.0, 0.0, -0.0, -0.0, 0.0, -0.0, -0.0, -0.0, -0.0, -0.0, 0.0, -0.0, 0.0, 0.0, 0.0, 0.0, 0.0, -0.0, 0.0, -0.0, -0.0, 0.0, -0.0, -0.0, 0.0, 0.0, -0.0, 0.0, -0.0, 0.0, -0.0, -0.0, 0.0, 0.0, -0.0, 0.0, 0.0, 0.0, -0.0, 0.0, 0.0, -0.0, 0.0, -0.0, 0.0, -0.0, 0.0, -0.0, 0.0, 0.0, 0.0, -0.0, -0.0, -0.0, 0.0, -0.0, -0.0, -0.0, 0.0, 0.0, -0.0, 0.0, -0.0, -0.0, 0.0, -0.0, 0.0, -0.0, 0.0, 0.0, 0.0, -0.0, 0.0, -0.0, -0.0, 0.0, -0.0, 0.0, 0.0, 0.0, 0.0, 0.0, -0.0, -0.0, -0.0, 0.0, 0.0, -0.0, -0.0, -0.0, -0.0, -0.0, 0.0, 0.0, 0.0, -0.0, -0.0, -0.0, -0.0, 0.0, -0.0, 0.0, 0.0, 0.0, -0.0, 0.0, -0.0, 0.0, 0.0, -0.0, -0.0, -0.0, -0.0, -0.0, 0.0, -0.0, 0.0, 0.0, 0.0, 0.0, -0.0, 0.0, -0.0, 0.0, "
     ]
    }
   ],
   "source": [
    "# 固有ベクトル\n",
    "print(\"eigen vector:\\n\", pca.components_.round(3), \"\\n\")\n",
    "\n",
    "# 固有ベクトルの大きさ\n",
    "print(\"norm:\",)\n",
    "for i in range(len(pca.components_)):\n",
    "    # 改行なしで表示\n",
    "    print(np.linalg.norm(pca.components_[i]).round(5), end=', ')\n",
    "print(\"\\n\")\n",
    "\n",
    "# 固有ベクトルの内積    \n",
    "print(\"dot product:\")\n",
    "for i in range(len(pca.components_)):\n",
    "    for r in range(len(pca.components_)):\n",
    "        if i==r: # 同じベクトル同士の場合は省略\n",
    "            continue\n",
    "        # 改行なしで表示\n",
    "        print(np.dot(pca.components_[i], pca.components_[r]).round(5), end=', ')"
   ]
  },
  {
   "cell_type": "markdown",
   "metadata": {},
   "source": [
    "### 3-5. 寄与率の確認"
   ]
  },
  {
   "cell_type": "code",
   "execution_count": 14,
   "metadata": {
    "scrolled": false
   },
   "outputs": [
    {
     "name": "stdout",
     "output_type": "stream",
     "text": [
      "寄与率＝ [0.44272026 0.18971182]\n",
      "2 つの主成分の累積寄与率＝ 0.6324320765155942\n"
     ]
    }
   ],
   "source": [
    "# 何番目の主成分まで利用するか\n",
    "max_component = 2\n",
    "\n",
    "# 寄与率、累積寄与率を表示\n",
    "print(\"寄与率＝\",pca.explained_variance_ratio_[:max_component])\n",
    "print(max_component, \"つの主成分の累積寄与率＝\", pca.explained_variance_ratio_[:max_component].sum())"
   ]
  },
  {
   "cell_type": "markdown",
   "metadata": {},
   "source": [
    "### 3-6. 主成分軸への射影変換"
   ]
  },
  {
   "cell_type": "code",
   "execution_count": 15,
   "metadata": {},
   "outputs": [
    {
     "data": {
      "image/png": "[encoded data removed]",
      "text/plain": [
       "<Figure size 640x480 with 1 Axes>"
      ]
     },
     "metadata": {},
     "output_type": "display_data"
    }
   ],
   "source": [
    "# 値を主成分得点に変換\n",
    "Y = pca.transform(X_std)\n",
    "\n",
    "# 変換後の値（主成分得点）をデータフレームに格納\n",
    "df_wdbc[\"PC1\"] = Y[:,0]\n",
    "df_wdbc[\"PC2\"] = Y[:,1]\n",
    "\n",
    "# 散布図の表示（診断結果で色分け）\n",
    "sns.scatterplot(\n",
    "    df_wdbc, x=\"PC1\", y=\"PC2\", \n",
    "    hue=\"Diagnosis\"\n",
    ")\n",
    "plt.show()"
   ]
  },
  {
   "cell_type": "code",
   "execution_count": null,
   "metadata": {},
   "outputs": [],
   "source": []
  }
 ],
 "metadata": {
  "anaconda-cloud": {},
  "kernelspec": {
   "display_name": "Python 3 (ipykernel)",
   "language": "python",
   "name": "python3"
  },
  "language_info": {
   "codemirror_mode": {
    "name": "ipython",
    "version": 3
   },
   "file_extension": ".py",
   "mimetype": "text/x-python",
   "name": "python",
   "nbconvert_exporter": "python",
   "pygments_lexer": "ipython3",
   "version": "3.9.0"
  }
 },
 "nbformat": 4,
 "nbformat_minor": 1
}
