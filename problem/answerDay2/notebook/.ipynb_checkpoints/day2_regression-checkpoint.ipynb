{
 "cells": [
  {
   "cell_type": "markdown",
   "metadata": {},
   "source": [
    "# 通し課題 模範解答（回帰編）DAY 2\n",
    "- kaggle の [Kiva Crowdfunding](https://www.kaggle.com/datasets/kiva/data-science-for-good-kiva-crowdfunding?resource=download) を一部改変したデータを使用\n",
    "- 「貸し手から Kiva に集まった資金の合計金額」を予測するモデルを作成\n",
    "\n",
    "## DAY 1（第 1 章～第 3 章）との違い \n",
    "- DAY 1 では、データの前処理をあまり行わなかった\n",
    "- また、学習用と評価用のデータを分けていなかったため、モデルの汎化性能を評価できなかった\n",
    "- DAY 2 では、これらの点を実装することで、モデルを正しい手順で構築・評価する一連の流れを示す\n",
    "\n",
    "## DAY 2（第 4 章～第 7 章）で扱う内容\n",
    "- データの読み込み\n",
    "    - 学習用とテスト用に分割\n",
    "- データの前処理\n",
    "    - 欠損値の確認\n",
    "    - 不要な列の削除\n",
    "    - 外れ値処理\n",
    "    - 標準化\n",
    "    - カテゴリ変数のダミー変数化\n",
    "    - [参考] 前処理後のデータを保存\n",
    "- モデルの構築・学習\n",
    "    - 特徴選択（埋め込み法）\n",
    "    - **正則化つき線形回帰**\n",
    "- モデルの評価\n",
    "    - 学習用データに対する評価\n",
    "    - テスト用データに対する前処理\n",
    "    - テスト用データに対する評価\n",
    "- [参考] データの書き出し"
   ]
  },
  {
   "cell_type": "markdown",
   "metadata": {},
   "source": [
    "## 1. ライブラリの読み込み"
   ]
  },
  {
   "cell_type": "code",
   "execution_count": 1,
   "metadata": {},
   "outputs": [],
   "source": [
    "import numpy as np\n",
    "import pandas as pd\n",
    "import matplotlib.pyplot as plt\n",
    "import seaborn as sns\n",
    "\n",
    "# グラフを Seaborn 風のスタイルに変更\n",
    "sns.set()\n",
    "# 学習用データとテスト用データの分割\n",
    "from sklearn.model_selection import train_test_split \n",
    "# 標準化と one-hot encoding\n",
    "from sklearn.preprocessing import StandardScaler, OneHotEncoder \n",
    "\n",
    "# 線形回帰モデル\n",
    "from sklearn.linear_model import Ridge, Lasso, ElasticNet \n",
    "# 埋め込み法による特徴選択\n",
    "from sklearn.feature_selection import SelectFromModel\n",
    "# 回帰問題の評価指標\n",
    "from sklearn.metrics import mean_absolute_error, mean_squared_error, r2_score\n",
    "\n",
    "# [参考] データをpkl形式で保存\n",
    "import pickle "
   ]
  },
  {
   "cell_type": "markdown",
   "metadata": {},
   "source": [
    "## [復習] ホールドアウト法によるモデルの検証\n",
    "\n",
    "- データを学習用とテスト用に分割\n",
    "- データの前処理\n",
    "- モデルの学習\n",
    "- テスト用データを用いて、モデルの汎化性能を評価\n"
   ]
  },
  {
   "cell_type": "markdown",
   "metadata": {},
   "source": [
    "## 2. データの読み込み\n"
   ]
  },
  {
   "cell_type": "markdown",
   "metadata": {},
   "source": [
    "### 2-1. CSVファイルの読み込み\n",
    "- DAY1と同様に、kiva のデータセットを CSV ファイルから読み込む"
   ]
  },
  {
   "cell_type": "code",
   "execution_count": 2,
   "metadata": {},
   "outputs": [
    {
     "data": {
      "text/html": [
       "<div>\n",
       "<style scoped>\n",
       "    .dataframe tbody tr th:only-of-type {\n",
       "        vertical-align: middle;\n",
       "    }\n",
       "\n",
       "    .dataframe tbody tr th {\n",
       "        vertical-align: top;\n",
       "    }\n",
       "\n",
       "    .dataframe thead th {\n",
       "        text-align: right;\n",
       "    }\n",
       "</style>\n",
       "<table border=\"1\" class=\"dataframe\">\n",
       "  <thead>\n",
       "    <tr style=\"text-align: right;\">\n",
       "      <th></th>\n",
       "      <th>funded_amount</th>\n",
       "      <th>loan_amount</th>\n",
       "      <th>activity</th>\n",
       "      <th>sector</th>\n",
       "      <th>use</th>\n",
       "      <th>country_code</th>\n",
       "      <th>country</th>\n",
       "      <th>region</th>\n",
       "      <th>currency</th>\n",
       "      <th>partner_id</th>\n",
       "      <th>posted_time</th>\n",
       "      <th>disbursed_time</th>\n",
       "      <th>funded_time</th>\n",
       "      <th>term_in_months</th>\n",
       "      <th>lender_count</th>\n",
       "      <th>tags</th>\n",
       "      <th>borrower_genders</th>\n",
       "      <th>repayment_interval</th>\n",
       "      <th>funded_state</th>\n",
       "    </tr>\n",
       "  </thead>\n",
       "  <tbody>\n",
       "    <tr>\n",
       "      <th>0</th>\n",
       "      <td>225.0</td>\n",
       "      <td>225.0</td>\n",
       "      <td>Farming</td>\n",
       "      <td>Agriculture</td>\n",
       "      <td>to buy fertilizer and pesticides</td>\n",
       "      <td>PH</td>\n",
       "      <td>Philippines</td>\n",
       "      <td>Getafe, Bohol</td>\n",
       "      <td>PHP</td>\n",
       "      <td>125.0</td>\n",
       "      <td>2015-11-27 06:24:02+00:00</td>\n",
       "      <td>2015-10-27 07:00:00+00:00</td>\n",
       "      <td>2015-12-18 18:55:43+00:00</td>\n",
       "      <td>12.0</td>\n",
       "      <td>9</td>\n",
       "      <td>#Parent, #Vegan, #Woman Owned Biz</td>\n",
       "      <td>female</td>\n",
       "      <td>irregular</td>\n",
       "      <td>1</td>\n",
       "    </tr>\n",
       "    <tr>\n",
       "      <th>1</th>\n",
       "      <td>600.0</td>\n",
       "      <td>600.0</td>\n",
       "      <td>Higher education costs</td>\n",
       "      <td>Education</td>\n",
       "      <td>to make tuition payments toward his degree</td>\n",
       "      <td>PY</td>\n",
       "      <td>Paraguay</td>\n",
       "      <td>Villarrica</td>\n",
       "      <td>PYG</td>\n",
       "      <td>58.0</td>\n",
       "      <td>2015-08-25 03:12:38+00:00</td>\n",
       "      <td>2015-07-24 07:00:00+00:00</td>\n",
       "      <td>2015-09-10 20:28:20+00:00</td>\n",
       "      <td>15.0</td>\n",
       "      <td>7</td>\n",
       "      <td>#Schooling</td>\n",
       "      <td>male</td>\n",
       "      <td>monthly</td>\n",
       "      <td>1</td>\n",
       "    </tr>\n",
       "    <tr>\n",
       "      <th>2</th>\n",
       "      <td>1800.0</td>\n",
       "      <td>1800.0</td>\n",
       "      <td>Fishing</td>\n",
       "      <td>Food</td>\n",
       "      <td>to purchase a used outboard motor to go into d...</td>\n",
       "      <td>BO</td>\n",
       "      <td>Bolivia</td>\n",
       "      <td>El Alto</td>\n",
       "      <td>USD</td>\n",
       "      <td>110.0</td>\n",
       "      <td>2016-07-18 15:54:54+00:00</td>\n",
       "      <td>2016-07-14 07:00:00+00:00</td>\n",
       "      <td>2016-08-17 20:08:52+00:00</td>\n",
       "      <td>26.0</td>\n",
       "      <td>69</td>\n",
       "      <td>#Biz Durable Asset, #Repeat Borrower, #Elderly...</td>\n",
       "      <td>male</td>\n",
       "      <td>monthly</td>\n",
       "      <td>1</td>\n",
       "    </tr>\n",
       "    <tr>\n",
       "      <th>3</th>\n",
       "      <td>2225.0</td>\n",
       "      <td>2350.0</td>\n",
       "      <td>Agriculture</td>\n",
       "      <td>Agriculture</td>\n",
       "      <td>to buy sheep for fattening up and resale</td>\n",
       "      <td>KG</td>\n",
       "      <td>Kyrgyzstan</td>\n",
       "      <td>Kulanak village</td>\n",
       "      <td>KGS</td>\n",
       "      <td>171.0</td>\n",
       "      <td>2015-03-30 05:18:10+00:00</td>\n",
       "      <td>2015-02-27 08:00:00+00:00</td>\n",
       "      <td>NaN</td>\n",
       "      <td>14.0</td>\n",
       "      <td>24</td>\n",
       "      <td>#Animals, #Parent, user_favorite, user_favorite</td>\n",
       "      <td>female</td>\n",
       "      <td>monthly</td>\n",
       "      <td>0</td>\n",
       "    </tr>\n",
       "    <tr>\n",
       "      <th>4</th>\n",
       "      <td>325.0</td>\n",
       "      <td>325.0</td>\n",
       "      <td>Personal Housing Expenses</td>\n",
       "      <td>Housing</td>\n",
       "      <td>to build a sanitary toilet for her family.</td>\n",
       "      <td>PH</td>\n",
       "      <td>Philippines</td>\n",
       "      <td>Sagay, Negros Occidental</td>\n",
       "      <td>PHP</td>\n",
       "      <td>145.0</td>\n",
       "      <td>2016-06-24 01:58:41+00:00</td>\n",
       "      <td>2016-05-25 07:00:00+00:00</td>\n",
       "      <td>2016-07-02 13:42:13+00:00</td>\n",
       "      <td>14.0</td>\n",
       "      <td>9</td>\n",
       "      <td>user_favorite</td>\n",
       "      <td>female</td>\n",
       "      <td>irregular</td>\n",
       "      <td>1</td>\n",
       "    </tr>\n",
       "  </tbody>\n",
       "</table>\n",
       "</div>"
      ],
      "text/plain": [
       "   funded_amount  loan_amount                   activity       sector  \\\n",
       "0          225.0        225.0                    Farming  Agriculture   \n",
       "1          600.0        600.0     Higher education costs    Education   \n",
       "2         1800.0       1800.0                    Fishing         Food   \n",
       "3         2225.0       2350.0                Agriculture  Agriculture   \n",
       "4          325.0        325.0  Personal Housing Expenses      Housing   \n",
       "\n",
       "                                                 use country_code  \\\n",
       "0                   to buy fertilizer and pesticides           PH   \n",
       "1         to make tuition payments toward his degree           PY   \n",
       "2  to purchase a used outboard motor to go into d...           BO   \n",
       "3           to buy sheep for fattening up and resale           KG   \n",
       "4         to build a sanitary toilet for her family.           PH   \n",
       "\n",
       "       country                    region currency  partner_id  \\\n",
       "0  Philippines             Getafe, Bohol      PHP       125.0   \n",
       "1     Paraguay                Villarrica      PYG        58.0   \n",
       "2      Bolivia                   El Alto      USD       110.0   \n",
       "3   Kyrgyzstan           Kulanak village      KGS       171.0   \n",
       "4  Philippines  Sagay, Negros Occidental      PHP       145.0   \n",
       "\n",
       "                 posted_time             disbursed_time  \\\n",
       "0  2015-11-27 06:24:02+00:00  2015-10-27 07:00:00+00:00   \n",
       "1  2015-08-25 03:12:38+00:00  2015-07-24 07:00:00+00:00   \n",
       "2  2016-07-18 15:54:54+00:00  2016-07-14 07:00:00+00:00   \n",
       "3  2015-03-30 05:18:10+00:00  2015-02-27 08:00:00+00:00   \n",
       "4  2016-06-24 01:58:41+00:00  2016-05-25 07:00:00+00:00   \n",
       "\n",
       "                 funded_time  term_in_months  lender_count  \\\n",
       "0  2015-12-18 18:55:43+00:00            12.0             9   \n",
       "1  2015-09-10 20:28:20+00:00            15.0             7   \n",
       "2  2016-08-17 20:08:52+00:00            26.0            69   \n",
       "3                        NaN            14.0            24   \n",
       "4  2016-07-02 13:42:13+00:00            14.0             9   \n",
       "\n",
       "                                                tags borrower_genders  \\\n",
       "0                  #Parent, #Vegan, #Woman Owned Biz           female   \n",
       "1                                         #Schooling             male   \n",
       "2  #Biz Durable Asset, #Repeat Borrower, #Elderly...             male   \n",
       "3    #Animals, #Parent, user_favorite, user_favorite           female   \n",
       "4                                      user_favorite           female   \n",
       "\n",
       "  repayment_interval  funded_state  \n",
       "0          irregular             1  \n",
       "1            monthly             1  \n",
       "2            monthly             1  \n",
       "3            monthly             0  \n",
       "4          irregular             1  "
      ]
     },
     "execution_count": 2,
     "metadata": {},
     "output_type": "execute_result"
    }
   ],
   "source": [
    "df = pd.read_csv('../data/kiva_loans.csv')\n",
    "df.head()"
   ]
  },
  {
   "cell_type": "markdown",
   "metadata": {},
   "source": [
    "### 2-2. データの分割\n",
    "- まずはデータを学習用とテスト用に分割する\n",
    "- 比率は train : test = 7 : 3 とする"
   ]
  },
  {
   "cell_type": "code",
   "execution_count": 3,
   "metadata": {},
   "outputs": [
    {
     "name": "stdout",
     "output_type": "stream",
     "text": [
      "X_train: (68829, 18)\n",
      "X_test: (29499, 18)\n",
      "y_train: (68829,)\n",
      "y_test: (29499,)\n"
     ]
    }
   ],
   "source": [
    "# dfから目的変数となる列 fundeed_amount を削除\n",
    "X = df.drop('funded_amount', axis=1)\n",
    "# dfから目的変数となる列 fundeed_amount のみ抽出\n",
    "y = df['funded_amount']\n",
    "\n",
    "# train:test=7:3に分割\n",
    "X_train, X_test, y_train, y_test = train_test_split(\n",
    "    X, y, test_size=0.3, random_state=42\n",
    ")\n",
    "\n",
    "# 各データの形状を確認\n",
    "print(f'X_train: {X_train.shape}')\n",
    "print(f'X_test: {X_test.shape}')\n",
    "print(f'y_train: {y_train.shape}')\n",
    "print(f'y_test: {y_test.shape}')"
   ]
  },
  {
   "cell_type": "markdown",
   "metadata": {},
   "source": [
    "## 3. データの前処理"
   ]
  },
  {
   "cell_type": "markdown",
   "metadata": {},
   "source": [
    "### 3-1. 欠損値の確認\n",
    "まずは、各列ごとに欠損値がどれくらい含まれているかを確認する"
   ]
  },
  {
   "cell_type": "code",
   "execution_count": 4,
   "metadata": {},
   "outputs": [
    {
     "data": {
      "text/plain": [
       "loan_amount               0\n",
       "activity                  0\n",
       "sector                    0\n",
       "use                     691\n",
       "country_code              0\n",
       "country                   0\n",
       "region                 8338\n",
       "currency                  0\n",
       "partner_id             2119\n",
       "posted_time               0\n",
       "disbursed_time         1549\n",
       "funded_time           33788\n",
       "term_in_months            0\n",
       "lender_count              0\n",
       "tags                  11885\n",
       "borrower_genders        686\n",
       "repayment_interval        0\n",
       "funded_state              0\n",
       "dtype: int64"
      ]
     },
     "execution_count": 4,
     "metadata": {},
     "output_type": "execute_result"
    }
   ],
   "source": [
    "# 列ごとに欠損値の数を確認\n",
    "X_train.isnull().sum()"
   ]
  },
  {
   "cell_type": "markdown",
   "metadata": {},
   "source": [
    "### 3-2. 不要な列の削除\n",
    "- 欠損値を含む列を全て削除\n",
    "    - use, region, partner_id, disbursed_time, funded_time, tags, borrower_genders\n",
    "    - 欠損値処理のひとつ（詳しくは DAY2 で扱う）\n",
    "    \n",
    "- 目的変数そのものの情報を含んでいる変数を削除\n",
    "    - funded_state には **funded_amount** の情報が使われているため削除\n",
    "    - posted_time, lender_count もリーケージ（※）の恐れがあるため削除\n",
    "- 重複した情報をもつ変数を削除\n",
    "    - activity は sector をさらに細分化したものであるため、sector を残して activity を削除\n",
    "    - country, country_code, currency は全て地域を表す変数であるため、currency 以外を削除\n",
    "    \n",
    "※リーケージ…本来得られるはずのないデータをモデルの学習時に使用してしまうこと\n"
   ]
  },
  {
   "cell_type": "code",
   "execution_count": 5,
   "metadata": {},
   "outputs": [
    {
     "data": {
      "text/html": [
       "<div>\n",
       "<style scoped>\n",
       "    .dataframe tbody tr th:only-of-type {\n",
       "        vertical-align: middle;\n",
       "    }\n",
       "\n",
       "    .dataframe tbody tr th {\n",
       "        vertical-align: top;\n",
       "    }\n",
       "\n",
       "    .dataframe thead th {\n",
       "        text-align: right;\n",
       "    }\n",
       "</style>\n",
       "<table border=\"1\" class=\"dataframe\">\n",
       "  <thead>\n",
       "    <tr style=\"text-align: right;\">\n",
       "      <th></th>\n",
       "      <th>loan_amount</th>\n",
       "      <th>sector</th>\n",
       "      <th>currency</th>\n",
       "      <th>term_in_months</th>\n",
       "      <th>repayment_interval</th>\n",
       "    </tr>\n",
       "  </thead>\n",
       "  <tbody>\n",
       "    <tr>\n",
       "      <th>51893</th>\n",
       "      <td>800.0</td>\n",
       "      <td>Food</td>\n",
       "      <td>USD</td>\n",
       "      <td>14.0</td>\n",
       "      <td>monthly</td>\n",
       "    </tr>\n",
       "    <tr>\n",
       "      <th>49251</th>\n",
       "      <td>250.0</td>\n",
       "      <td>Retail</td>\n",
       "      <td>KES</td>\n",
       "      <td>14.0</td>\n",
       "      <td>monthly</td>\n",
       "    </tr>\n",
       "    <tr>\n",
       "      <th>85690</th>\n",
       "      <td>2025.0</td>\n",
       "      <td>Food</td>\n",
       "      <td>VND</td>\n",
       "      <td>17.0</td>\n",
       "      <td>monthly</td>\n",
       "    </tr>\n",
       "    <tr>\n",
       "      <th>4893</th>\n",
       "      <td>675.0</td>\n",
       "      <td>Agriculture</td>\n",
       "      <td>UGX</td>\n",
       "      <td>14.0</td>\n",
       "      <td>irregular</td>\n",
       "    </tr>\n",
       "    <tr>\n",
       "      <th>89919</th>\n",
       "      <td>400.0</td>\n",
       "      <td>Agriculture</td>\n",
       "      <td>KES</td>\n",
       "      <td>14.0</td>\n",
       "      <td>monthly</td>\n",
       "    </tr>\n",
       "  </tbody>\n",
       "</table>\n",
       "</div>"
      ],
      "text/plain": [
       "       loan_amount       sector currency  term_in_months repayment_interval\n",
       "51893        800.0         Food      USD            14.0            monthly\n",
       "49251        250.0       Retail      KES            14.0            monthly\n",
       "85690       2025.0         Food      VND            17.0            monthly\n",
       "4893         675.0  Agriculture      UGX            14.0          irregular\n",
       "89919        400.0  Agriculture      KES            14.0            monthly"
      ]
     },
     "execution_count": 5,
     "metadata": {},
     "output_type": "execute_result"
    }
   ],
   "source": [
    "removed_cols = ['use', 'region', 'partner_id', 'disbursed_time', 'funded_time', 'tags', 'borrower_genders',\\\n",
    "  'funded_state', 'posted_time', 'lender_count', 'activity', 'country', 'country_code']\n",
    "X_train = X_train.drop(columns=removed_cols, axis=1)\n",
    "X_train.head()"
   ]
  },
  {
   "cell_type": "code",
   "execution_count": 6,
   "metadata": {},
   "outputs": [
    {
     "data": {
      "text/plain": [
       "loan_amount           0\n",
       "sector                0\n",
       "currency              0\n",
       "term_in_months        0\n",
       "repayment_interval    0\n",
       "dtype: int64"
      ]
     },
     "execution_count": 6,
     "metadata": {},
     "output_type": "execute_result"
    }
   ],
   "source": [
    "# 欠損値がなくなっていることを確認\n",
    "X_train.isnull().sum()"
   ]
  },
  {
   "cell_type": "markdown",
   "metadata": {},
   "source": [
    "### 3-3. 統計量/カウント数の確認"
   ]
  },
  {
   "cell_type": "code",
   "execution_count": 7,
   "metadata": {},
   "outputs": [
    {
     "data": {
      "text/html": [
       "<div>\n",
       "<style scoped>\n",
       "    .dataframe tbody tr th:only-of-type {\n",
       "        vertical-align: middle;\n",
       "    }\n",
       "\n",
       "    .dataframe tbody tr th {\n",
       "        vertical-align: top;\n",
       "    }\n",
       "\n",
       "    .dataframe thead th {\n",
       "        text-align: right;\n",
       "    }\n",
       "</style>\n",
       "<table border=\"1\" class=\"dataframe\">\n",
       "  <thead>\n",
       "    <tr style=\"text-align: right;\">\n",
       "      <th></th>\n",
       "      <th>loan_amount</th>\n",
       "      <th>term_in_months</th>\n",
       "    </tr>\n",
       "  </thead>\n",
       "  <tbody>\n",
       "    <tr>\n",
       "      <th>count</th>\n",
       "      <td>68829.000000</td>\n",
       "      <td>68829.000000</td>\n",
       "    </tr>\n",
       "    <tr>\n",
       "      <th>mean</th>\n",
       "      <td>1097.737146</td>\n",
       "      <td>15.756847</td>\n",
       "    </tr>\n",
       "    <tr>\n",
       "      <th>std</th>\n",
       "      <td>1436.583552</td>\n",
       "      <td>8.754879</td>\n",
       "    </tr>\n",
       "    <tr>\n",
       "      <th>min</th>\n",
       "      <td>25.000000</td>\n",
       "      <td>1.000000</td>\n",
       "    </tr>\n",
       "    <tr>\n",
       "      <th>25%</th>\n",
       "      <td>375.000000</td>\n",
       "      <td>11.000000</td>\n",
       "    </tr>\n",
       "    <tr>\n",
       "      <th>50%</th>\n",
       "      <td>700.000000</td>\n",
       "      <td>14.000000</td>\n",
       "    </tr>\n",
       "    <tr>\n",
       "      <th>75%</th>\n",
       "      <td>1250.000000</td>\n",
       "      <td>20.000000</td>\n",
       "    </tr>\n",
       "    <tr>\n",
       "      <th>max</th>\n",
       "      <td>100000.000000</td>\n",
       "      <td>145.000000</td>\n",
       "    </tr>\n",
       "  </tbody>\n",
       "</table>\n",
       "</div>"
      ],
      "text/plain": [
       "         loan_amount  term_in_months\n",
       "count   68829.000000    68829.000000\n",
       "mean     1097.737146       15.756847\n",
       "std      1436.583552        8.754879\n",
       "min        25.000000        1.000000\n",
       "25%       375.000000       11.000000\n",
       "50%       700.000000       14.000000\n",
       "75%      1250.000000       20.000000\n",
       "max    100000.000000      145.000000"
      ]
     },
     "execution_count": 7,
     "metadata": {},
     "output_type": "execute_result"
    }
   ],
   "source": [
    "# 数値型変数の2つの列について，統計量を確認\n",
    "X_train.describe()"
   ]
  },
  {
   "cell_type": "code",
   "execution_count": 8,
   "metadata": {},
   "outputs": [
    {
     "data": {
      "text/plain": [
       "sector\n",
       "Agriculture       19154\n",
       "Retail            13514\n",
       "Food              12945\n",
       "Services           5055\n",
       "Housing            4433\n",
       "Clothing           3738\n",
       "Personal Use       2973\n",
       "Education          2210\n",
       "Transportation     1915\n",
       "Health              939\n",
       "Arts                822\n",
       "Construction        587\n",
       "Manufacturing       390\n",
       "Entertainment       106\n",
       "Wholesale            48\n",
       "Name: count, dtype: int64"
      ]
     },
     "execution_count": 8,
     "metadata": {},
     "output_type": "execute_result"
    }
   ],
   "source": [
    "# カテゴリ変数'sector'について，各値のカウント数を確認\n",
    "X_train['sector'].value_counts()"
   ]
  },
  {
   "cell_type": "code",
   "execution_count": 9,
   "metadata": {},
   "outputs": [
    {
     "data": {
      "text/plain": [
       "repayment_interval\n",
       "monthly      39177\n",
       "irregular    18881\n",
       "bullet       10732\n",
       "weekly          39\n",
       "Name: count, dtype: int64"
      ]
     },
     "execution_count": 9,
     "metadata": {},
     "output_type": "execute_result"
    }
   ],
   "source": [
    "# カテゴリ変数'repayment_interval'について，各値のカウント数を確認\n",
    "X_train['repayment_interval'].value_counts()"
   ]
  },
  {
   "cell_type": "markdown",
   "metadata": {},
   "source": [
    "## 4. 数値型の変数に対する前処理\n",
    "- loan_amount と term_in_month が数値型の変数に該当\n",
    "- 外れ値処理と標準化を行う"
   ]
  },
  {
   "cell_type": "markdown",
   "metadata": {},
   "source": [
    "### 4-1. 外れ値処理\n",
    "- IQR を四分位範囲、Q1，Q3 をそれぞれ第一四分位数、第三四分位数とする\n",
    "- `Q1-1.5IQR` 以下および `Q3+1.5IQR` 以上を外れ値として除去\n",
    "- 除去する際には、データフレームの [query() メソッド](https://pandas.pydata.org/docs/reference/api/pandas.DataFrame.query.html)を用いる\n"
   ]
  },
  {
   "cell_type": "markdown",
   "metadata": {},
   "source": [
    "#### 4-1-1. loan_amountの外れ値を削除"
   ]
  },
  {
   "cell_type": "code",
   "execution_count": 10,
   "metadata": {},
   "outputs": [
    {
     "data": {
      "text/plain": [
       "<AxesSubplot:>"
      ]
     },
     "execution_count": 10,
     "metadata": {},
     "output_type": "execute_result"
    },
    {
     "data": {
      "image/png": "[encoded data removed]",
      "text/plain": [
       "<Figure size 640x480 with 1 Axes>"
      ]
     },
     "metadata": {},
     "output_type": "display_data"
    }
   ],
   "source": [
    "# loan_amount列の分布を確認\n",
    "sns.boxplot(data=X_train['loan_amount'])"
   ]
  },
  {
   "cell_type": "code",
   "execution_count": 11,
   "metadata": {},
   "outputs": [
    {
     "data": {
      "text/plain": [
       "<AxesSubplot:>"
      ]
     },
     "execution_count": 11,
     "metadata": {},
     "output_type": "execute_result"
    },
    {
     "data": {
      "image/png": "[encoded data removed]",
      "text/plain": [
       "<Figure size 640x480 with 1 Axes>"
      ]
     },
     "metadata": {},
     "output_type": "display_data"
    }
   ],
   "source": [
    "# 外れ値除去の実装\n",
    "q1 = X_train['loan_amount'].quantile(0.25) # 第一四分位数\n",
    "q3 = X_train['loan_amount'].quantile(0.75) # 第三四分位数\n",
    "iqr = q3 - q1                              # 四分位範囲\n",
    "\n",
    "# 上限と下限を計算\n",
    "lim_row  = q1 - 1.5 * iqr\n",
    "lim_high = q3 + 1.5 * iqr\n",
    "\n",
    "# 外れ値を含む行を除去する\n",
    "# 文字列中の変数名の前に @ マークを付けることで、変数の値を取得\n",
    "n_X_train = X_train.query('@lim_row <= loan_amount <= @lim_high')\n",
    "\n",
    "# 外れ値を除去した後のloan_amountの分布\n",
    "sns.boxplot(data=n_X_train['loan_amount'])"
   ]
  },
  {
   "cell_type": "markdown",
   "metadata": {},
   "source": [
    "#### 4-1-2. term_in_monthsの外れ値を削除"
   ]
  },
  {
   "cell_type": "code",
   "execution_count": 12,
   "metadata": {},
   "outputs": [
    {
     "data": {
      "text/plain": [
       "<AxesSubplot:>"
      ]
     },
     "execution_count": 12,
     "metadata": {},
     "output_type": "execute_result"
    },
    {
     "data": {
      "image/png": "[encoded data removed]",
      "text/plain": [
       "<Figure size 640x480 with 1 Axes>"
      ]
     },
     "metadata": {},
     "output_type": "display_data"
    }
   ],
   "source": [
    "# term_in_months列の分布を確認\n",
    "sns.boxplot(data=n_X_train['term_in_months'])"
   ]
  },
  {
   "cell_type": "code",
   "execution_count": 13,
   "metadata": {},
   "outputs": [
    {
     "data": {
      "text/plain": [
       "<AxesSubplot:>"
      ]
     },
     "execution_count": 13,
     "metadata": {},
     "output_type": "execute_result"
    },
    {
     "data": {
      "image/png": "[encoded data removed]",
      "text/plain": [
       "<Figure size 640x480 with 1 Axes>"
      ]
     },
     "metadata": {},
     "output_type": "display_data"
    }
   ],
   "source": [
    "# 外れ値除去の実装\n",
    "q1 = n_X_train['term_in_months'].quantile(0.25) # 第一四分位数\n",
    "q3 = n_X_train['term_in_months'].quantile(0.75) # 第三四分位数\n",
    "iqr = q3 - q1                                   # 四分位範囲\n",
    "\n",
    "# 上限と下限を計算\n",
    "lim_row  = q1 - 1.5 * iqr\n",
    "lim_high = q3 + 1.5 * iqr\n",
    "\n",
    "# 外れ値を含む行を除去する\n",
    "# 文字列中の変数名の前に @ マークを付けることで、変数の値を取得\n",
    "nn_X_train = n_X_train.query('@lim_row <= term_in_months <= @lim_high')\n",
    "\n",
    "# 外れ値を除去した後のterm_in_monthsの分布\n",
    "sns.boxplot(data=nn_X_train['term_in_months'])"
   ]
  },
  {
   "cell_type": "markdown",
   "metadata": {},
   "source": [
    "#### 4-1-3. 処理後の行数を確認"
   ]
  },
  {
   "cell_type": "code",
   "execution_count": 14,
   "metadata": {},
   "outputs": [
    {
     "name": "stdout",
     "output_type": "stream",
     "text": [
      "外れ値除去前：(68829, 5)\n",
      "外れ値除去後：(60894, 5)\n"
     ]
    }
   ],
   "source": [
    "# 外れ値を除去して行数がどう変わったか確認\n",
    "print(f'外れ値除去前：{X_train.shape}')\n",
    "print(f'外れ値除去後：{nn_X_train.shape}')"
   ]
  },
  {
   "cell_type": "markdown",
   "metadata": {},
   "source": [
    "### 4-2. 標準化\n",
    "数値型の列のスケールを合わせるために標準化を行う"
   ]
  },
  {
   "cell_type": "code",
   "execution_count": 15,
   "metadata": {},
   "outputs": [],
   "source": [
    "# 標準化する列名の配列\n",
    "scaled_columns = ['loan_amount', 'term_in_months']\n",
    "# 標準化後のdfを入れる変数\n",
    "# 値を上書きしないようにcopy()を使用\n",
    "nn_X_train_std = nn_X_train.copy()\n",
    "\n",
    "# 標準化用のインスタンスを作成\n",
    "std = StandardScaler()\n",
    "# 平均と標準偏差を取得\n",
    "sc_train = std.fit(nn_X_train[scaled_columns])\n",
    "# 標準化の実行\n",
    "std_cols = sc_train.transform(nn_X_train[scaled_columns])\n",
    "\n",
    "# 結果を新たなdfに代入\n",
    "nn_X_train_std[scaled_columns]  = std_cols"
   ]
  },
  {
   "cell_type": "code",
   "execution_count": 16,
   "metadata": {},
   "outputs": [
    {
     "data": {
      "text/html": [
       "<div>\n",
       "<style scoped>\n",
       "    .dataframe tbody tr th:only-of-type {\n",
       "        vertical-align: middle;\n",
       "    }\n",
       "\n",
       "    .dataframe tbody tr th {\n",
       "        vertical-align: top;\n",
       "    }\n",
       "\n",
       "    .dataframe thead th {\n",
       "        text-align: right;\n",
       "    }\n",
       "</style>\n",
       "<table border=\"1\" class=\"dataframe\">\n",
       "  <thead>\n",
       "    <tr style=\"text-align: right;\">\n",
       "      <th></th>\n",
       "      <th>loan_amount</th>\n",
       "      <th>term_in_months</th>\n",
       "    </tr>\n",
       "  </thead>\n",
       "  <tbody>\n",
       "    <tr>\n",
       "      <th>count</th>\n",
       "      <td>6.089400e+04</td>\n",
       "      <td>6.089400e+04</td>\n",
       "    </tr>\n",
       "    <tr>\n",
       "      <th>mean</th>\n",
       "      <td>5.367518e-18</td>\n",
       "      <td>4.445705e-17</td>\n",
       "    </tr>\n",
       "    <tr>\n",
       "      <th>std</th>\n",
       "      <td>1.000008e+00</td>\n",
       "      <td>1.000008e+00</td>\n",
       "    </tr>\n",
       "    <tr>\n",
       "      <th>min</th>\n",
       "      <td>-1.397368e+00</td>\n",
       "      <td>-2.418155e+00</td>\n",
       "    </tr>\n",
       "    <tr>\n",
       "      <th>25%</th>\n",
       "      <td>-7.841997e-01</td>\n",
       "      <td>-6.107629e-01</td>\n",
       "    </tr>\n",
       "    <tr>\n",
       "      <th>50%</th>\n",
       "      <td>-2.653652e-01</td>\n",
       "      <td>-6.854521e-02</td>\n",
       "    </tr>\n",
       "    <tr>\n",
       "      <th>75%</th>\n",
       "      <td>4.893032e-01</td>\n",
       "      <td>4.736725e-01</td>\n",
       "    </tr>\n",
       "    <tr>\n",
       "      <th>max</th>\n",
       "      <td>3.366476e+00</td>\n",
       "      <td>2.461804e+00</td>\n",
       "    </tr>\n",
       "  </tbody>\n",
       "</table>\n",
       "</div>"
      ],
      "text/plain": [
       "        loan_amount  term_in_months\n",
       "count  6.089400e+04    6.089400e+04\n",
       "mean   5.367518e-18    4.445705e-17\n",
       "std    1.000008e+00    1.000008e+00\n",
       "min   -1.397368e+00   -2.418155e+00\n",
       "25%   -7.841997e-01   -6.107629e-01\n",
       "50%   -2.653652e-01   -6.854521e-02\n",
       "75%    4.893032e-01    4.736725e-01\n",
       "max    3.366476e+00    2.461804e+00"
      ]
     },
     "execution_count": 16,
     "metadata": {},
     "output_type": "execute_result"
    }
   ],
   "source": [
    "# meanがほぼ0（絶対値が極めて小さい値）になっている\n",
    "# stdがほぼ1になっている\n",
    "nn_X_train_std.describe()"
   ]
  },
  {
   "cell_type": "markdown",
   "metadata": {},
   "source": [
    "## 5. カテゴリ変数に対する前処理\n",
    "- sector, currency, repayment_interval に対し、ダミー変数化を行う\n",
    "\n",
    "- DAY1では Pandas の `pd.get_dummies` を用いたが、今回は sklearn の `OneHotEncoder` を用いる\n",
    "\n",
    "    - Pandas の `pd.get_dummies` では簡単に処理を行えるが、テストデータに適用する際に不都合が生じることが多い\n",
    "    - 特に、学習用/テスト用において、カテゴリの種類数が異なる場合は深刻\n",
    "\n",
    "参考：[【python】機械学習でpandas.get_dummiesを使ってはいけない](https://www.haya-programming.com/entry/2019/08/17/184527)\n",
    "\n"
   ]
  },
  {
   "cell_type": "markdown",
   "metadata": {},
   "source": [
    "### 5-1. One-hot エンコーディングの実行"
   ]
  },
  {
   "cell_type": "code",
   "execution_count": 17,
   "metadata": {},
   "outputs": [
    {
     "data": {
      "text/html": [
       "<style>#sk-container-id-1 {color: black;}#sk-container-id-1 pre{padding: 0;}#sk-container-id-1 div.sk-toggleable {background-color: white;}#sk-container-id-1 label.sk-toggleable__label {cursor: pointer;display: block;width: 100%;margin-bottom: 0;padding: 0.3em;box-sizing: border-box;text-align: center;}#sk-container-id-1 label.sk-toggleable__label-arrow:before {content: \"▸\";float: left;margin-right: 0.25em;color: #696969;}#sk-container-id-1 label.sk-toggleable__label-arrow:hover:before {color: black;}#sk-container-id-1 div.sk-estimator:hover label.sk-toggleable__label-arrow:before {color: black;}#sk-container-id-1 div.sk-toggleable__content {max-height: 0;max-width: 0;overflow: hidden;text-align: left;background-color: #f0f8ff;}#sk-container-id-1 div.sk-toggleable__content pre {margin: 0.2em;color: black;border-radius: 0.25em;background-color: #f0f8ff;}#sk-container-id-1 input.sk-toggleable__control:checked~div.sk-toggleable__content {max-height: 200px;max-width: 100%;overflow: auto;}#sk-container-id-1 input.sk-toggleable__control:checked~label.sk-toggleable__label-arrow:before {content: \"▾\";}#sk-container-id-1 div.sk-estimator input.sk-toggleable__control:checked~label.sk-toggleable__label {background-color: #d4ebff;}#sk-container-id-1 div.sk-label input.sk-toggleable__control:checked~label.sk-toggleable__label {background-color: #d4ebff;}#sk-container-id-1 input.sk-hidden--visually {border: 0;clip: rect(1px 1px 1px 1px);clip: rect(1px, 1px, 1px, 1px);height: 1px;margin: -1px;overflow: hidden;padding: 0;position: absolute;width: 1px;}#sk-container-id-1 div.sk-estimator {font-family: monospace;background-color: #f0f8ff;border: 1px dotted black;border-radius: 0.25em;box-sizing: border-box;margin-bottom: 0.5em;}#sk-container-id-1 div.sk-estimator:hover {background-color: #d4ebff;}#sk-container-id-1 div.sk-parallel-item::after {content: \"\";width: 100%;border-bottom: 1px solid gray;flex-grow: 1;}#sk-container-id-1 div.sk-label:hover label.sk-toggleable__label {background-color: #d4ebff;}#sk-container-id-1 div.sk-serial::before {content: \"\";position: absolute;border-left: 1px solid gray;box-sizing: border-box;top: 0;bottom: 0;left: 50%;z-index: 0;}#sk-container-id-1 div.sk-serial {display: flex;flex-direction: column;align-items: center;background-color: white;padding-right: 0.2em;padding-left: 0.2em;position: relative;}#sk-container-id-1 div.sk-item {position: relative;z-index: 1;}#sk-container-id-1 div.sk-parallel {display: flex;align-items: stretch;justify-content: center;background-color: white;position: relative;}#sk-container-id-1 div.sk-item::before, #sk-container-id-1 div.sk-parallel-item::before {content: \"\";position: absolute;border-left: 1px solid gray;box-sizing: border-box;top: 0;bottom: 0;left: 50%;z-index: -1;}#sk-container-id-1 div.sk-parallel-item {display: flex;flex-direction: column;z-index: 1;position: relative;background-color: white;}#sk-container-id-1 div.sk-parallel-item:first-child::after {align-self: flex-end;width: 50%;}#sk-container-id-1 div.sk-parallel-item:last-child::after {align-self: flex-start;width: 50%;}#sk-container-id-1 div.sk-parallel-item:only-child::after {width: 0;}#sk-container-id-1 div.sk-dashed-wrapped {border: 1px dashed gray;margin: 0 0.4em 0.5em 0.4em;box-sizing: border-box;padding-bottom: 0.4em;background-color: white;}#sk-container-id-1 div.sk-label label {font-family: monospace;font-weight: bold;display: inline-block;line-height: 1.2em;}#sk-container-id-1 div.sk-label-container {text-align: center;}#sk-container-id-1 div.sk-container {/* jupyter's `normalize.less` sets `[hidden] { display: none; }` but bootstrap.min.css set `[hidden] { display: none !important; }` so we also need the `!important` here to be able to override the default hidden behavior on the sphinx rendered scikit-learn.org. See: https://github.com/scikit-learn/scikit-learn/issues/21755 */display: inline-block !important;position: relative;}#sk-container-id-1 div.sk-text-repr-fallback {display: none;}</style><div id=\"sk-container-id-1\" class=\"sk-top-container\"><div class=\"sk-text-repr-fallback\"><pre>OneHotEncoder(handle_unknown=&#x27;ignore&#x27;, sparse_output=False)</pre><b>In a Jupyter environment, please rerun this cell to show the HTML representation or trust the notebook. <br />On GitHub, the HTML representation is unable to render, please try loading this page with nbviewer.org.</b></div><div class=\"sk-container\" hidden><div class=\"sk-item\"><div class=\"sk-estimator sk-toggleable\"><input class=\"sk-toggleable__control sk-hidden--visually\" id=\"sk-estimator-id-1\" type=\"checkbox\" checked><label for=\"sk-estimator-id-1\" class=\"sk-toggleable__label sk-toggleable__label-arrow\">OneHotEncoder</label><div class=\"sk-toggleable__content\"><pre>OneHotEncoder(handle_unknown=&#x27;ignore&#x27;, sparse_output=False)</pre></div></div></div></div></div>"
      ],
      "text/plain": [
       "OneHotEncoder(handle_unknown='ignore', sparse_output=False)"
      ]
     },
     "execution_count": 17,
     "metadata": {},
     "output_type": "execute_result"
    }
   ],
   "source": [
    "# カテゴリ変数の列名のリスト\n",
    "cat_cols = ['sector', 'currency', 'repayment_interval']\n",
    "\n",
    "# OneHotEncoder を定義\n",
    "ohe = OneHotEncoder(handle_unknown=\"ignore\", sparse_output=False)\n",
    "# ohe を学習用データに fit させる\n",
    "ohe.fit(nn_X_train_std[cat_cols])"
   ]
  },
  {
   "cell_type": "code",
   "execution_count": 18,
   "metadata": {},
   "outputs": [
    {
     "data": {
      "text/plain": [
       "(60894, 82)"
      ]
     },
     "execution_count": 18,
     "metadata": {},
     "output_type": "execute_result"
    }
   ],
   "source": [
    "# 学習データの3つのカラムを One-hot エンコーディング\n",
    "encoded_cols_train = ohe.transform(nn_X_train_std[cat_cols])\n",
    "\n",
    "# 型が float64 になっているため、int に変換(値は0 or 1)\n",
    "encoded_cols_train = np.array(encoded_cols_train, dtype='int') \n",
    "encoded_cols_train.shape"
   ]
  },
  {
   "cell_type": "markdown",
   "metadata": {},
   "source": [
    "### 5-2. 変換後の列名を確認 "
   ]
  },
  {
   "cell_type": "code",
   "execution_count": 19,
   "metadata": {
    "scrolled": true
   },
   "outputs": [
    {
     "data": {
      "text/plain": [
       "[array(['Agriculture', 'Arts', 'Clothing', 'Construction', 'Education',\n",
       "        'Entertainment', 'Food', 'Health', 'Housing', 'Manufacturing',\n",
       "        'Personal Use', 'Retail', 'Services', 'Transportation',\n",
       "        'Wholesale'], dtype=object),\n",
       " array(['ALL', 'AMD', 'AZN', 'BIF', 'BOB', 'BRL', 'BZD', 'CNY', 'COP',\n",
       "        'CRC', 'DOP', 'EGP', 'EUR', 'GEL', 'GHS', 'GTQ', 'HNL', 'HTG',\n",
       "        'IDR', 'ILS', 'INR', 'JOD', 'KES', 'KGS', 'KHR', 'LAK', 'LBP',\n",
       "        'LRD', 'LSL', 'MDL', 'MGA', 'MMK', 'MNT', 'MWK', 'MXN', 'MZN',\n",
       "        'NGN', 'NIO', 'NPR', 'PEN', 'PHP', 'PKR', 'PYG', 'RWF', 'SBD',\n",
       "        'SLL', 'SRD', 'SSP', 'THB', 'TJS', 'TRY', 'TZS', 'UAH', 'UGX',\n",
       "        'USD', 'VND', 'WST', 'XAF', 'XCD', 'XOF', 'YER', 'ZAR', 'ZMW'],\n",
       "       dtype=object),\n",
       " array(['bullet', 'irregular', 'monthly', 'weekly'], dtype=object)]"
      ]
     },
     "execution_count": 19,
     "metadata": {},
     "output_type": "execute_result"
    }
   ],
   "source": [
    "# 各列のカテゴリ名は、ohe の categories_ に記録されている\n",
    "ohe.categories_"
   ]
  },
  {
   "cell_type": "code",
   "execution_count": 20,
   "metadata": {},
   "outputs": [
    {
     "name": "stdout",
     "output_type": "stream",
     "text": [
      "['sector_Agriculture', 'sector_Arts', 'sector_Clothing', 'sector_Construction', 'sector_Education', 'sector_Entertainment', 'sector_Food', 'sector_Health', 'sector_Housing', 'sector_Manufacturing', 'sector_Personal Use', 'sector_Retail', 'sector_Services', 'sector_Transportation', 'sector_Wholesale', 'currency_ALL', 'currency_AMD', 'currency_AZN', 'currency_BIF', 'currency_BOB', 'currency_BRL', 'currency_BZD', 'currency_CNY', 'currency_COP', 'currency_CRC', 'currency_DOP', 'currency_EGP', 'currency_EUR', 'currency_GEL', 'currency_GHS', 'currency_GTQ', 'currency_HNL', 'currency_HTG', 'currency_IDR', 'currency_ILS', 'currency_INR', 'currency_JOD', 'currency_KES', 'currency_KGS', 'currency_KHR', 'currency_LAK', 'currency_LBP', 'currency_LRD', 'currency_LSL', 'currency_MDL', 'currency_MGA', 'currency_MMK', 'currency_MNT', 'currency_MWK', 'currency_MXN', 'currency_MZN', 'currency_NGN', 'currency_NIO', 'currency_NPR', 'currency_PEN', 'currency_PHP', 'currency_PKR', 'currency_PYG', 'currency_RWF', 'currency_SBD', 'currency_SLL', 'currency_SRD', 'currency_SSP', 'currency_THB', 'currency_TJS', 'currency_TRY', 'currency_TZS', 'currency_UAH', 'currency_UGX', 'currency_USD', 'currency_VND', 'currency_WST', 'currency_XAF', 'currency_XCD', 'currency_XOF', 'currency_YER', 'currency_ZAR', 'currency_ZMW', 'repayment_interval_bullet', 'repayment_interval_irregular', 'repayment_interval_monthly', 'repayment_interval_weekly']\n"
     ]
    }
   ],
   "source": [
    "# 列名を格納するための配列\n",
    "new_columns = []\n",
    "for lst, category in zip(ohe.categories_, cat_cols):\n",
    "    for val in lst:\n",
    "        # カテゴリ名_値 という列名にする(例: sector_Arts）\n",
    "        new_columns.append(f'{category}_{val}') \n",
    "\n",
    "# oheによって追加された列名を表示\n",
    "print(new_columns)"
   ]
  },
  {
   "cell_type": "markdown",
   "metadata": {},
   "source": [
    "### 5-3. データフレームの結合"
   ]
  },
  {
   "cell_type": "code",
   "execution_count": 21,
   "metadata": {},
   "outputs": [
    {
     "data": {
      "text/plain": [
       "Index(['loan_amount', 'term_in_months', 'sector_Agriculture', 'sector_Arts',\n",
       "       'sector_Clothing', 'sector_Construction', 'sector_Education',\n",
       "       'sector_Entertainment', 'sector_Food', 'sector_Health',\n",
       "       'sector_Housing', 'sector_Manufacturing', 'sector_Personal Use',\n",
       "       'sector_Retail', 'sector_Services', 'sector_Transportation',\n",
       "       'sector_Wholesale', 'currency_ALL', 'currency_AMD', 'currency_AZN',\n",
       "       'currency_BIF', 'currency_BOB', 'currency_BRL', 'currency_BZD',\n",
       "       'currency_CNY', 'currency_COP', 'currency_CRC', 'currency_DOP',\n",
       "       'currency_EGP', 'currency_EUR', 'currency_GEL', 'currency_GHS',\n",
       "       'currency_GTQ', 'currency_HNL', 'currency_HTG', 'currency_IDR',\n",
       "       'currency_ILS', 'currency_INR', 'currency_JOD', 'currency_KES',\n",
       "       'currency_KGS', 'currency_KHR', 'currency_LAK', 'currency_LBP',\n",
       "       'currency_LRD', 'currency_LSL', 'currency_MDL', 'currency_MGA',\n",
       "       'currency_MMK', 'currency_MNT', 'currency_MWK', 'currency_MXN',\n",
       "       'currency_MZN', 'currency_NGN', 'currency_NIO', 'currency_NPR',\n",
       "       'currency_PEN', 'currency_PHP', 'currency_PKR', 'currency_PYG',\n",
       "       'currency_RWF', 'currency_SBD', 'currency_SLL', 'currency_SRD',\n",
       "       'currency_SSP', 'currency_THB', 'currency_TJS', 'currency_TRY',\n",
       "       'currency_TZS', 'currency_UAH', 'currency_UGX', 'currency_USD',\n",
       "       'currency_VND', 'currency_WST', 'currency_XAF', 'currency_XCD',\n",
       "       'currency_XOF', 'currency_YER', 'currency_ZAR', 'currency_ZMW',\n",
       "       'repayment_interval_bullet', 'repayment_interval_irregular',\n",
       "       'repayment_interval_monthly', 'repayment_interval_weekly'],\n",
       "      dtype='object')"
      ]
     },
     "execution_count": 21,
     "metadata": {},
     "output_type": "execute_result"
    }
   ],
   "source": [
    "# 既存のカテゴリ変数の列を削除\n",
    "nn_X_train_std_dummy = nn_X_train_std.drop(cat_cols, axis=1)\n",
    "\n",
    "# ダミー変数化した後のカテゴリ変数の列を追加\n",
    "for j, column in enumerate(new_columns):\n",
    "    nn_X_train_std_dummy[column] = encoded_cols_train[:,j]\n",
    "\n",
    "# ダミー変数化により列が増えたことを確認\n",
    "nn_X_train_std_dummy.columns"
   ]
  },
  {
   "cell_type": "markdown",
   "metadata": {},
   "source": [
    "- 以上で今回行う前処理は終了\n",
    "- 特徴選択はまだ行わない（埋め込み法を用いるため）\n",
    "\n"
   ]
  },
  {
   "cell_type": "markdown",
   "metadata": {},
   "source": [
    "## 6. [参考] 前処理後のデータを保存\n",
    "- 前処理後のデータを、別のノートブックでも再利用できるよう保存しておく\n",
    "- 学習用/テスト用の X と y を 1 つにまとめて保存\n",
    "    - dict 型の変数 `saved_data` にまとめる\n",
    "    - 例えば `saved_data[X_train]` には学習データの目的変数を入れる\n"
   ]
  },
  {
   "cell_type": "markdown",
   "metadata": {},
   "source": [
    "### 6-1. 説明変数 X の保存"
   ]
  },
  {
   "cell_type": "code",
   "execution_count": 22,
   "metadata": {},
   "outputs": [
    {
     "name": "stdout",
     "output_type": "stream",
     "text": [
      "X_train: (60894, 84)\n"
     ]
    }
   ],
   "source": [
    "# 変数の初期化\n",
    "saved_data = dict()\n",
    "\n",
    "# 前処理後の説明変数を保存\n",
    "saved_data['X_train'] = nn_X_train_std_dummy\n",
    "print(\"X_train:\", nn_X_train_std_dummy.shape)"
   ]
  },
  {
   "cell_type": "markdown",
   "metadata": {},
   "source": [
    "### 6-2. 目的変数 Y の保存\n",
    "- 外れ値処理の影響で `X_train` は元のデータと比べて行数が減っている\n",
    "- 「`X_train` から削除された行」に対応する `y_train` の行を削除してから保存"
   ]
  },
  {
   "cell_type": "code",
   "execution_count": 23,
   "metadata": {},
   "outputs": [
    {
     "name": "stdout",
     "output_type": "stream",
     "text": [
      "y_tain: (68829,)\n",
      "y_train (extracted): (60894,)\n"
     ]
    }
   ],
   "source": [
    "# 元の y_train の形状を確認\n",
    "print(\"y_tain:\", y_train.shape)\n",
    "\n",
    "# 残っている行に対応するラベルを抽出\n",
    "y_train_std_dummy = y_train[nn_X_train_std_dummy.index]\n",
    "print(\"y_train (extracted):\", y_train_std_dummy.shape)\n",
    "\n",
    "# 前処理後の目的変数を保存\n",
    "saved_data['y_train'] = y_train_std_dummy"
   ]
  },
  {
   "cell_type": "markdown",
   "metadata": {},
   "source": [
    "## 7. モデルの構築・学習\n",
    "- 線形回帰に正則化項を加えたモデルを構築\n"
   ]
  },
  {
   "cell_type": "markdown",
   "metadata": {},
   "source": [
    "### 7-1. モデルの構築\n",
    "- 正則化項に `l2`, `l1`, `elasticnet` を用いたものはそれぞれ `Ridge`, `Lasso`, `ElasticNet` というクラスで実装されている．\n",
    "- ここでは、正則化項の異なる 3 つの線形回帰モデルを作成"
   ]
  },
  {
   "cell_type": "code",
   "execution_count": 24,
   "metadata": {},
   "outputs": [],
   "source": [
    "# 線形回帰（L2正則化）\n",
    "li_l2_reg = Ridge(fit_intercept=True)\n",
    "\n",
    "# 線形回帰（L1正則化）\n",
    "li_l1_reg = Lasso(fit_intercept=True)\n",
    "\n",
    "# 線形回帰（elasticnet）\n",
    "li_el_reg = ElasticNet(fit_intercept=True)"
   ]
  },
  {
   "cell_type": "markdown",
   "metadata": {},
   "source": [
    "### 7-2. 特徴選択（埋め込み法）\n",
    "- 埋め込み法では、特徴選択をモデルの学習のプロセスに埋め込む\n",
    "- 特徴選択のためのクラス（`SelectFromModel`）を初期化する際に、上で定義したモデルを引数として与える"
   ]
  },
  {
   "cell_type": "markdown",
   "metadata": {},
   "source": [
    "#### 7-2-1. 特徴選択用インスタンスを初期化"
   ]
  },
  {
   "cell_type": "code",
   "execution_count": 25,
   "metadata": {},
   "outputs": [],
   "source": [
    "# 各モデルに対する特徴量選択のためのクラスをインスタンス化\n",
    "sel_l2 = SelectFromModel(li_l2_reg)\n",
    "sel_l1 = SelectFromModel(li_l1_reg)\n",
    "sel_el = SelectFromModel(li_el_reg)"
   ]
  },
  {
   "cell_type": "markdown",
   "metadata": {},
   "source": [
    "#### 7-2-2. 特徴量の重要度を算出\n",
    "- SelectFromModel の `fit` メソッドを用いて重要度を求める\n",
    "- ダミー変数の導入などにより、特徴量は 84 次元になっている"
   ]
  },
  {
   "cell_type": "code",
   "execution_count": 26,
   "metadata": {},
   "outputs": [
    {
     "name": "stdout",
     "output_type": "stream",
     "text": [
      "len: 84\n",
      "importances: [ 345.60946334  -73.66374088   -4.0752875    42.392569    -57.99433301\n",
      "   25.02221308  116.08163804 -131.63028817  -44.14572733   19.21734648\n",
      "  -45.66365718  111.48506839  -25.90345358  -74.59009845  -43.70291786\n",
      "  -78.99779193  192.50472002   20.31687011 -128.80720961  -59.40381767\n",
      "  420.77063013  -51.25164438  222.71181689  123.6051175   295.24892089\n",
      "  -29.93459081   94.37789504  163.32724729  -46.65841129  -80.65262022\n",
      "  -10.93114578   -2.68789857  -46.7866458   -76.37376932 -126.66455244\n",
      "  -32.62718507  458.90435324  -14.61195465  -17.89037743 -158.72534881\n",
      "  -37.79738715 -173.17616356  145.12705822 -145.7310617  -158.22141339\n",
      "   96.27662336  380.64978845 -149.30095566 -245.03897693  233.34835495\n",
      "   85.80040961  -76.68197054  -84.62550544  -67.50985621  -84.63299487\n",
      "  -39.21037581    5.46385079 -121.23989051 -128.53895712  -51.39932334\n",
      "  -63.71982185 -150.17039732 -135.15083271  362.2229807   -96.7130503\n",
      "  130.65519015 -153.51052313 -114.07236012  -39.09135943   98.51956433\n",
      " -157.59487373 -112.37270984  -83.3766564  -158.55463178 -191.53197386\n",
      "  333.92639237  -81.28630219  -36.12302498  253.15235318   95.97510452\n",
      "  -86.70491814   51.53261424   37.32016258   -2.14785867]\n"
     ]
    }
   ],
   "source": [
    "# それぞれのモデルで各特徴量に対する重要度を算出\n",
    "sel_l2_fit = sel_l2.fit(nn_X_train_std_dummy, y_train_std_dummy)\n",
    "sel_l1_fit = sel_l1.fit(nn_X_train_std_dummy, y_train_std_dummy)\n",
    "sel_el_fit = sel_el.fit(nn_X_train_std_dummy, y_train_std_dummy)\n",
    "\n",
    "# 84 個の特徴量それぞれの重要度を確認\n",
    "# L2正則化のモデルのみ例示\n",
    "print(f'len: {len(sel_l2_fit.estimator_.coef_)}\\nimportances: {sel_l2_fit.estimator_.coef_}')"
   ]
  },
  {
   "cell_type": "markdown",
   "metadata": {},
   "source": [
    "#### 7-2-3. 特徴量の数を削減\n",
    "- データフレームに対して SelectFromModel の `transform` メソッドを適用\n",
    "- 重要度の値が閾値以下の特徴量を削除\n",
    "\n",
    "※ デフォルトの場合、閾値は重要度の平均値となる"
   ]
  },
  {
   "cell_type": "code",
   "execution_count": 27,
   "metadata": {},
   "outputs": [
    {
     "name": "stdout",
     "output_type": "stream",
     "text": [
      "特徴量選択前の shape: (60894, 84)\n",
      "特徴量選択後の shape (l2): (60894, 33)\n",
      "特徴量選択後の shape (l1): (60894, 18)\n",
      "特徴量選択後の shape (el): (60894, 13)\n"
     ]
    }
   ],
   "source": [
    "# 重要度が閾値以上の列を取り出す\n",
    "nn_X_train_std_dummy_sel_l2 = sel_l2_fit.transform(nn_X_train_std_dummy)\n",
    "nn_X_train_std_dummy_sel_l1 = sel_l1_fit.transform(nn_X_train_std_dummy)\n",
    "nn_X_train_std_dummy_sel_el = sel_el_fit.transform(nn_X_train_std_dummy)\n",
    "\n",
    "# 特徴選択後のデータフレームの形状を確認\n",
    "print(f'特徴量選択前の shape: {nn_X_train_std_dummy.shape}')\n",
    "print(f'特徴量選択後の shape (l2): {nn_X_train_std_dummy_sel_l2.shape}')\n",
    "print(f'特徴量選択後の shape (l1): {nn_X_train_std_dummy_sel_l1.shape}')\n",
    "print(f'特徴量選択後の shape (el): {nn_X_train_std_dummy_sel_el.shape}')"
   ]
  },
  {
   "cell_type": "markdown",
   "metadata": {},
   "source": [
    "- 正則化の種類が違うと、選択される特徴量の数も異なることがわかる．\n",
    "- SelectFromModel をインスタンス化する際に `threshold = \"median\"`（中央値）と設定しておくと、特徴量の数を合わせられる"
   ]
  },
  {
   "cell_type": "markdown",
   "metadata": {},
   "source": [
    "### 7-3. モデルの学習\n",
    "- 特徴選択の結果を踏まえて、ロジスティック回帰モデルを再度学習させる\n",
    "- 学習を行う関数 `fit` には，特徴選択後の変数を引数として与える"
   ]
  },
  {
   "cell_type": "code",
   "execution_count": 28,
   "metadata": {},
   "outputs": [
    {
     "data": {
      "text/html": [
       "<style>#sk-container-id-2 {color: black;}#sk-container-id-2 pre{padding: 0;}#sk-container-id-2 div.sk-toggleable {background-color: white;}#sk-container-id-2 label.sk-toggleable__label {cursor: pointer;display: block;width: 100%;margin-bottom: 0;padding: 0.3em;box-sizing: border-box;text-align: center;}#sk-container-id-2 label.sk-toggleable__label-arrow:before {content: \"▸\";float: left;margin-right: 0.25em;color: #696969;}#sk-container-id-2 label.sk-toggleable__label-arrow:hover:before {color: black;}#sk-container-id-2 div.sk-estimator:hover label.sk-toggleable__label-arrow:before {color: black;}#sk-container-id-2 div.sk-toggleable__content {max-height: 0;max-width: 0;overflow: hidden;text-align: left;background-color: #f0f8ff;}#sk-container-id-2 div.sk-toggleable__content pre {margin: 0.2em;color: black;border-radius: 0.25em;background-color: #f0f8ff;}#sk-container-id-2 input.sk-toggleable__control:checked~div.sk-toggleable__content {max-height: 200px;max-width: 100%;overflow: auto;}#sk-container-id-2 input.sk-toggleable__control:checked~label.sk-toggleable__label-arrow:before {content: \"▾\";}#sk-container-id-2 div.sk-estimator input.sk-toggleable__control:checked~label.sk-toggleable__label {background-color: #d4ebff;}#sk-container-id-2 div.sk-label input.sk-toggleable__control:checked~label.sk-toggleable__label {background-color: #d4ebff;}#sk-container-id-2 input.sk-hidden--visually {border: 0;clip: rect(1px 1px 1px 1px);clip: rect(1px, 1px, 1px, 1px);height: 1px;margin: -1px;overflow: hidden;padding: 0;position: absolute;width: 1px;}#sk-container-id-2 div.sk-estimator {font-family: monospace;background-color: #f0f8ff;border: 1px dotted black;border-radius: 0.25em;box-sizing: border-box;margin-bottom: 0.5em;}#sk-container-id-2 div.sk-estimator:hover {background-color: #d4ebff;}#sk-container-id-2 div.sk-parallel-item::after {content: \"\";width: 100%;border-bottom: 1px solid gray;flex-grow: 1;}#sk-container-id-2 div.sk-label:hover label.sk-toggleable__label {background-color: #d4ebff;}#sk-container-id-2 div.sk-serial::before {content: \"\";position: absolute;border-left: 1px solid gray;box-sizing: border-box;top: 0;bottom: 0;left: 50%;z-index: 0;}#sk-container-id-2 div.sk-serial {display: flex;flex-direction: column;align-items: center;background-color: white;padding-right: 0.2em;padding-left: 0.2em;position: relative;}#sk-container-id-2 div.sk-item {position: relative;z-index: 1;}#sk-container-id-2 div.sk-parallel {display: flex;align-items: stretch;justify-content: center;background-color: white;position: relative;}#sk-container-id-2 div.sk-item::before, #sk-container-id-2 div.sk-parallel-item::before {content: \"\";position: absolute;border-left: 1px solid gray;box-sizing: border-box;top: 0;bottom: 0;left: 50%;z-index: -1;}#sk-container-id-2 div.sk-parallel-item {display: flex;flex-direction: column;z-index: 1;position: relative;background-color: white;}#sk-container-id-2 div.sk-parallel-item:first-child::after {align-self: flex-end;width: 50%;}#sk-container-id-2 div.sk-parallel-item:last-child::after {align-self: flex-start;width: 50%;}#sk-container-id-2 div.sk-parallel-item:only-child::after {width: 0;}#sk-container-id-2 div.sk-dashed-wrapped {border: 1px dashed gray;margin: 0 0.4em 0.5em 0.4em;box-sizing: border-box;padding-bottom: 0.4em;background-color: white;}#sk-container-id-2 div.sk-label label {font-family: monospace;font-weight: bold;display: inline-block;line-height: 1.2em;}#sk-container-id-2 div.sk-label-container {text-align: center;}#sk-container-id-2 div.sk-container {/* jupyter's `normalize.less` sets `[hidden] { display: none; }` but bootstrap.min.css set `[hidden] { display: none !important; }` so we also need the `!important` here to be able to override the default hidden behavior on the sphinx rendered scikit-learn.org. See: https://github.com/scikit-learn/scikit-learn/issues/21755 */display: inline-block !important;position: relative;}#sk-container-id-2 div.sk-text-repr-fallback {display: none;}</style><div id=\"sk-container-id-2\" class=\"sk-top-container\"><div class=\"sk-text-repr-fallback\"><pre>ElasticNet()</pre><b>In a Jupyter environment, please rerun this cell to show the HTML representation or trust the notebook. <br />On GitHub, the HTML representation is unable to render, please try loading this page with nbviewer.org.</b></div><div class=\"sk-container\" hidden><div class=\"sk-item\"><div class=\"sk-estimator sk-toggleable\"><input class=\"sk-toggleable__control sk-hidden--visually\" id=\"sk-estimator-id-2\" type=\"checkbox\" checked><label for=\"sk-estimator-id-2\" class=\"sk-toggleable__label sk-toggleable__label-arrow\">ElasticNet</label><div class=\"sk-toggleable__content\"><pre>ElasticNet()</pre></div></div></div></div></div>"
      ],
      "text/plain": [
       "ElasticNet()"
      ]
     },
     "execution_count": 28,
     "metadata": {},
     "output_type": "execute_result"
    }
   ],
   "source": [
    "# ロジスティック回帰（L2正則化）\n",
    "li_l2_reg.fit(nn_X_train_std_dummy_sel_l2, y_train_std_dummy)\n",
    "\n",
    "# ロジスティック回帰（L1正則化）\n",
    "li_l1_reg.fit(nn_X_train_std_dummy_sel_l1, y_train_std_dummy)\n",
    "\n",
    "# ロジスティック回帰（elasticnet）\n",
    "li_el_reg.fit(nn_X_train_std_dummy_sel_el, y_train_std_dummy)"
   ]
  },
  {
   "cell_type": "markdown",
   "metadata": {},
   "source": [
    "## 8. モデルの評価"
   ]
  },
  {
   "cell_type": "markdown",
   "metadata": {},
   "source": [
    "### 8-1. 学習用データに対する評価"
   ]
  },
  {
   "cell_type": "code",
   "execution_count": 29,
   "metadata": {},
   "outputs": [],
   "source": [
    "# 回帰の性能を表示する関数\n",
    "def print_perf(reg, X, y):\n",
    "    \"\"\"\n",
    "    reg: 回帰器\n",
    "    X: 学習データ\n",
    "    y: 学習データの正解ラベル\n",
    "    \"\"\"\n",
    "    y_pred = reg.predict(X)\n",
    "    mae = mean_absolute_error(y, y_pred)\n",
    "    mse = mean_squared_error(y, y_pred)\n",
    "    rmse = np.sqrt(mse)\n",
    "    r2 = r2_score(y, y_pred)\n",
    "    \n",
    "    print(f'MAE: {mae:.3}')\n",
    "    print(f'MSE: {mse:.3}')\n",
    "    print(f'RMSE: {rmse:.3}')\n",
    "    print(f'R2: {r2:.3}')"
   ]
  },
  {
   "cell_type": "code",
   "execution_count": 30,
   "metadata": {},
   "outputs": [
    {
     "name": "stdout",
     "output_type": "stream",
     "text": [
      "線形回帰（L2 正則化）\n",
      "MAE: 2.09e+02\n",
      "MSE: 8.74e+04\n",
      "RMSE: 2.96e+02\n",
      "R2: 0.55\n",
      "線形回帰（L1 正則化）\n",
      "MAE: 2.02e+02\n",
      "MSE: 8.27e+04\n",
      "RMSE: 2.88e+02\n",
      "R2: 0.574\n",
      "線形回帰（elasticnet）\n",
      "MAE: 2.28e+02\n",
      "MSE: 9.99e+04\n",
      "RMSE: 3.16e+02\n",
      "R2: 0.485\n"
     ]
    }
   ],
   "source": [
    "# 学習用データに対する性能を表示\n",
    "print(\"線形回帰（L2 正則化）\")\n",
    "print_perf(li_l2_reg, nn_X_train_std_dummy_sel_l2, y_train_std_dummy)\n",
    "\n",
    "print(\"線形回帰（L1 正則化）\")\n",
    "print_perf(li_l1_reg, nn_X_train_std_dummy_sel_l1, y_train_std_dummy)\n",
    "\n",
    "print(\"線形回帰（elasticnet）\")\n",
    "print_perf(li_el_reg, nn_X_train_std_dummy_sel_el, y_train_std_dummy)"
   ]
  },
  {
   "cell_type": "markdown",
   "metadata": {},
   "source": [
    "### 8-2. テスト用データに対する前処理\n",
    "- 学習済みモデルにテスト用データを入力するためには、学習用データと同じような前処理を行う必要がある\n",
    "- 例えば標準化を適用する際は、学習データから計算した平均・標準偏差をテストデータに適用して変換する\n",
    "    - テスト用データで計算した平均・標準偏差を使ってしまうと、テスト用データの情報が漏洩していることになり、適切に汎化性能を評価できない\n",
    "\n",
    "- 以下の手順でテストデータにも前処理を適用\n",
    "    - train と同様に不要な列を削除\n",
    "    - train と同様の標準化\n",
    "    - train と同様のダミー変数化\n",
    "    - train と同様の特徴量選択"
   ]
  },
  {
   "cell_type": "markdown",
   "metadata": {},
   "source": [
    "#### 8-2-1. 不要な列の削除"
   ]
  },
  {
   "cell_type": "code",
   "execution_count": 31,
   "metadata": {},
   "outputs": [
    {
     "data": {
      "text/html": [
       "<div>\n",
       "<style scoped>\n",
       "    .dataframe tbody tr th:only-of-type {\n",
       "        vertical-align: middle;\n",
       "    }\n",
       "\n",
       "    .dataframe tbody tr th {\n",
       "        vertical-align: top;\n",
       "    }\n",
       "\n",
       "    .dataframe thead th {\n",
       "        text-align: right;\n",
       "    }\n",
       "</style>\n",
       "<table border=\"1\" class=\"dataframe\">\n",
       "  <thead>\n",
       "    <tr style=\"text-align: right;\">\n",
       "      <th></th>\n",
       "      <th>loan_amount</th>\n",
       "      <th>sector</th>\n",
       "      <th>currency</th>\n",
       "      <th>term_in_months</th>\n",
       "      <th>repayment_interval</th>\n",
       "    </tr>\n",
       "  </thead>\n",
       "  <tbody>\n",
       "    <tr>\n",
       "      <th>51174</th>\n",
       "      <td>250.0</td>\n",
       "      <td>Retail</td>\n",
       "      <td>PHP</td>\n",
       "      <td>8.0</td>\n",
       "      <td>irregular</td>\n",
       "    </tr>\n",
       "    <tr>\n",
       "      <th>4891</th>\n",
       "      <td>1500.0</td>\n",
       "      <td>Retail</td>\n",
       "      <td>USD</td>\n",
       "      <td>14.0</td>\n",
       "      <td>monthly</td>\n",
       "    </tr>\n",
       "    <tr>\n",
       "      <th>31353</th>\n",
       "      <td>2000.0</td>\n",
       "      <td>Personal Use</td>\n",
       "      <td>USD</td>\n",
       "      <td>40.0</td>\n",
       "      <td>monthly</td>\n",
       "    </tr>\n",
       "    <tr>\n",
       "      <th>90949</th>\n",
       "      <td>1500.0</td>\n",
       "      <td>Personal Use</td>\n",
       "      <td>AMD</td>\n",
       "      <td>26.0</td>\n",
       "      <td>monthly</td>\n",
       "    </tr>\n",
       "    <tr>\n",
       "      <th>42526</th>\n",
       "      <td>400.0</td>\n",
       "      <td>Food</td>\n",
       "      <td>USD</td>\n",
       "      <td>14.0</td>\n",
       "      <td>monthly</td>\n",
       "    </tr>\n",
       "  </tbody>\n",
       "</table>\n",
       "</div>"
      ],
      "text/plain": [
       "       loan_amount        sector currency  term_in_months repayment_interval\n",
       "51174        250.0        Retail      PHP             8.0          irregular\n",
       "4891        1500.0        Retail      USD            14.0            monthly\n",
       "31353       2000.0  Personal Use      USD            40.0            monthly\n",
       "90949       1500.0  Personal Use      AMD            26.0            monthly\n",
       "42526        400.0          Food      USD            14.0            monthly"
      ]
     },
     "execution_count": 31,
     "metadata": {},
     "output_type": "execute_result"
    }
   ],
   "source": [
    "# train で削除したものと同じ列を削除\n",
    "X_test_rm = X_test.drop(columns=removed_cols, axis=1)\n",
    "X_test_rm.head()"
   ]
  },
  {
   "cell_type": "markdown",
   "metadata": {},
   "source": [
    "#### 8-2-2. 標準化"
   ]
  },
  {
   "cell_type": "code",
   "execution_count": 32,
   "metadata": {},
   "outputs": [
    {
     "data": {
      "text/html": [
       "<div>\n",
       "<style scoped>\n",
       "    .dataframe tbody tr th:only-of-type {\n",
       "        vertical-align: middle;\n",
       "    }\n",
       "\n",
       "    .dataframe tbody tr th {\n",
       "        vertical-align: top;\n",
       "    }\n",
       "\n",
       "    .dataframe thead th {\n",
       "        text-align: right;\n",
       "    }\n",
       "</style>\n",
       "<table border=\"1\" class=\"dataframe\">\n",
       "  <thead>\n",
       "    <tr style=\"text-align: right;\">\n",
       "      <th></th>\n",
       "      <th>loan_amount</th>\n",
       "      <th>term_in_months</th>\n",
       "    </tr>\n",
       "  </thead>\n",
       "  <tbody>\n",
       "    <tr>\n",
       "      <th>count</th>\n",
       "      <td>29499.000000</td>\n",
       "      <td>29499.000000</td>\n",
       "    </tr>\n",
       "    <tr>\n",
       "      <th>mean</th>\n",
       "      <td>0.617376</td>\n",
       "      <td>0.252599</td>\n",
       "    </tr>\n",
       "    <tr>\n",
       "      <th>std</th>\n",
       "      <td>2.657267</td>\n",
       "      <td>1.577734</td>\n",
       "    </tr>\n",
       "    <tr>\n",
       "      <th>min</th>\n",
       "      <td>-1.397368</td>\n",
       "      <td>-2.418155</td>\n",
       "    </tr>\n",
       "    <tr>\n",
       "      <th>25%</th>\n",
       "      <td>-0.737033</td>\n",
       "      <td>-0.610763</td>\n",
       "    </tr>\n",
       "    <tr>\n",
       "      <th>50%</th>\n",
       "      <td>-0.123865</td>\n",
       "      <td>-0.068545</td>\n",
       "    </tr>\n",
       "    <tr>\n",
       "      <th>75%</th>\n",
       "      <td>0.866637</td>\n",
       "      <td>1.015890</td>\n",
       "    </tr>\n",
       "    <tr>\n",
       "      <th>max</th>\n",
       "      <td>92.889009</td>\n",
       "      <td>23.608296</td>\n",
       "    </tr>\n",
       "  </tbody>\n",
       "</table>\n",
       "</div>"
      ],
      "text/plain": [
       "        loan_amount  term_in_months\n",
       "count  29499.000000    29499.000000\n",
       "mean       0.617376        0.252599\n",
       "std        2.657267        1.577734\n",
       "min       -1.397368       -2.418155\n",
       "25%       -0.737033       -0.610763\n",
       "50%       -0.123865       -0.068545\n",
       "75%        0.866637        1.015890\n",
       "max       92.889009       23.608296"
      ]
     },
     "execution_count": 32,
     "metadata": {},
     "output_type": "execute_result"
    }
   ],
   "source": [
    "# 標準化後のdfを入れる変数\n",
    "# 値を上書きしないようにcopy()を使用\n",
    "X_test_std = X_test_rm.copy()\n",
    "\n",
    "# 標準化の実行\n",
    "# trainにおける平均と標準偏差を再利用\n",
    "std_cols = sc_train.transform(X_test[scaled_columns])\n",
    "\n",
    "# 結果を新たなdfに代入\n",
    "X_test_std[scaled_columns]  = std_cols\n",
    "\n",
    "# 標準化後の平均と標準偏差を確認\n",
    "# テストデータの平均と標準偏差を使っているわけではないため\n",
    "# mean=0, std=1 にはならない\n",
    "X_test_std.describe()"
   ]
  },
  {
   "cell_type": "markdown",
   "metadata": {},
   "source": [
    "#### 8-2-3. One-hot エンコーディング"
   ]
  },
  {
   "cell_type": "code",
   "execution_count": 33,
   "metadata": {},
   "outputs": [
    {
     "data": {
      "text/plain": [
       "Index(['loan_amount', 'term_in_months', 'sector_Agriculture', 'sector_Arts',\n",
       "       'sector_Clothing', 'sector_Construction', 'sector_Education',\n",
       "       'sector_Entertainment', 'sector_Food', 'sector_Health',\n",
       "       'sector_Housing', 'sector_Manufacturing', 'sector_Personal Use',\n",
       "       'sector_Retail', 'sector_Services', 'sector_Transportation',\n",
       "       'sector_Wholesale', 'currency_ALL', 'currency_AMD', 'currency_AZN',\n",
       "       'currency_BIF', 'currency_BOB', 'currency_BRL', 'currency_BZD',\n",
       "       'currency_CNY', 'currency_COP', 'currency_CRC', 'currency_DOP',\n",
       "       'currency_EGP', 'currency_EUR', 'currency_GEL', 'currency_GHS',\n",
       "       'currency_GTQ', 'currency_HNL', 'currency_HTG', 'currency_IDR',\n",
       "       'currency_ILS', 'currency_INR', 'currency_JOD', 'currency_KES',\n",
       "       'currency_KGS', 'currency_KHR', 'currency_LAK', 'currency_LBP',\n",
       "       'currency_LRD', 'currency_LSL', 'currency_MDL', 'currency_MGA',\n",
       "       'currency_MMK', 'currency_MNT', 'currency_MWK', 'currency_MXN',\n",
       "       'currency_MZN', 'currency_NGN', 'currency_NIO', 'currency_NPR',\n",
       "       'currency_PEN', 'currency_PHP', 'currency_PKR', 'currency_PYG',\n",
       "       'currency_RWF', 'currency_SBD', 'currency_SLL', 'currency_SRD',\n",
       "       'currency_SSP', 'currency_THB', 'currency_TJS', 'currency_TRY',\n",
       "       'currency_TZS', 'currency_UAH', 'currency_UGX', 'currency_USD',\n",
       "       'currency_VND', 'currency_WST', 'currency_XAF', 'currency_XCD',\n",
       "       'currency_XOF', 'currency_YER', 'currency_ZAR', 'currency_ZMW',\n",
       "       'repayment_interval_bullet', 'repayment_interval_irregular',\n",
       "       'repayment_interval_monthly', 'repayment_interval_weekly'],\n",
       "      dtype='object')"
      ]
     },
     "execution_count": 33,
     "metadata": {},
     "output_type": "execute_result"
    }
   ],
   "source": [
    "# One-hotエンコーディングを実行\n",
    "encoded_cols_test = ohe.transform(X_test_std[cat_cols])\n",
    "# 型が float64 になっているため、int に変換(値は0 or 1)\n",
    "encoded_cols_test = np.array(encoded_cols_test, dtype=int) \n",
    "\n",
    "# 既存のカテゴリ変数の列を削除\n",
    "X_test_std_dummy = X_test_std.drop(cat_cols, axis=1)\n",
    "# ダミー変数化した後のカテゴリ変数の列を追加\n",
    "for j,column in enumerate(new_columns):\n",
    "    X_test_std_dummy[column] = encoded_cols_test[:,j]\n",
    "    \n",
    "# ダミー変数化により列が増えたことを確認\n",
    "X_test_std_dummy.columns"
   ]
  },
  {
   "cell_type": "markdown",
   "metadata": {},
   "source": [
    "#### 8-2-4. 特徴選択\n",
    "- 学習用データにおいて選択したものと同じ特徴量のみを使う"
   ]
  },
  {
   "cell_type": "code",
   "execution_count": 34,
   "metadata": {},
   "outputs": [
    {
     "name": "stdout",
     "output_type": "stream",
     "text": [
      "特徴量選択前の shape: (29499, 84)\n",
      "特徴量選択後の shape (l2): (29499, 33)\n",
      "特徴量選択後の shape (l1): (29499, 18)\n",
      "特徴量選択後の shape (el): (29499, 13)\n"
     ]
    }
   ],
   "source": [
    "# 元々の列のリスト(84個)\n",
    "ori_cols = X_test_std_dummy.columns\n",
    "\n",
    "# L2 のモデルで選ばれた列のリスト\n",
    "sel_l2_cols = ori_cols[sel_l2_fit.get_support()] \n",
    "# L1 のモデルで選ばれた列のリスト\n",
    "sel_l1_cols = ori_cols[sel_l1_fit.get_support()]\n",
    "# elasticnet のモデルで選ばれた列のリスト\n",
    "sel_el_cols = ori_cols[sel_el_fit.get_support()]\n",
    "\n",
    "# 選択された列のみを元のデータフレームから取り出す\n",
    "# np.array に変換しておくと、予測の際に Warning が発生せずに済む\n",
    "X_test_std_dummy_sel_l2 = np.array(X_test_std_dummy[sel_l2_cols])\n",
    "X_test_std_dummy_sel_l1 = np.array(X_test_std_dummy[sel_l1_cols])\n",
    "X_test_std_dummy_sel_el = np.array(X_test_std_dummy[sel_el_cols])\n",
    "\n",
    "# 特徴選択後のデータフレームの形状を確認\n",
    "print(f'特徴量選択前の shape: {X_test_std_dummy.shape}')\n",
    "print(f'特徴量選択後の shape (l2): {X_test_std_dummy_sel_l2.shape}')\n",
    "print(f'特徴量選択後の shape (l1): {X_test_std_dummy_sel_l1.shape}')\n",
    "print(f'特徴量選択後の shape (el): {X_test_std_dummy_sel_el.shape}')"
   ]
  },
  {
   "cell_type": "markdown",
   "metadata": {},
   "source": [
    "### 8-3. 前処理後のデータを保存\n",
    "- テスト用データについても、他のノートブックで再利用できるように保存しておく\n",
    "- 特徴選択の直前におけるテストデータを保存する\n",
    "    - 埋め込み法による特徴選択の結果は、使用するモデルに依存するため"
   ]
  },
  {
   "cell_type": "code",
   "execution_count": 35,
   "metadata": {},
   "outputs": [
    {
     "name": "stdout",
     "output_type": "stream",
     "text": [
      "X_test: (29499, 84)\n",
      "y_test: (29499,)\n"
     ]
    }
   ],
   "source": [
    "# 説明変数Xを保存\n",
    "# 標準化とダミー変数化のみを行ったもの\n",
    "saved_data['X_test'] = X_test_std_dummy \n",
    "print(\"X_test:\", X_test_std_dummy.shape)\n",
    "\n",
    "# 目的変数yを保存\n",
    "# 行の削除を行う必要はない\n",
    "saved_data['y_test'] = y_test\n",
    "print(\"y_test:\", y_test.shape)"
   ]
  },
  {
   "cell_type": "markdown",
   "metadata": {},
   "source": [
    "- 以上でテストデータに対する前処理は完了\n",
    "- 先ほどの学習済みモデルを用いて、テストデータに対する性能を評価する"
   ]
  },
  {
   "cell_type": "markdown",
   "metadata": {},
   "source": [
    "### 8-4. テスト用データに対する評価"
   ]
  },
  {
   "cell_type": "code",
   "execution_count": 36,
   "metadata": {},
   "outputs": [
    {
     "name": "stdout",
     "output_type": "stream",
     "text": [
      "線形回帰（L2 正則化）\n",
      "MAE: 3.2e+02\n",
      "MSE: 4.51e+05\n",
      "RMSE: 6.72e+02\n",
      "R2: 0.535\n",
      "線形回帰（L1 正則化）\n",
      "MAE: 3.16e+02\n",
      "MSE: 4.49e+05\n",
      "RMSE: 6.7e+02\n",
      "R2: 0.538\n",
      "線形回帰（elasticnet）\n",
      "MAE: 3.46e+02\n",
      "MSE: 4.62e+05\n",
      "RMSE: 6.8e+02\n",
      "R2: 0.524\n"
     ]
    }
   ],
   "source": [
    "# 学習データに対する性能を表示\n",
    "print(\"線形回帰（L2 正則化）\")\n",
    "print_perf(li_l2_reg, X_test_std_dummy_sel_l2, y_test)\n",
    "\n",
    "print(\"線形回帰（L1 正則化）\")\n",
    "print_perf(li_l1_reg, X_test_std_dummy_sel_l1, y_test)\n",
    "\n",
    "print(\"線形回帰（elasticnet）\")\n",
    "print_perf(li_el_reg, X_test_std_dummy_sel_el, y_test)"
   ]
  },
  {
   "cell_type": "markdown",
   "metadata": {},
   "source": [
    "## 9. [参考] データの書き出し"
   ]
  },
  {
   "cell_type": "markdown",
   "metadata": {},
   "source": [
    "最後に、前処理後のデータ（`saved_data`）を pkl 形式で保存"
   ]
  },
  {
   "cell_type": "code",
   "execution_count": 37,
   "metadata": {},
   "outputs": [
    {
     "name": "stdout",
     "output_type": "stream",
     "text": [
      "dict_keys(['X_train', 'y_train', 'X_test', 'y_test'])\n"
     ]
    }
   ],
   "source": [
    "print(saved_data.keys())\n",
    "with open('../data/data_regression.pkl', 'wb') as f:\n",
    "    pickle.dump(saved_data, f)"
   ]
  }
 ],
 "metadata": {
  "kernelspec": {
   "display_name": "Python 3 (ipykernel)",
   "language": "python",
   "name": "python3"
  },
  "language_info": {
   "codemirror_mode": {
    "name": "ipython",
    "version": 3
   },
   "file_extension": ".py",
   "mimetype": "text/x-python",
   "name": "python",
   "nbconvert_exporter": "python",
   "pygments_lexer": "ipython3",
   "version": "3.9.0"
  },
  "metadata": {
   "interpreter": {
    "hash": "5cb986100ee81964c031c39812c64a2b330875792219015c5bc5caccc41cbb22"
   }
  }
 },
 "nbformat": 4,
 "nbformat_minor": 2
}
