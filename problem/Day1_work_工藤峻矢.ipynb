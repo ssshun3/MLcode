{
 "cells": [
  {
   "cell_type": "markdown",
   "id": "acc44b90-2b6b-49cf-8c10-eea6932aa603",
   "metadata": {},
   "source": [
    "todo\n",
    "• データの読み込み・探索・可視化\r",
    "    \n",
    "• レコード数、列数、各特徴の型や種類（連続 or 離散）などを把握    \r\n",
    "• 目的変数と説明変数の関係を確認（散布図などのグラフを書こう！）\r\n",
    "• データの前    処理\r\n",
    "• 欠損    値処理\r\n",
    "• 質的変数が存在する場合はダミー変数に変換\r\n",
    "• モ    デルの学習\r\n",
    "• 回帰問題の場合…線形回帰と k近傍法をを    利用してみよう\r\n",
    "• モデルの評価指標の算出"
   ]
  },
  {
   "cell_type": "markdown",
   "id": "e48d3246-12b2-4d6c-9599-8d51d85d4beb",
   "metadata": {},
   "source": [
    "# import"
   ]
  },
  {
   "cell_type": "code",
   "execution_count": 35,
   "id": "2f55f1d6-d2a9-445c-8cb2-2f4a1fdd2b17",
   "metadata": {},
   "outputs": [],
   "source": [
    "%matplotlib inline\n",
    "import pandas as pd\n",
    "import numpy as np\n",
    "import seaborn as sns\n",
    "import matplotlib.pyplot as plt\n",
    "\n",
    "sns.set()\n",
    "\n",
    "# 線形回帰\n",
    "from sklearn.linear_model import LinearRegression\n",
    "# [参考] K近傍法を用いた回帰モデル\n",
    "from sklearn.neighbors import KNeighborsRegressor\n",
    "# 回帰問題の評価指標\n",
    "from sklearn.metrics import mean_absolute_error, mean_squared_error, r2_score"
   ]
  },
  {
   "cell_type": "code",
   "execution_count": 36,
   "id": "3bd9c4b9-0e9c-426c-b49e-d6386dda2991",
   "metadata": {},
   "outputs": [],
   "source": [
    "# データの読み込み"
   ]
  },
  {
   "cell_type": "code",
   "execution_count": 37,
   "id": "25fcc010-e00e-4810-9676-998368160f37",
   "metadata": {},
   "outputs": [
    {
     "data": {
      "text/html": [
       "<div>\n",
       "<style scoped>\n",
       "    .dataframe tbody tr th:only-of-type {\n",
       "        vertical-align: middle;\n",
       "    }\n",
       "\n",
       "    .dataframe tbody tr th {\n",
       "        vertical-align: top;\n",
       "    }\n",
       "\n",
       "    .dataframe thead th {\n",
       "        text-align: right;\n",
       "    }\n",
       "</style>\n",
       "<table border=\"1\" class=\"dataframe\">\n",
       "  <thead>\n",
       "    <tr style=\"text-align: right;\">\n",
       "      <th></th>\n",
       "      <th>funded_amount</th>\n",
       "      <th>loan_amount</th>\n",
       "      <th>activity</th>\n",
       "      <th>sector</th>\n",
       "      <th>use</th>\n",
       "      <th>country_code</th>\n",
       "      <th>country</th>\n",
       "      <th>region</th>\n",
       "      <th>currency</th>\n",
       "      <th>partner_id</th>\n",
       "      <th>posted_time</th>\n",
       "      <th>disbursed_time</th>\n",
       "      <th>funded_time</th>\n",
       "      <th>term_in_months</th>\n",
       "      <th>lender_count</th>\n",
       "      <th>tags</th>\n",
       "      <th>borrower_genders</th>\n",
       "      <th>repayment_interval</th>\n",
       "      <th>funded_state</th>\n",
       "    </tr>\n",
       "  </thead>\n",
       "  <tbody>\n",
       "    <tr>\n",
       "      <th>0</th>\n",
       "      <td>225.0</td>\n",
       "      <td>225.0</td>\n",
       "      <td>Farming</td>\n",
       "      <td>Agriculture</td>\n",
       "      <td>to buy fertilizer and pesticides</td>\n",
       "      <td>PH</td>\n",
       "      <td>Philippines</td>\n",
       "      <td>Getafe, Bohol</td>\n",
       "      <td>PHP</td>\n",
       "      <td>125.0</td>\n",
       "      <td>2015-11-27 06:24:02+00:00</td>\n",
       "      <td>2015-10-27 07:00:00+00:00</td>\n",
       "      <td>2015-12-18 18:55:43+00:00</td>\n",
       "      <td>12.0</td>\n",
       "      <td>9</td>\n",
       "      <td>#Parent, #Vegan, #Woman Owned Biz</td>\n",
       "      <td>female</td>\n",
       "      <td>irregular</td>\n",
       "      <td>1</td>\n",
       "    </tr>\n",
       "  </tbody>\n",
       "</table>\n",
       "</div>"
      ],
      "text/plain": [
       "   funded_amount  loan_amount activity       sector  \\\n",
       "0          225.0        225.0  Farming  Agriculture   \n",
       "\n",
       "                                use country_code      country         region  \\\n",
       "0  to buy fertilizer and pesticides           PH  Philippines  Getafe, Bohol   \n",
       "\n",
       "  currency  partner_id                posted_time             disbursed_time  \\\n",
       "0      PHP       125.0  2015-11-27 06:24:02+00:00  2015-10-27 07:00:00+00:00   \n",
       "\n",
       "                 funded_time  term_in_months  lender_count  \\\n",
       "0  2015-12-18 18:55:43+00:00            12.0             9   \n",
       "\n",
       "                                tags borrower_genders repayment_interval  \\\n",
       "0  #Parent, #Vegan, #Woman Owned Biz           female          irregular   \n",
       "\n",
       "   funded_state  \n",
       "0             1  "
      ]
     },
     "execution_count": 37,
     "metadata": {},
     "output_type": "execute_result"
    }
   ],
   "source": [
    "df = pd.read_csv(\"../../1_data/ch0/kiva_loans.csv\")\n",
    "df.head(1)"
   ]
  },
  {
   "cell_type": "code",
   "execution_count": 38,
   "id": "49de6b82-d298-497c-a2c2-27d156bc7442",
   "metadata": {},
   "outputs": [],
   "source": [
    "# 行数確認\n",
    "print(f\"行数:{df.shape[0]},列数:{df.shape[1]}\")"
   ]
  }
 ],
 "metadata": {
  "kernelspec": {
   "display_name": "Python 3 (ipykernel)",
   "language": "python",
   "name": "python3"
  },
  "language_info": {
   "codemirror_mode": {
    "name": "ipython",
    "version": 3
   },
   "file_extension": ".py",
   "mimetype": "text/x-python",
   "name": "python",
   "nbconvert_exporter": "python",
   "pygments_lexer": "ipython3",
   "version": "3.9.0"
  }
 },
 "nbformat": 4,
 "nbformat_minor": 5
}
