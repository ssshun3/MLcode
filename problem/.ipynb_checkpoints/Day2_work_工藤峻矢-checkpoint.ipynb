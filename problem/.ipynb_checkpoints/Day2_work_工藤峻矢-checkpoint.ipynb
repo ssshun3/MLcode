{
 "cells": [
  {
   "cell_type": "code",
   "execution_count": 2,
   "metadata": {},
   "outputs": [],
   "source": [
    "import numpy as np\n",
    "import pandas as pd\n",
    "import matplotlib.pyplot as plt\n",
    "import seaborn as sns\n",
    "sns.set()\n",
    "\n",
    "# 学習用データとテスト用データの分割\n",
    "from sklearn.model_selection import train_test_split \n",
    "# 標準化と one-hot encoding\n",
    "from sklearn.preprocessing import StandardScaler, OneHotEncoder \n",
    "\n",
    "# 線形回帰モデル\n",
    "from sklearn.linear_model import Ridge, Lasso, ElasticNet \n",
    "# 埋め込み法による特徴選択\n",
    "from sklearn.feature_selection import SelectFromModel\n",
    "# 回帰問題の評価指標\n",
    "from sklearn.metrics import mean_absolute_error, mean_squared_error, r2_score\n",
    "\n",
    "# [参考] データをpkl形式で保存\n",
    "import pickle"
   ]
  },
  {
   "cell_type": "code",
   "execution_count": 3,
   "metadata": {},
   "outputs": [
    {
     "data": {
      "text/html": [
       "<div>\n",
       "<style scoped>\n",
       "    .dataframe tbody tr th:only-of-type {\n",
       "        vertical-align: middle;\n",
       "    }\n",
       "\n",
       "    .dataframe tbody tr th {\n",
       "        vertical-align: top;\n",
       "    }\n",
       "\n",
       "    .dataframe thead th {\n",
       "        text-align: right;\n",
       "    }\n",
       "</style>\n",
       "<table border=\"1\" class=\"dataframe\">\n",
       "  <thead>\n",
       "    <tr style=\"text-align: right;\">\n",
       "      <th></th>\n",
       "      <th>funded_amount</th>\n",
       "      <th>loan_amount</th>\n",
       "      <th>activity</th>\n",
       "      <th>sector</th>\n",
       "      <th>use</th>\n",
       "      <th>country_code</th>\n",
       "      <th>country</th>\n",
       "      <th>region</th>\n",
       "      <th>currency</th>\n",
       "      <th>partner_id</th>\n",
       "      <th>posted_time</th>\n",
       "      <th>disbursed_time</th>\n",
       "      <th>funded_time</th>\n",
       "      <th>term_in_months</th>\n",
       "      <th>lender_count</th>\n",
       "      <th>tags</th>\n",
       "      <th>borrower_genders</th>\n",
       "      <th>repayment_interval</th>\n",
       "      <th>funded_state</th>\n",
       "    </tr>\n",
       "  </thead>\n",
       "  <tbody>\n",
       "    <tr>\n",
       "      <th>0</th>\n",
       "      <td>225.0</td>\n",
       "      <td>225.0</td>\n",
       "      <td>Farming</td>\n",
       "      <td>Agriculture</td>\n",
       "      <td>to buy fertilizer and pesticides</td>\n",
       "      <td>PH</td>\n",
       "      <td>Philippines</td>\n",
       "      <td>Getafe, Bohol</td>\n",
       "      <td>PHP</td>\n",
       "      <td>125.0</td>\n",
       "      <td>2015-11-27 06:24:02+00:00</td>\n",
       "      <td>2015-10-27 07:00:00+00:00</td>\n",
       "      <td>2015-12-18 18:55:43+00:00</td>\n",
       "      <td>12.0</td>\n",
       "      <td>9</td>\n",
       "      <td>#Parent, #Vegan, #Woman Owned Biz</td>\n",
       "      <td>female</td>\n",
       "      <td>irregular</td>\n",
       "      <td>1</td>\n",
       "    </tr>\n",
       "    <tr>\n",
       "      <th>1</th>\n",
       "      <td>600.0</td>\n",
       "      <td>600.0</td>\n",
       "      <td>Higher education costs</td>\n",
       "      <td>Education</td>\n",
       "      <td>to make tuition payments toward his degree</td>\n",
       "      <td>PY</td>\n",
       "      <td>Paraguay</td>\n",
       "      <td>Villarrica</td>\n",
       "      <td>PYG</td>\n",
       "      <td>58.0</td>\n",
       "      <td>2015-08-25 03:12:38+00:00</td>\n",
       "      <td>2015-07-24 07:00:00+00:00</td>\n",
       "      <td>2015-09-10 20:28:20+00:00</td>\n",
       "      <td>15.0</td>\n",
       "      <td>7</td>\n",
       "      <td>#Schooling</td>\n",
       "      <td>male</td>\n",
       "      <td>monthly</td>\n",
       "      <td>1</td>\n",
       "    </tr>\n",
       "    <tr>\n",
       "      <th>2</th>\n",
       "      <td>1800.0</td>\n",
       "      <td>1800.0</td>\n",
       "      <td>Fishing</td>\n",
       "      <td>Food</td>\n",
       "      <td>to purchase a used outboard motor to go into d...</td>\n",
       "      <td>BO</td>\n",
       "      <td>Bolivia</td>\n",
       "      <td>El Alto</td>\n",
       "      <td>USD</td>\n",
       "      <td>110.0</td>\n",
       "      <td>2016-07-18 15:54:54+00:00</td>\n",
       "      <td>2016-07-14 07:00:00+00:00</td>\n",
       "      <td>2016-08-17 20:08:52+00:00</td>\n",
       "      <td>26.0</td>\n",
       "      <td>69</td>\n",
       "      <td>#Biz Durable Asset, #Repeat Borrower, #Elderly...</td>\n",
       "      <td>male</td>\n",
       "      <td>monthly</td>\n",
       "      <td>1</td>\n",
       "    </tr>\n",
       "    <tr>\n",
       "      <th>3</th>\n",
       "      <td>2225.0</td>\n",
       "      <td>2350.0</td>\n",
       "      <td>Agriculture</td>\n",
       "      <td>Agriculture</td>\n",
       "      <td>to buy sheep for fattening up and resale</td>\n",
       "      <td>KG</td>\n",
       "      <td>Kyrgyzstan</td>\n",
       "      <td>Kulanak village</td>\n",
       "      <td>KGS</td>\n",
       "      <td>171.0</td>\n",
       "      <td>2015-03-30 05:18:10+00:00</td>\n",
       "      <td>2015-02-27 08:00:00+00:00</td>\n",
       "      <td>NaN</td>\n",
       "      <td>14.0</td>\n",
       "      <td>24</td>\n",
       "      <td>#Animals, #Parent, user_favorite, user_favorite</td>\n",
       "      <td>female</td>\n",
       "      <td>monthly</td>\n",
       "      <td>0</td>\n",
       "    </tr>\n",
       "    <tr>\n",
       "      <th>4</th>\n",
       "      <td>325.0</td>\n",
       "      <td>325.0</td>\n",
       "      <td>Personal Housing Expenses</td>\n",
       "      <td>Housing</td>\n",
       "      <td>to build a sanitary toilet for her family.</td>\n",
       "      <td>PH</td>\n",
       "      <td>Philippines</td>\n",
       "      <td>Sagay, Negros Occidental</td>\n",
       "      <td>PHP</td>\n",
       "      <td>145.0</td>\n",
       "      <td>2016-06-24 01:58:41+00:00</td>\n",
       "      <td>2016-05-25 07:00:00+00:00</td>\n",
       "      <td>2016-07-02 13:42:13+00:00</td>\n",
       "      <td>14.0</td>\n",
       "      <td>9</td>\n",
       "      <td>user_favorite</td>\n",
       "      <td>female</td>\n",
       "      <td>irregular</td>\n",
       "      <td>1</td>\n",
       "    </tr>\n",
       "  </tbody>\n",
       "</table>\n",
       "</div>"
      ],
      "text/plain": [
       "   funded_amount  loan_amount                   activity       sector  \\\n",
       "0          225.0        225.0                    Farming  Agriculture   \n",
       "1          600.0        600.0     Higher education costs    Education   \n",
       "2         1800.0       1800.0                    Fishing         Food   \n",
       "3         2225.0       2350.0                Agriculture  Agriculture   \n",
       "4          325.0        325.0  Personal Housing Expenses      Housing   \n",
       "\n",
       "                                                 use country_code  \\\n",
       "0                   to buy fertilizer and pesticides           PH   \n",
       "1         to make tuition payments toward his degree           PY   \n",
       "2  to purchase a used outboard motor to go into d...           BO   \n",
       "3           to buy sheep for fattening up and resale           KG   \n",
       "4         to build a sanitary toilet for her family.           PH   \n",
       "\n",
       "       country                    region currency  partner_id  \\\n",
       "0  Philippines             Getafe, Bohol      PHP       125.0   \n",
       "1     Paraguay                Villarrica      PYG        58.0   \n",
       "2      Bolivia                   El Alto      USD       110.0   \n",
       "3   Kyrgyzstan           Kulanak village      KGS       171.0   \n",
       "4  Philippines  Sagay, Negros Occidental      PHP       145.0   \n",
       "\n",
       "                 posted_time             disbursed_time  \\\n",
       "0  2015-11-27 06:24:02+00:00  2015-10-27 07:00:00+00:00   \n",
       "1  2015-08-25 03:12:38+00:00  2015-07-24 07:00:00+00:00   \n",
       "2  2016-07-18 15:54:54+00:00  2016-07-14 07:00:00+00:00   \n",
       "3  2015-03-30 05:18:10+00:00  2015-02-27 08:00:00+00:00   \n",
       "4  2016-06-24 01:58:41+00:00  2016-05-25 07:00:00+00:00   \n",
       "\n",
       "                 funded_time  term_in_months  lender_count  \\\n",
       "0  2015-12-18 18:55:43+00:00            12.0             9   \n",
       "1  2015-09-10 20:28:20+00:00            15.0             7   \n",
       "2  2016-08-17 20:08:52+00:00            26.0            69   \n",
       "3                        NaN            14.0            24   \n",
       "4  2016-07-02 13:42:13+00:00            14.0             9   \n",
       "\n",
       "                                                tags borrower_genders  \\\n",
       "0                  #Parent, #Vegan, #Woman Owned Biz           female   \n",
       "1                                         #Schooling             male   \n",
       "2  #Biz Durable Asset, #Repeat Borrower, #Elderly...             male   \n",
       "3    #Animals, #Parent, user_favorite, user_favorite           female   \n",
       "4                                      user_favorite           female   \n",
       "\n",
       "  repayment_interval  funded_state  \n",
       "0          irregular             1  \n",
       "1            monthly             1  \n",
       "2            monthly             1  \n",
       "3            monthly             0  \n",
       "4          irregular             1  "
      ]
     },
     "execution_count": 3,
     "metadata": {},
     "output_type": "execute_result"
    }
   ],
   "source": [
    "df=pd.read_csv(\"../../1_data/ch0/kiva_loans.csv\")\n",
    "df.head()"
   ]
  },
  {
   "cell_type": "code",
   "execution_count": 4,
   "metadata": {},
   "outputs": [],
   "source": [
    "X=df.drop(\"funded_amount\",axis=1)\n",
    "y=df[\"funded_amount\"]\n",
    "\n",
    "X_train, X_test, y_train, y_test = train_test_split(\n",
    "    X,y,test_size=0.3,random_state=42)"
   ]
  },
  {
   "cell_type": "code",
   "execution_count": 5,
   "metadata": {},
   "outputs": [
    {
     "name": "stdout",
     "output_type": "stream",
     "text": [
      "X_train: (68829, 18)\n",
      "X_test: (29499, 18)\n",
      "y_train: (68829,)\n",
      "y_test: (29499,)\n"
     ]
    }
   ],
   "source": [
    "print(f'X_train: {X_train.shape}')\n",
    "print(f'X_test: {X_test.shape}')\n",
    "print(f'y_train: {y_train.shape}')\n",
    "print(f'y_test: {y_test.shape}')"
   ]
  },
  {
   "cell_type": "code",
   "execution_count": 6,
   "metadata": {},
   "outputs": [
    {
     "data": {
      "text/plain": [
       "loan_amount               0\n",
       "activity                  0\n",
       "sector                    0\n",
       "use                     691\n",
       "country_code              0\n",
       "country                   0\n",
       "region                 8338\n",
       "currency                  0\n",
       "partner_id             2119\n",
       "posted_time               0\n",
       "disbursed_time         1549\n",
       "funded_time           33788\n",
       "term_in_months            0\n",
       "lender_count              0\n",
       "tags                  11885\n",
       "borrower_genders        686\n",
       "repayment_interval        0\n",
       "funded_state              0\n",
       "dtype: int64"
      ]
     },
     "execution_count": 6,
     "metadata": {},
     "output_type": "execute_result"
    }
   ],
   "source": [
    "X_train.isnull().sum()"
   ]
  },
  {
   "cell_type": "markdown",
   "metadata": {},
   "source": [
    "欠損値を含む列を全て削除\n",
    "\n",
    "use, region, partner_id, disbursed_time, funded_time, tags, borrower_genders\n",
    "欠損値処理のひとつ（詳しくは DAY2 で扱う）\n",
    "目的変数そのものの情報を含んでいる変数を削除\n",
    "\n",
    "funded_state には funded_amount の情報が使われているため削除\n",
    "posted_time, lender_count もリーケージ（※）の恐れがあるため削除\n",
    "重複した情報をもつ変数を削除\n",
    "\n",
    "activity は sector をさらに細分化したものであるため、sector を残して activity を削除\n",
    "country, country_code, currency は全て地域を表す変数であるため、currency 以外を削除\n",
    "※リーケージ…本来得られるはずのないデータをモデルの学習時に使用してしまうこと"
   ]
  },
  {
   "cell_type": "code",
   "execution_count": 8,
   "metadata": {},
   "outputs": [
    {
     "data": {
      "text/html": [
       "<div>\n",
       "<style scoped>\n",
       "    .dataframe tbody tr th:only-of-type {\n",
       "        vertical-align: middle;\n",
       "    }\n",
       "\n",
       "    .dataframe tbody tr th {\n",
       "        vertical-align: top;\n",
       "    }\n",
       "\n",
       "    .dataframe thead th {\n",
       "        text-align: right;\n",
       "    }\n",
       "</style>\n",
       "<table border=\"1\" class=\"dataframe\">\n",
       "  <thead>\n",
       "    <tr style=\"text-align: right;\">\n",
       "      <th></th>\n",
       "      <th>loan_amount</th>\n",
       "      <th>sector</th>\n",
       "      <th>currency</th>\n",
       "      <th>term_in_months</th>\n",
       "      <th>repayment_interval</th>\n",
       "    </tr>\n",
       "  </thead>\n",
       "  <tbody>\n",
       "    <tr>\n",
       "      <th>51893</th>\n",
       "      <td>800.0</td>\n",
       "      <td>Food</td>\n",
       "      <td>USD</td>\n",
       "      <td>14.0</td>\n",
       "      <td>monthly</td>\n",
       "    </tr>\n",
       "    <tr>\n",
       "      <th>49251</th>\n",
       "      <td>250.0</td>\n",
       "      <td>Retail</td>\n",
       "      <td>KES</td>\n",
       "      <td>14.0</td>\n",
       "      <td>monthly</td>\n",
       "    </tr>\n",
       "    <tr>\n",
       "      <th>85690</th>\n",
       "      <td>2025.0</td>\n",
       "      <td>Food</td>\n",
       "      <td>VND</td>\n",
       "      <td>17.0</td>\n",
       "      <td>monthly</td>\n",
       "    </tr>\n",
       "    <tr>\n",
       "      <th>4893</th>\n",
       "      <td>675.0</td>\n",
       "      <td>Agriculture</td>\n",
       "      <td>UGX</td>\n",
       "      <td>14.0</td>\n",
       "      <td>irregular</td>\n",
       "    </tr>\n",
       "    <tr>\n",
       "      <th>89919</th>\n",
       "      <td>400.0</td>\n",
       "      <td>Agriculture</td>\n",
       "      <td>KES</td>\n",
       "      <td>14.0</td>\n",
       "      <td>monthly</td>\n",
       "    </tr>\n",
       "  </tbody>\n",
       "</table>\n",
       "</div>"
      ],
      "text/plain": [
       "       loan_amount       sector currency  term_in_months repayment_interval\n",
       "51893        800.0         Food      USD            14.0            monthly\n",
       "49251        250.0       Retail      KES            14.0            monthly\n",
       "85690       2025.0         Food      VND            17.0            monthly\n",
       "4893         675.0  Agriculture      UGX            14.0          irregular\n",
       "89919        400.0  Agriculture      KES            14.0            monthly"
      ]
     },
     "execution_count": 8,
     "metadata": {},
     "output_type": "execute_result"
    }
   ],
   "source": [
    "removed_cols = ['use', 'region', 'partner_id', 'disbursed_time', 'funded_time', 'tags', 'borrower_genders',\\\n",
    "  'funded_state', 'posted_time', 'lender_count', 'activity', 'country', 'country_code']\n",
    "X_train = X_train.drop(columns=removed_cols, axis=1)\n",
    "X_train.head()"
   ]
  },
  {
   "cell_type": "code",
   "execution_count": 9,
   "metadata": {},
   "outputs": [
    {
     "data": {
      "text/plain": [
       "loan_amount           0\n",
       "sector                0\n",
       "currency              0\n",
       "term_in_months        0\n",
       "repayment_interval    0\n",
       "dtype: int64"
      ]
     },
     "execution_count": 9,
     "metadata": {},
     "output_type": "execute_result"
    }
   ],
   "source": [
    "X_train.isnull().sum()"
   ]
  },
  {
   "cell_type": "code",
   "execution_count": 10,
   "metadata": {},
   "outputs": [
    {
     "data": {
      "text/plain": [
       "loan_amount           float64\n",
       "sector                 object\n",
       "currency               object\n",
       "term_in_months        float64\n",
       "repayment_interval     object\n",
       "dtype: object"
      ]
     },
     "execution_count": 10,
     "metadata": {},
     "output_type": "execute_result"
    }
   ],
   "source": [
    "X_train.dtypes"
   ]
  },
  {
   "cell_type": "code",
   "execution_count": 11,
   "metadata": {},
   "outputs": [
    {
     "data": {
      "text/plain": [
       "sector\n",
       "Agriculture       19154\n",
       "Retail            13514\n",
       "Food              12945\n",
       "Services           5055\n",
       "Housing            4433\n",
       "Clothing           3738\n",
       "Personal Use       2973\n",
       "Education          2210\n",
       "Transportation     1915\n",
       "Health              939\n",
       "Arts                822\n",
       "Construction        587\n",
       "Manufacturing       390\n",
       "Entertainment       106\n",
       "Wholesale            48\n",
       "Name: count, dtype: int64"
      ]
     },
     "execution_count": 11,
     "metadata": {},
     "output_type": "execute_result"
    }
   ],
   "source": [
    "X_train[\"sector\"].value_counts()"
   ]
  },
  {
   "cell_type": "code",
   "execution_count": 12,
   "metadata": {},
   "outputs": [
    {
     "data": {
      "text/plain": [
       "repayment_interval\n",
       "monthly      39177\n",
       "irregular    18881\n",
       "bullet       10732\n",
       "weekly          39\n",
       "Name: count, dtype: int64"
      ]
     },
     "execution_count": 12,
     "metadata": {},
     "output_type": "execute_result"
    }
   ],
   "source": [
    "X_train[\"repayment_interval\"].value_counts()"
   ]
  },
  {
   "cell_type": "code",
   "execution_count": 13,
   "metadata": {},
   "outputs": [
    {
     "data": {
      "text/plain": [
       "<AxesSubplot:>"
      ]
     },
     "execution_count": 13,
     "metadata": {},
     "output_type": "execute_result"
    },
    {
     "data": {
      "image/png": "[encoded data removed]",
      "text/plain": [
       "<Figure size 640x480 with 1 Axes>"
      ]
     },
     "metadata": {},
     "output_type": "display_data"
    }
   ],
   "source": [
    "sns.boxplot(data=X_train[\"loan_amount\"])"
   ]
  },
  {
   "cell_type": "code",
   "execution_count": 14,
   "metadata": {},
   "outputs": [
    {
     "data": {
      "text/plain": [
       "<AxesSubplot:>"
      ]
     },
     "execution_count": 14,
     "metadata": {},
     "output_type": "execute_result"
    },
    {
     "data": {
      "image/png": "[encoded data removed]",
      "text/plain": [
       "<Figure size 640x480 with 1 Axes>"
      ]
     },
     "metadata": {},
     "output_type": "display_data"
    }
   ],
   "source": [
    "q1=X_train[\"loan_amount\"].quantile(0.25)\n",
    "q3=X_train[\"loan_amount\"].quantile(0.75)\n",
    "iqr=q3-q1\n",
    "\n",
    "lim_row=q1-1.5*iqr\n",
    "lim_high=q3+1.5*iqr\n",
    "\n",
    "n_X_train=X_train.query(\"@lim_row <= loan_amount <= @lim_high\")\n",
    "\n",
    "sns.boxplot(data=n_X_train[\"loan_amount\"])"
   ]
  },
  {
   "cell_type": "code",
   "execution_count": 15,
   "metadata": {},
   "outputs": [
    {
     "data": {
      "text/plain": [
       "<AxesSubplot:>"
      ]
     },
     "execution_count": 15,
     "metadata": {},
     "output_type": "execute_result"
    },
    {
     "data": {
      "image/png": "[encoded data removed]",
      "text/plain": [
       "<Figure size 640x480 with 1 Axes>"
      ]
     },
     "metadata": {},
     "output_type": "display_data"
    }
   ],
   "source": [
    "sns.boxplot(data=X_train[\"term_in_months\"])"
   ]
  },
  {
   "cell_type": "code",
   "execution_count": 16,
   "metadata": {},
   "outputs": [
    {
     "data": {
      "text/plain": [
       "<AxesSubplot:>"
      ]
     },
     "execution_count": 16,
     "metadata": {},
     "output_type": "execute_result"
    },
    {
     "data": {
      "image/png": "[encoded data removed]",
      "text/plain": [
       "<Figure size 640x480 with 1 Axes>"
      ]
     },
     "metadata": {},
     "output_type": "display_data"
    }
   ],
   "source": [
    "q1=n_X_train[\"term_in_months\"].quantile(0.25)\n",
    "q3=n_X_train[\"term_in_months\"].quantile(0.75)\n",
    "iqr=q3-q1\n",
    "\n",
    "lim_row=q1-1.5*iqr\n",
    "lim_high=q3+1.5*iqr\n",
    "\n",
    "nn_X_train = n_X_train.query(\"@lim_row <= term_in_months <= @lim_high\")\n",
    "sns.boxplot(data=nn_X_train[\"term_in_months\"])"
   ]
  },
  {
   "cell_type": "code",
   "execution_count": 17,
   "metadata": {},
   "outputs": [
    {
     "name": "stdout",
     "output_type": "stream",
     "text": [
      "処理前：(68829, 5)\n",
      "処理後：(60894, 5)\n"
     ]
    }
   ],
   "source": [
    "print(f\"処理前：{X_train.shape}\")\n",
    "print(f\"処理後：{nn_X_train.shape}\")"
   ]
  },
  {
   "cell_type": "markdown",
   "metadata": {},
   "source": [
    "標準化する"
   ]
  },
  {
   "cell_type": "code",
   "execution_count": 19,
   "metadata": {},
   "outputs": [],
   "source": [
    "scaled_columns=[\"loan_amount\",\"term_in_months\"]\n",
    "nn_X_train_std=nn_X_train.copy()\n",
    "std=StandardScaler()\n",
    "sc_train=std.fit(nn_X_train[scaled_columns])\n",
    "std_cols=sc_train.transform(nn_X_train[scaled_columns])\n",
    "\n",
    "nn_X_train_std[scaled_columns] = std_cols"
   ]
  },
  {
   "cell_type": "code",
   "execution_count": 20,
   "metadata": {},
   "outputs": [
    {
     "data": {
      "text/html": [
       "<div>\n",
       "<style scoped>\n",
       "    .dataframe tbody tr th:only-of-type {\n",
       "        vertical-align: middle;\n",
       "    }\n",
       "\n",
       "    .dataframe tbody tr th {\n",
       "        vertical-align: top;\n",
       "    }\n",
       "\n",
       "    .dataframe thead th {\n",
       "        text-align: right;\n",
       "    }\n",
       "</style>\n",
       "<table border=\"1\" class=\"dataframe\">\n",
       "  <thead>\n",
       "    <tr style=\"text-align: right;\">\n",
       "      <th></th>\n",
       "      <th>loan_amount</th>\n",
       "      <th>term_in_months</th>\n",
       "    </tr>\n",
       "  </thead>\n",
       "  <tbody>\n",
       "    <tr>\n",
       "      <th>count</th>\n",
       "      <td>6.089400e+04</td>\n",
       "      <td>6.089400e+04</td>\n",
       "    </tr>\n",
       "    <tr>\n",
       "      <th>mean</th>\n",
       "      <td>5.367518e-18</td>\n",
       "      <td>4.445705e-17</td>\n",
       "    </tr>\n",
       "    <tr>\n",
       "      <th>std</th>\n",
       "      <td>1.000008e+00</td>\n",
       "      <td>1.000008e+00</td>\n",
       "    </tr>\n",
       "    <tr>\n",
       "      <th>min</th>\n",
       "      <td>-1.397368e+00</td>\n",
       "      <td>-2.418155e+00</td>\n",
       "    </tr>\n",
       "    <tr>\n",
       "      <th>25%</th>\n",
       "      <td>-7.841997e-01</td>\n",
       "      <td>-6.107629e-01</td>\n",
       "    </tr>\n",
       "    <tr>\n",
       "      <th>50%</th>\n",
       "      <td>-2.653652e-01</td>\n",
       "      <td>-6.854521e-02</td>\n",
       "    </tr>\n",
       "    <tr>\n",
       "      <th>75%</th>\n",
       "      <td>4.893032e-01</td>\n",
       "      <td>4.736725e-01</td>\n",
       "    </tr>\n",
       "    <tr>\n",
       "      <th>max</th>\n",
       "      <td>3.366476e+00</td>\n",
       "      <td>2.461804e+00</td>\n",
       "    </tr>\n",
       "  </tbody>\n",
       "</table>\n",
       "</div>"
      ],
      "text/plain": [
       "        loan_amount  term_in_months\n",
       "count  6.089400e+04    6.089400e+04\n",
       "mean   5.367518e-18    4.445705e-17\n",
       "std    1.000008e+00    1.000008e+00\n",
       "min   -1.397368e+00   -2.418155e+00\n",
       "25%   -7.841997e-01   -6.107629e-01\n",
       "50%   -2.653652e-01   -6.854521e-02\n",
       "75%    4.893032e-01    4.736725e-01\n",
       "max    3.366476e+00    2.461804e+00"
      ]
     },
     "execution_count": 20,
     "metadata": {},
     "output_type": "execute_result"
    }
   ],
   "source": [
    "nn_X_train_std.describe()"
   ]
  },
  {
   "cell_type": "code",
   "execution_count": 21,
   "metadata": {},
   "outputs": [
    {
     "data": {
      "text/html": [
       "<style>#sk-container-id-1 {color: black;}#sk-container-id-1 pre{padding: 0;}#sk-container-id-1 div.sk-toggleable {background-color: white;}#sk-container-id-1 label.sk-toggleable__label {cursor: pointer;display: block;width: 100%;margin-bottom: 0;padding: 0.3em;box-sizing: border-box;text-align: center;}#sk-container-id-1 label.sk-toggleable__label-arrow:before {content: \"▸\";float: left;margin-right: 0.25em;color: #696969;}#sk-container-id-1 label.sk-toggleable__label-arrow:hover:before {color: black;}#sk-container-id-1 div.sk-estimator:hover label.sk-toggleable__label-arrow:before {color: black;}#sk-container-id-1 div.sk-toggleable__content {max-height: 0;max-width: 0;overflow: hidden;text-align: left;background-color: #f0f8ff;}#sk-container-id-1 div.sk-toggleable__content pre {margin: 0.2em;color: black;border-radius: 0.25em;background-color: #f0f8ff;}#sk-container-id-1 input.sk-toggleable__control:checked~div.sk-toggleable__content {max-height: 200px;max-width: 100%;overflow: auto;}#sk-container-id-1 input.sk-toggleable__control:checked~label.sk-toggleable__label-arrow:before {content: \"▾\";}#sk-container-id-1 div.sk-estimator input.sk-toggleable__control:checked~label.sk-toggleable__label {background-color: #d4ebff;}#sk-container-id-1 div.sk-label input.sk-toggleable__control:checked~label.sk-toggleable__label {background-color: #d4ebff;}#sk-container-id-1 input.sk-hidden--visually {border: 0;clip: rect(1px 1px 1px 1px);clip: rect(1px, 1px, 1px, 1px);height: 1px;margin: -1px;overflow: hidden;padding: 0;position: absolute;width: 1px;}#sk-container-id-1 div.sk-estimator {font-family: monospace;background-color: #f0f8ff;border: 1px dotted black;border-radius: 0.25em;box-sizing: border-box;margin-bottom: 0.5em;}#sk-container-id-1 div.sk-estimator:hover {background-color: #d4ebff;}#sk-container-id-1 div.sk-parallel-item::after {content: \"\";width: 100%;border-bottom: 1px solid gray;flex-grow: 1;}#sk-container-id-1 div.sk-label:hover label.sk-toggleable__label {background-color: #d4ebff;}#sk-container-id-1 div.sk-serial::before {content: \"\";position: absolute;border-left: 1px solid gray;box-sizing: border-box;top: 0;bottom: 0;left: 50%;z-index: 0;}#sk-container-id-1 div.sk-serial {display: flex;flex-direction: column;align-items: center;background-color: white;padding-right: 0.2em;padding-left: 0.2em;position: relative;}#sk-container-id-1 div.sk-item {position: relative;z-index: 1;}#sk-container-id-1 div.sk-parallel {display: flex;align-items: stretch;justify-content: center;background-color: white;position: relative;}#sk-container-id-1 div.sk-item::before, #sk-container-id-1 div.sk-parallel-item::before {content: \"\";position: absolute;border-left: 1px solid gray;box-sizing: border-box;top: 0;bottom: 0;left: 50%;z-index: -1;}#sk-container-id-1 div.sk-parallel-item {display: flex;flex-direction: column;z-index: 1;position: relative;background-color: white;}#sk-container-id-1 div.sk-parallel-item:first-child::after {align-self: flex-end;width: 50%;}#sk-container-id-1 div.sk-parallel-item:last-child::after {align-self: flex-start;width: 50%;}#sk-container-id-1 div.sk-parallel-item:only-child::after {width: 0;}#sk-container-id-1 div.sk-dashed-wrapped {border: 1px dashed gray;margin: 0 0.4em 0.5em 0.4em;box-sizing: border-box;padding-bottom: 0.4em;background-color: white;}#sk-container-id-1 div.sk-label label {font-family: monospace;font-weight: bold;display: inline-block;line-height: 1.2em;}#sk-container-id-1 div.sk-label-container {text-align: center;}#sk-container-id-1 div.sk-container {/* jupyter's `normalize.less` sets `[hidden] { display: none; }` but bootstrap.min.css set `[hidden] { display: none !important; }` so we also need the `!important` here to be able to override the default hidden behavior on the sphinx rendered scikit-learn.org. See: https://github.com/scikit-learn/scikit-learn/issues/21755 */display: inline-block !important;position: relative;}#sk-container-id-1 div.sk-text-repr-fallback {display: none;}</style><div id=\"sk-container-id-1\" class=\"sk-top-container\"><div class=\"sk-text-repr-fallback\"><pre>OneHotEncoder(handle_unknown=&#x27;ignore&#x27;, sparse_output=False)</pre><b>In a Jupyter environment, please rerun this cell to show the HTML representation or trust the notebook. <br />On GitHub, the HTML representation is unable to render, please try loading this page with nbviewer.org.</b></div><div class=\"sk-container\" hidden><div class=\"sk-item\"><div class=\"sk-estimator sk-toggleable\"><input class=\"sk-toggleable__control sk-hidden--visually\" id=\"sk-estimator-id-1\" type=\"checkbox\" checked><label for=\"sk-estimator-id-1\" class=\"sk-toggleable__label sk-toggleable__label-arrow\">OneHotEncoder</label><div class=\"sk-toggleable__content\"><pre>OneHotEncoder(handle_unknown=&#x27;ignore&#x27;, sparse_output=False)</pre></div></div></div></div></div>"
      ],
      "text/plain": [
       "OneHotEncoder(handle_unknown='ignore', sparse_output=False)"
      ]
     },
     "execution_count": 21,
     "metadata": {},
     "output_type": "execute_result"
    }
   ],
   "source": [
    "cat_cols = [\"sector\",\"currency\",\"repayment_interval\"]\n",
    "ohe = OneHotEncoder(handle_unknown=\"ignore\", sparse_output=False)\n",
    "# ohe を学習用データに fit させる\n",
    "ohe.fit(nn_X_train_std[cat_cols])"
   ]
  },
  {
   "cell_type": "code",
   "execution_count": null,
   "metadata": {},
   "outputs": [],
   "source": []
  },
  {
   "cell_type": "code",
   "execution_count": null,
   "metadata": {},
   "outputs": [],
   "source": []
  }
 ],
 "metadata": {
  "kernelspec": {
   "display_name": "Python 3 (ipykernel)",
   "language": "python",
   "name": "python3"
  },
  "language_info": {
   "codemirror_mode": {
    "name": "ipython",
    "version": 3
   },
   "file_extension": ".py",
   "mimetype": "text/x-python",
   "name": "python",
   "nbconvert_exporter": "python",
   "pygments_lexer": "ipython3",
   "version": "3.9.0"
  },
  "metadata": {
   "interpreter": {
    "hash": "5cb986100ee81964c031c39812c64a2b330875792219015c5bc5caccc41cbb22"
   }
  }
 },
 "nbformat": 4,
 "nbformat_minor": 4
}
