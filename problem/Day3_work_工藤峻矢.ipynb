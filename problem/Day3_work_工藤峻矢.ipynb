{
 "cells": [
  {
   "cell_type": "code",
   "execution_count": 7,
   "metadata": {},
   "outputs": [],
   "source": [
    "import numpy as np\n",
    "import pandas as pd\n",
    "import matplotlib.pyplot as plt\n",
    "import seaborn as sns\n",
    "\n",
    "# pkl ファイルの入出力\n",
    "import pickle\n",
    "\n",
    "# ランダムフォレストを用いた回帰モデル\n",
    "from sklearn.ensemble import RandomForestRegressor\n",
    "# 交差検証法とグリッドサーチ\n",
    "from sklearn.model_selection import KFold, GridSearchCV\n",
    "\n",
    "# 回帰問題の評価指標\n",
    "from sklearn.metrics import mean_absolute_error, mean_squared_error, r2_score\n",
    "\n",
    "# 時刻の取得（処理時間の計測）\n",
    "import time"
   ]
  },
  {
   "cell_type": "code",
   "execution_count": 8,
   "metadata": {},
   "outputs": [
    {
     "name": "stdout",
     "output_type": "stream",
     "text": [
      "X_train: (60894, 84)\n",
      "y_train: (60894,)\n",
      "X_test: (29499, 84)\n",
      "y_test: (29499,)\n"
     ]
    }
   ],
   "source": [
    "# pkl ファイルの中身を dict 型の変数として読み込み\n",
    "with open('./data/data_regression.pkl', 'rb') as f:\n",
    "    data = pickle.load(f)\n",
    "\n",
    "# データの形状を確認\n",
    "for k, d in data.items():\n",
    "    print(f'{k}: {d.shape}')\n",
    "    \n",
    "# 配列に分解\n",
    "X_train, y_train, X_test, y_test = \\\n",
    "    data['X_train'], data['y_train'], data['X_test'], data['y_test']"
   ]
  },
  {
   "cell_type": "code",
   "execution_count": 13,
   "metadata": {},
   "outputs": [],
   "source": [
    "kf = KFold(n_splits=5, shuffle=True, random_state=1234)\n",
    "parameters = {\n",
    "    \"n_estimators\":[50, 60, 70, 80,90,100],\n",
    "    \"max_depth\":[5, 10, 50]\n",
    "}\n",
    "\n",
    "rfc = RandomForestRegressor(criterion='squared_error', random_state=1234)\n",
    "\n",
    "grid = GridSearchCV(\n",
    "    rfc,param_grid=parameters, cv=kf,scoring=\"neg_mean_squared_error\",verbose=2\n",
    ")"
   ]
  },
  {
   "cell_type": "code",
   "execution_count": null,
   "metadata": {},
   "outputs": [],
   "source": [
    "start_time=time.pref_counter()\n",
    "grid.fit(X_train,y_train)\n",
    "end_time=time.pref_counter()\n",
    "elapsed_time=end_time-start_time\n",
    "\n",
    "print(f\"done in {elapsed_time} sec.\")"
   ]
  },
  {
   "cell_type": "code",
   "execution_count": 14,
   "metadata": {},
   "outputs": [
    {
     "ename": "AttributeError",
     "evalue": "'GridSearchCV' object has no attribute 'best_params_'",
     "output_type": "error",
     "traceback": [
      "\u001b[1;31m---------------------------------------------------------------------------\u001b[0m",
      "\u001b[1;31mAttributeError\u001b[0m                            Traceback (most recent call last)",
      "Cell \u001b[1;32mIn[14], line 1\u001b[0m\n\u001b[1;32m----> 1\u001b[0m \u001b[43mgrid\u001b[49m\u001b[38;5;241;43m.\u001b[39;49m\u001b[43mbest_params_\u001b[49m\n",
      "\u001b[1;31mAttributeError\u001b[0m: 'GridSearchCV' object has no attribute 'best_params_'"
     ]
    }
   ],
   "source": [
    "grid.best_params_"
   ]
  },
  {
   "cell_type": "code",
   "execution_count": null,
   "metadata": {},
   "outputs": [],
   "source": [
    "def print_pref(reg, x,y):\n",
    "    "
   ]
  }
 ],
 "metadata": {
  "kernelspec": {
   "display_name": "Python 3 (ipykernel)",
   "language": "python",
   "name": "python3"
  },
  "language_info": {
   "codemirror_mode": {
    "name": "ipython",
    "version": 3
   },
   "file_extension": ".py",
   "mimetype": "text/x-python",
   "name": "python",
   "nbconvert_exporter": "python",
   "pygments_lexer": "ipython3",
   "version": "3.9.0"
  },
  "metadata": {
   "interpreter": {
    "hash": "5cb986100ee81964c031c39812c64a2b330875792219015c5bc5caccc41cbb22"
   }
  }
 },
 "nbformat": 4,
 "nbformat_minor": 4
}
