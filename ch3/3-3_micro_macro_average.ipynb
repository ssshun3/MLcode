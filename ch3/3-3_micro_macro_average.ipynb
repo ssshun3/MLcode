{
 "cells": [
  {
   "cell_type": "markdown",
   "metadata": {},
   "source": [
    "# 多クラス分類モデルの評価\n",
    "- scikit-learnを用いたmicro平均、macro平均の求め方を確認しよう"
   ]
  },
  {
   "cell_type": "markdown",
   "metadata": {},
   "source": [
    "## 1. ライブラリの読み込み"
   ]
  },
  {
   "cell_type": "code",
   "execution_count": 1,
   "metadata": {},
   "outputs": [],
   "source": [
    "%matplotlib inline\n",
    "import pandas as pd\n",
    "import numpy as np\n",
    "\n",
    "# データセットを読み込む関数\n",
    "from sklearn.datasets import load_iris\n",
    "\n",
    "# モデルを表すクラス\n",
    "from sklearn.linear_model import SGDClassifier\n",
    "\n",
    "# 分類問題における評価指標の関数\n",
    "from sklearn.metrics import accuracy_score, precision_recall_fscore_support, confusion_matrix\n",
    "from sklearn.metrics import classification_report, balanced_accuracy_score"
   ]
  },
  {
   "cell_type": "markdown",
   "metadata": {},
   "source": [
    "## 2. データの読み込み\n",
    "- [The Iris Dataset](https://scikit-learn.org/stable/auto_examples/datasets/plot_iris_dataset.html)\n",
    "  - アヤメの品種分類のデータセット\n",
    "  - 目的変数（クラス）\n",
    "      - Setosa\n",
    "      - Versicolor\n",
    "      - Virginica\n",
    "  - 説明変数\n",
    "      - Sepal Length（萼片の長さ）\n",
    "      - Sepal Width（萼片の幅）\n",
    "      - Petal Length（花弁の長さ）\n",
    "      - Petal Width（花弁の幅）"
   ]
  },
  {
   "cell_type": "code",
   "execution_count": 2,
   "metadata": {},
   "outputs": [],
   "source": [
    "# アヤメの品種（Setosa, Versicolor, Virginica）を分類する3クラス分類問題\n",
    "iris = load_iris()\n",
    "\n",
    "# 目的変数\n",
    "y = iris.target\n",
    "# 説明変数（萼片の長さ、萼片の幅、花弁の長さ、花弁の幅）\n",
    "X = iris.data \n",
    "\n",
    "# ラベルに対応する文字列のリスト\n",
    "label_txt = iris.target_names"
   ]
  },
  {
   "cell_type": "markdown",
   "metadata": {},
   "source": [
    "## 3. モデルの構築・学習"
   ]
  },
  {
   "cell_type": "code",
   "execution_count": 3,
   "metadata": {},
   "outputs": [
    {
     "data": {
      "text/html": [
       "<style>#sk-container-id-1 {color: black;}#sk-container-id-1 pre{padding: 0;}#sk-container-id-1 div.sk-toggleable {background-color: white;}#sk-container-id-1 label.sk-toggleable__label {cursor: pointer;display: block;width: 100%;margin-bottom: 0;padding: 0.3em;box-sizing: border-box;text-align: center;}#sk-container-id-1 label.sk-toggleable__label-arrow:before {content: \"▸\";float: left;margin-right: 0.25em;color: #696969;}#sk-container-id-1 label.sk-toggleable__label-arrow:hover:before {color: black;}#sk-container-id-1 div.sk-estimator:hover label.sk-toggleable__label-arrow:before {color: black;}#sk-container-id-1 div.sk-toggleable__content {max-height: 0;max-width: 0;overflow: hidden;text-align: left;background-color: #f0f8ff;}#sk-container-id-1 div.sk-toggleable__content pre {margin: 0.2em;color: black;border-radius: 0.25em;background-color: #f0f8ff;}#sk-container-id-1 input.sk-toggleable__control:checked~div.sk-toggleable__content {max-height: 200px;max-width: 100%;overflow: auto;}#sk-container-id-1 input.sk-toggleable__control:checked~label.sk-toggleable__label-arrow:before {content: \"▾\";}#sk-container-id-1 div.sk-estimator input.sk-toggleable__control:checked~label.sk-toggleable__label {background-color: #d4ebff;}#sk-container-id-1 div.sk-label input.sk-toggleable__control:checked~label.sk-toggleable__label {background-color: #d4ebff;}#sk-container-id-1 input.sk-hidden--visually {border: 0;clip: rect(1px 1px 1px 1px);clip: rect(1px, 1px, 1px, 1px);height: 1px;margin: -1px;overflow: hidden;padding: 0;position: absolute;width: 1px;}#sk-container-id-1 div.sk-estimator {font-family: monospace;background-color: #f0f8ff;border: 1px dotted black;border-radius: 0.25em;box-sizing: border-box;margin-bottom: 0.5em;}#sk-container-id-1 div.sk-estimator:hover {background-color: #d4ebff;}#sk-container-id-1 div.sk-parallel-item::after {content: \"\";width: 100%;border-bottom: 1px solid gray;flex-grow: 1;}#sk-container-id-1 div.sk-label:hover label.sk-toggleable__label {background-color: #d4ebff;}#sk-container-id-1 div.sk-serial::before {content: \"\";position: absolute;border-left: 1px solid gray;box-sizing: border-box;top: 0;bottom: 0;left: 50%;z-index: 0;}#sk-container-id-1 div.sk-serial {display: flex;flex-direction: column;align-items: center;background-color: white;padding-right: 0.2em;padding-left: 0.2em;position: relative;}#sk-container-id-1 div.sk-item {position: relative;z-index: 1;}#sk-container-id-1 div.sk-parallel {display: flex;align-items: stretch;justify-content: center;background-color: white;position: relative;}#sk-container-id-1 div.sk-item::before, #sk-container-id-1 div.sk-parallel-item::before {content: \"\";position: absolute;border-left: 1px solid gray;box-sizing: border-box;top: 0;bottom: 0;left: 50%;z-index: -1;}#sk-container-id-1 div.sk-parallel-item {display: flex;flex-direction: column;z-index: 1;position: relative;background-color: white;}#sk-container-id-1 div.sk-parallel-item:first-child::after {align-self: flex-end;width: 50%;}#sk-container-id-1 div.sk-parallel-item:last-child::after {align-self: flex-start;width: 50%;}#sk-container-id-1 div.sk-parallel-item:only-child::after {width: 0;}#sk-container-id-1 div.sk-dashed-wrapped {border: 1px dashed gray;margin: 0 0.4em 0.5em 0.4em;box-sizing: border-box;padding-bottom: 0.4em;background-color: white;}#sk-container-id-1 div.sk-label label {font-family: monospace;font-weight: bold;display: inline-block;line-height: 1.2em;}#sk-container-id-1 div.sk-label-container {text-align: center;}#sk-container-id-1 div.sk-container {/* jupyter's `normalize.less` sets `[hidden] { display: none; }` but bootstrap.min.css set `[hidden] { display: none !important; }` so we also need the `!important` here to be able to override the default hidden behavior on the sphinx rendered scikit-learn.org. See: https://github.com/scikit-learn/scikit-learn/issues/21755 */display: inline-block !important;position: relative;}#sk-container-id-1 div.sk-text-repr-fallback {display: none;}</style><div id=\"sk-container-id-1\" class=\"sk-top-container\"><div class=\"sk-text-repr-fallback\"><pre>SGDClassifier(loss=&#x27;log_loss&#x27;, max_iter=10000, random_state=1234)</pre><b>In a Jupyter environment, please rerun this cell to show the HTML representation or trust the notebook. <br />On GitHub, the HTML representation is unable to render, please try loading this page with nbviewer.org.</b></div><div class=\"sk-container\" hidden><div class=\"sk-item\"><div class=\"sk-estimator sk-toggleable\"><input class=\"sk-toggleable__control sk-hidden--visually\" id=\"sk-estimator-id-1\" type=\"checkbox\" checked><label for=\"sk-estimator-id-1\" class=\"sk-toggleable__label sk-toggleable__label-arrow\">SGDClassifier</label><div class=\"sk-toggleable__content\"><pre>SGDClassifier(loss=&#x27;log_loss&#x27;, max_iter=10000, random_state=1234)</pre></div></div></div></div></div>"
      ],
      "text/plain": [
       "SGDClassifier(loss='log_loss', max_iter=10000, random_state=1234)"
      ]
     },
     "execution_count": 3,
     "metadata": {},
     "output_type": "execute_result"
    }
   ],
   "source": [
    "# ロジスティック回帰モデルの構築\n",
    "clf = SGDClassifier(loss='log_loss', max_iter=10000, fit_intercept=True, \n",
    "                    random_state=1234, tol=1e-3)\n",
    "\n",
    "# 学習を実行\n",
    "clf.fit(X, y)"
   ]
  },
  {
   "cell_type": "markdown",
   "metadata": {},
   "source": [
    "## 4.混同行列の確認 "
   ]
  },
  {
   "cell_type": "code",
   "execution_count": 4,
   "metadata": {},
   "outputs": [
    {
     "data": {
      "text/html": [
       "<div>\n",
       "<style scoped>\n",
       "    .dataframe tbody tr th:only-of-type {\n",
       "        vertical-align: middle;\n",
       "    }\n",
       "\n",
       "    .dataframe tbody tr th {\n",
       "        vertical-align: top;\n",
       "    }\n",
       "\n",
       "    .dataframe thead th {\n",
       "        text-align: right;\n",
       "    }\n",
       "</style>\n",
       "<table border=\"1\" class=\"dataframe\">\n",
       "  <thead>\n",
       "    <tr style=\"text-align: right;\">\n",
       "      <th></th>\n",
       "      <th>setosa</th>\n",
       "      <th>versicolor</th>\n",
       "      <th>virginica</th>\n",
       "    </tr>\n",
       "  </thead>\n",
       "  <tbody>\n",
       "    <tr>\n",
       "      <th>setosa</th>\n",
       "      <td>50</td>\n",
       "      <td>0</td>\n",
       "      <td>0</td>\n",
       "    </tr>\n",
       "    <tr>\n",
       "      <th>versicolor</th>\n",
       "      <td>41</td>\n",
       "      <td>4</td>\n",
       "      <td>5</td>\n",
       "    </tr>\n",
       "    <tr>\n",
       "      <th>virginica</th>\n",
       "      <td>0</td>\n",
       "      <td>0</td>\n",
       "      <td>50</td>\n",
       "    </tr>\n",
       "  </tbody>\n",
       "</table>\n",
       "</div>"
      ],
      "text/plain": [
       "            setosa  versicolor  virginica\n",
       "setosa          50           0          0\n",
       "versicolor      41           4          5\n",
       "virginica        0           0         50"
      ]
     },
     "execution_count": 4,
     "metadata": {},
     "output_type": "execute_result"
    }
   ],
   "source": [
    "# ラベルを予測\n",
    "y_pred = clf.predict(X)\n",
    "\n",
    "\n",
    "# 予測値と正解のクロス集計（混同行列）\n",
    "conf_mat = confusion_matrix(y, y_pred)\n",
    "conf_mat = pd.DataFrame(conf_mat, \n",
    "                        index=label_txt, \n",
    "                        columns=label_txt)\n",
    "conf_mat"
   ]
  },
  {
   "cell_type": "markdown",
   "metadata": {},
   "source": [
    "## 5. Micro 平均\n",
    "- 全クラスのデータをまとめて扱い、評価指標を求める\n",
    "    - Precision・Recall・F1は、Accuracyと同じ値になるため、計算する意味はない"
   ]
  },
  {
   "cell_type": "code",
   "execution_count": 5,
   "metadata": {
    "scrolled": true
   },
   "outputs": [
    {
     "name": "stdout",
     "output_type": "stream",
     "text": [
      "正解率（Accuracy） = 69.333%\n"
     ]
    }
   ],
   "source": [
    "# 正解率を計算\n",
    "accuracy =  accuracy_score(y, y_pred)\n",
    "print('正解率（Accuracy） = {:.3f}%'.format(100 * accuracy))"
   ]
  },
  {
   "cell_type": "markdown",
   "metadata": {},
   "source": [
    "## 6. Macro 平均\n",
    "- クラスごとに評価指標を計算し、その平均を求める\n",
    "    - [classification_report()](https://scikit-learn.org/stable/modules/generated/sklearn.metrics.classification_report.html)を用いると、簡単に計算できる\n",
    "    - supportは、正解データにおけるクラスごとのデータの個数\n",
    "    - weighted averageは、supportの値を重みとした重みつき平均"
   ]
  },
  {
   "cell_type": "code",
   "execution_count": 6,
   "metadata": {
    "scrolled": true
   },
   "outputs": [
    {
     "name": "stdout",
     "output_type": "stream",
     "text": [
      "              precision    recall  f1-score   support\n",
      "\n",
      "      setosa       0.55      1.00      0.71        50\n",
      "  versicolor       1.00      0.08      0.15        50\n",
      "   virginica       0.91      1.00      0.95        50\n",
      "\n",
      "    accuracy                           0.69       150\n",
      "   macro avg       0.82      0.69      0.60       150\n",
      "weighted avg       0.82      0.69      0.60       150\n",
      "\n"
     ]
    }
   ],
   "source": [
    "# Presicion, Recall, F1, Accuracyをまとめて表示\n",
    "scores = classification_report(y, y_pred, target_names=label_txt)\n",
    "print(scores)"
   ]
  },
  {
   "cell_type": "markdown",
   "metadata": {},
   "source": [
    "## 7. Macro平均（手計算で行う場合）\n",
    "- macro_accuracyは [balanced_accuracy_score()](https://scikit-learn.org/stable/modules/generated/sklearn.metrics.balanced_accuracy_score.html) を用いて計算できる\n",
    "    - 今回はクラスごとのデータサイズに偏りがないため、Micro平均と同じ値になる\n",
    "- それ以外の指標は以下の手順で計算\n",
    "    - [precision_recall_fscore_support()](https://scikit-learn.org/stable/modules/generated/sklearn.metrics.precision_recall_fscore_support.html) で各クラスの指標を求める\n",
    "    - 求めた値の平均を計算\n",
    "\n"
   ]
  },
  {
   "cell_type": "code",
   "execution_count": 7,
   "metadata": {},
   "outputs": [
    {
     "name": "stdout",
     "output_type": "stream",
     "text": [
      "macro-Accuracy = 69.333%\n",
      "macro-Precision = 81.951%\n",
      "macro-Recall = 69.333%\n",
      "macro-F1① = 60.325%\n",
      "macro-F1② = 75.116%\n"
     ]
    }
   ],
   "source": [
    "# macro-Accuracyの計算\n",
    "macro_accuracy = balanced_accuracy_score(y, y_pred)\n",
    "print('macro-Accuracy = {:.3f}%'.format(100 * macro_accuracy))\n",
    "\n",
    "# 各クラスのPrecision, Recall, F1を計算\n",
    "precision, recall, f1_score, _ = precision_recall_fscore_support(y, y_pred)\n",
    "\n",
    "# macro-Precisionの計算\n",
    "macro_precision = np.mean(precision)\n",
    "print('macro-Precision = {:.3f}%'.format(100 * macro_precision))\n",
    "\n",
    "# macro-Recallの計算\n",
    "macro_recall = np.mean(recall)\n",
    "print('macro-Recall = {:.3f}%'.format(100 * macro_recall))\n",
    "\n",
    "# macro-f1の計算①(各クラスのF1を平均する)\n",
    "macro_f1 = np.mean(f1_score)\n",
    "print('macro-F1① = {:.3f}%'.format(100 * macro_f1))\n",
    "\n",
    "# macro-f1の計算②（macro-Recallとmacro-Precisionを用いて計算）\n",
    "macro_f1 = 2*macro_precision*macro_recall/(macro_precision+macro_recall)\n",
    "print('macro-F1② = {:.3f}%'.format(100 * macro_f1))"
   ]
  }
 ],
 "metadata": {
  "kernelspec": {
   "display_name": "Python 3 (ipykernel)",
   "language": "python",
   "name": "python3"
  },
  "language_info": {
   "codemirror_mode": {
    "name": "ipython",
    "version": 3
   },
   "file_extension": ".py",
   "mimetype": "text/x-python",
   "name": "python",
   "nbconvert_exporter": "python",
   "pygments_lexer": "ipython3",
   "version": "3.9.0"
  }
 },
 "nbformat": 4,
 "nbformat_minor": 2
}
