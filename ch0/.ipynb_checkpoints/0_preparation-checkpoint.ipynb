{
 "cells": [
  {
   "cell_type": "markdown",
   "metadata": {},
   "source": [
    "# 環境の事前準備と動作確認\n",
    "- このノートブックのセルをすべてエラーなく実行できれば、事前準備はOK\n",
    "- 実行する際は、実行したい部分（セル）をクリックした後に、ShiftキーとEnterキーを同時押し"
   ]
  },
  {
   "cell_type": "markdown",
   "metadata": {},
   "source": [
    "## 1. 仮想環境が起動していることを確認\n",
    "- コンソール上でコマンド入力前に`(base)`と表示されている場合\n",
    "    - 一旦このノートブックを閉じる\n",
    "    - コンソール上で `conda activate 仮想環境名`を実行し、仮想環境を起動\n",
    "    - コンソール上で `jupyter notebook` を実行し Jupyterを再起動\n",
    "- 仮想環境の起動を確認できたら、2. 以降に進む"
   ]
  },
  {
   "cell_type": "markdown",
   "metadata": {
    "ExecuteTime": {
     "end_time": "2018-03-30T03:25:46.484654Z",
     "start_time": "2018-03-30T03:25:46.471092Z"
    }
   },
   "source": [
    "## 2. 基本的なライブラリの動作確認\n",
    "- ライブラリのバージョンが、指定されたものと一致しているか確認"
   ]
  },
  {
   "cell_type": "code",
   "execution_count": null,
   "metadata": {},
   "outputs": [],
   "source": [
    "import numpy as np\n",
    "print(\"NumPy:\\n\", np.__version__)\n",
    "print(\" 1.23.2であればOK\\n （Macの場合は1.19.5）\")\n",
    "\n",
    "import pandas as pd\n",
    "print(\"\\nPandas:\\n\", pd.__version__)\n",
    "print(\" 2.0.2であればOK\\n （Macの場合は1.4.4）\")\n",
    "\n",
    "import sklearn as sk\n",
    "print(\"\\nscikit-learn:\\n\", sk.__version__)\n",
    "print(\" 1.3.0であればOK\\n （Macの場合は1.1.2）\")\n",
    "\n",
    "import matplotlib as mpl\n",
    "print(\"\\nMatplotlib:\\n\", mpl.__version__)\n",
    "print(\" 3.5.3であればOK\")\n",
    "\n",
    "import seaborn as sns\n",
    "print(\"\\nSeaborn:\\n\", sns.__version__)\n",
    "print(\" 0.12.2であればOK\")\n",
    "\n",
    "\n",
    "import PIL as pil\n",
    "print(\"\\nPillow:\\n\", pil.__version__)\n",
    "print(\" 9.2.0であればOK\")"
   ]
  },
  {
   "cell_type": "markdown",
   "metadata": {},
   "source": [
    "## 3. TensorFlowの動作確認\n"
   ]
  },
  {
   "cell_type": "code",
   "execution_count": null,
   "metadata": {},
   "outputs": [],
   "source": [
    "import tensorflow as tf\n",
    "print(\"TensorFlow:\\n\", tf.__version__)\n",
    "print(\" 2.12.0であればOK\\n （Macの場合は2.4.3）\")"
   ]
  },
  {
   "cell_type": "markdown",
   "metadata": {},
   "source": [
    "## 4. kerasの動作確認"
   ]
  },
  {
   "cell_type": "code",
   "execution_count": null,
   "metadata": {},
   "outputs": [],
   "source": [
    "import keras\n",
    "keras.__version__\n",
    "print(\"Keras:\\n\", keras.__version__)\n",
    "print(\" 2.12.0であればOK\\n （Macの場合は2.4.3）\")"
   ]
  },
  {
   "cell_type": "markdown",
   "metadata": {},
   "source": [
    "## 5. 描画用ライブラリの動作確認\n"
   ]
  },
  {
   "cell_type": "code",
   "execution_count": null,
   "metadata": {
    "ExecuteTime": {
     "end_time": "2018-03-30T03:27:19.014087Z",
     "start_time": "2018-03-30T03:27:19.005961Z"
    }
   },
   "outputs": [],
   "source": [
    "import graphviz\n",
    "print(\"Graphviz:\\n\", graphviz.__version__)\n",
    "print(\" 0.20.1であればOK\")\n",
    "\n",
    "from pydotplus import version as pdp\n",
    "print(\"\\nPyDotPlus:\\n\", pdp.__version__)\n",
    "print(\" 2.0.2であればOK\")"
   ]
  }
 ],
 "metadata": {
  "kernelspec": {
   "display_name": "Python 3 (ipykernel)",
   "language": "python",
   "name": "python3"
  },
  "language_info": {
   "codemirror_mode": {
    "name": "ipython",
    "version": 3
   },
   "file_extension": ".py",
   "mimetype": "text/x-python",
   "name": "python",
   "nbconvert_exporter": "python",
   "pygments_lexer": "ipython3",
   "version": "3.9.0"
  }
 },
 "nbformat": 4,
 "nbformat_minor": 2
}
